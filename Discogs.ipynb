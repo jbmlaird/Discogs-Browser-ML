{
 "cells": [
  {
   "cell_type": "code",
   "execution_count": 1,
   "metadata": {
    "collapsed": true,
    "deletable": true,
    "editable": true
   },
   "outputs": [],
   "source": [
    "import graphlab\n",
    "import requests"
   ]
  },
  {
   "cell_type": "code",
   "execution_count": 2,
   "metadata": {
    "collapsed": false,
    "deletable": true,
    "editable": true
   },
   "outputs": [
    {
     "name": "stdout",
     "output_type": "stream",
     "text": [
      "This non-commercial license of GraphLab Create for academic use is assigned to jbmlaird@gmail.com and will expire on April 20, 2018.\n"
     ]
    },
    {
     "name": "stderr",
     "output_type": "stream",
     "text": [
      "[INFO] graphlab.cython.cy_server: GraphLab Create v2.1 started. Logging: C:\\Users\\j\\AppData\\Local\\Temp\\graphlab_server_1493846878.log.0\n"
     ]
    }
   ],
   "source": [
    "graphlab.set_runtime_config('GRAPHLAB_CACHE_FILE_LOCATIONS', 'G:\\GraphLabTemp') # set cache to external drive"
   ]
  },
  {
   "cell_type": "code",
   "execution_count": 3,
   "metadata": {
    "collapsed": false,
    "deletable": true,
    "editable": true
   },
   "outputs": [
    {
     "data": {
      "text/html": [
       "<pre>Finished parsing file G:\\Git\\DiscogsML\\discogs.csv</pre>"
      ],
      "text/plain": [
       "Finished parsing file G:\\Git\\DiscogsML\\discogs.csv"
      ]
     },
     "metadata": {},
     "output_type": "display_data"
    },
    {
     "data": {
      "text/html": [
       "<pre>Parsing completed. Parsed 100 lines in 0.822325 secs.</pre>"
      ],
      "text/plain": [
       "Parsing completed. Parsed 100 lines in 0.822325 secs."
      ]
     },
     "metadata": {},
     "output_type": "display_data"
    },
    {
     "name": "stdout",
     "output_type": "stream",
     "text": [
      "------------------------------------------------------\n",
      "Inferred types from first 100 line(s) of file as \n",
      "column_type_hints=[long,long,long,long]\n",
      "If parsing fails due to incorrect types, you can correct\n",
      "the inferred type list above and pass it to read_csv in\n",
      "the column_type_hints argument\n",
      "------------------------------------------------------\n"
     ]
    },
    {
     "data": {
      "text/html": [
       "<pre>Read 3167069 lines. Lines per second: 3.02052e+006</pre>"
      ],
      "text/plain": [
       "Read 3167069 lines. Lines per second: 3.02052e+006"
      ]
     },
     "metadata": {},
     "output_type": "display_data"
    },
    {
     "data": {
      "text/html": [
       "<pre>Read 26986418 lines. Lines per second: 4.33232e+006</pre>"
      ],
      "text/plain": [
       "Read 26986418 lines. Lines per second: 4.33232e+006"
      ]
     },
     "metadata": {},
     "output_type": "display_data"
    },
    {
     "data": {
      "text/html": [
       "<pre>Read 50268723 lines. Lines per second: 4.44853e+006</pre>"
      ],
      "text/plain": [
       "Read 50268723 lines. Lines per second: 4.44853e+006"
      ]
     },
     "metadata": {},
     "output_type": "display_data"
    },
    {
     "data": {
      "text/html": [
       "<pre>Read 72792719 lines. Lines per second: 4.4587e+006</pre>"
      ],
      "text/plain": [
       "Read 72792719 lines. Lines per second: 4.4587e+006"
      ]
     },
     "metadata": {},
     "output_type": "display_data"
    },
    {
     "data": {
      "text/html": [
       "<pre>Finished parsing file G:\\Git\\DiscogsML\\discogs.csv</pre>"
      ],
      "text/plain": [
       "Finished parsing file G:\\Git\\DiscogsML\\discogs.csv"
      ]
     },
     "metadata": {},
     "output_type": "display_data"
    },
    {
     "data": {
      "text/html": [
       "<pre>Parsing completed. Parsed 90023677 lines in 19.7178 secs.</pre>"
      ],
      "text/plain": [
       "Parsing completed. Parsed 90023677 lines in 19.7178 secs."
      ]
     },
     "metadata": {},
     "output_type": "display_data"
    }
   ],
   "source": [
    "discogs_frame = graphlab.SFrame('discogs.csv')"
   ]
  },
  {
   "cell_type": "markdown",
   "metadata": {
    "deletable": true,
    "editable": true
   },
   "source": [
    "## Rating: 0 unrated, 1-5 rated\n",
    "\n",
    "## Category: 0 = collection, 1 = wantlist, 2 = for sale"
   ]
  },
  {
   "cell_type": "code",
   "execution_count": 4,
   "metadata": {
    "collapsed": false,
    "deletable": true,
    "editable": true
   },
   "outputs": [
    {
     "data": {
      "text/html": [
       "<div style=\"max-height:1000px;max-width:1500px;overflow:auto;\"><table frame=\"box\" rules=\"cols\">\n",
       "    <tr>\n",
       "        <th style=\"padding-left: 1em; padding-right: 1em; text-align: center\">userId</th>\n",
       "        <th style=\"padding-left: 1em; padding-right: 1em; text-align: center\">releaseId</th>\n",
       "        <th style=\"padding-left: 1em; padding-right: 1em; text-align: center\">rating</th>\n",
       "        <th style=\"padding-left: 1em; padding-right: 1em; text-align: center\">category</th>\n",
       "    </tr>\n",
       "    <tr>\n",
       "        <td style=\"padding-left: 1em; padding-right: 1em; text-align: center; vertical-align: top\">1</td>\n",
       "        <td style=\"padding-left: 1em; padding-right: 1em; text-align: center; vertical-align: top\">31435</td>\n",
       "        <td style=\"padding-left: 1em; padding-right: 1em; text-align: center; vertical-align: top\">0</td>\n",
       "        <td style=\"padding-left: 1em; padding-right: 1em; text-align: center; vertical-align: top\">0</td>\n",
       "    </tr>\n",
       "    <tr>\n",
       "        <td style=\"padding-left: 1em; padding-right: 1em; text-align: center; vertical-align: top\">1</td>\n",
       "        <td style=\"padding-left: 1em; padding-right: 1em; text-align: center; vertical-align: top\">77503</td>\n",
       "        <td style=\"padding-left: 1em; padding-right: 1em; text-align: center; vertical-align: top\">0</td>\n",
       "        <td style=\"padding-left: 1em; padding-right: 1em; text-align: center; vertical-align: top\">0</td>\n",
       "    </tr>\n",
       "    <tr>\n",
       "        <td style=\"padding-left: 1em; padding-right: 1em; text-align: center; vertical-align: top\">1</td>\n",
       "        <td style=\"padding-left: 1em; padding-right: 1em; text-align: center; vertical-align: top\">19282</td>\n",
       "        <td style=\"padding-left: 1em; padding-right: 1em; text-align: center; vertical-align: top\">0</td>\n",
       "        <td style=\"padding-left: 1em; padding-right: 1em; text-align: center; vertical-align: top\">0</td>\n",
       "    </tr>\n",
       "    <tr>\n",
       "        <td style=\"padding-left: 1em; padding-right: 1em; text-align: center; vertical-align: top\">1</td>\n",
       "        <td style=\"padding-left: 1em; padding-right: 1em; text-align: center; vertical-align: top\">71232</td>\n",
       "        <td style=\"padding-left: 1em; padding-right: 1em; text-align: center; vertical-align: top\">0</td>\n",
       "        <td style=\"padding-left: 1em; padding-right: 1em; text-align: center; vertical-align: top\">0</td>\n",
       "    </tr>\n",
       "    <tr>\n",
       "        <td style=\"padding-left: 1em; padding-right: 1em; text-align: center; vertical-align: top\">1</td>\n",
       "        <td style=\"padding-left: 1em; padding-right: 1em; text-align: center; vertical-align: top\">83485</td>\n",
       "        <td style=\"padding-left: 1em; padding-right: 1em; text-align: center; vertical-align: top\">0</td>\n",
       "        <td style=\"padding-left: 1em; padding-right: 1em; text-align: center; vertical-align: top\">0</td>\n",
       "    </tr>\n",
       "    <tr>\n",
       "        <td style=\"padding-left: 1em; padding-right: 1em; text-align: center; vertical-align: top\">1</td>\n",
       "        <td style=\"padding-left: 1em; padding-right: 1em; text-align: center; vertical-align: top\">32466</td>\n",
       "        <td style=\"padding-left: 1em; padding-right: 1em; text-align: center; vertical-align: top\">0</td>\n",
       "        <td style=\"padding-left: 1em; padding-right: 1em; text-align: center; vertical-align: top\">0</td>\n",
       "    </tr>\n",
       "    <tr>\n",
       "        <td style=\"padding-left: 1em; padding-right: 1em; text-align: center; vertical-align: top\">1</td>\n",
       "        <td style=\"padding-left: 1em; padding-right: 1em; text-align: center; vertical-align: top\">5471</td>\n",
       "        <td style=\"padding-left: 1em; padding-right: 1em; text-align: center; vertical-align: top\">5</td>\n",
       "        <td style=\"padding-left: 1em; padding-right: 1em; text-align: center; vertical-align: top\">0</td>\n",
       "    </tr>\n",
       "    <tr>\n",
       "        <td style=\"padding-left: 1em; padding-right: 1em; text-align: center; vertical-align: top\">1</td>\n",
       "        <td style=\"padding-left: 1em; padding-right: 1em; text-align: center; vertical-align: top\">5482</td>\n",
       "        <td style=\"padding-left: 1em; padding-right: 1em; text-align: center; vertical-align: top\">0</td>\n",
       "        <td style=\"padding-left: 1em; padding-right: 1em; text-align: center; vertical-align: top\">0</td>\n",
       "    </tr>\n",
       "    <tr>\n",
       "        <td style=\"padding-left: 1em; padding-right: 1em; text-align: center; vertical-align: top\">1</td>\n",
       "        <td style=\"padding-left: 1em; padding-right: 1em; text-align: center; vertical-align: top\">10372</td>\n",
       "        <td style=\"padding-left: 1em; padding-right: 1em; text-align: center; vertical-align: top\">0</td>\n",
       "        <td style=\"padding-left: 1em; padding-right: 1em; text-align: center; vertical-align: top\">0</td>\n",
       "    </tr>\n",
       "    <tr>\n",
       "        <td style=\"padding-left: 1em; padding-right: 1em; text-align: center; vertical-align: top\">1</td>\n",
       "        <td style=\"padding-left: 1em; padding-right: 1em; text-align: center; vertical-align: top\">13148</td>\n",
       "        <td style=\"padding-left: 1em; padding-right: 1em; text-align: center; vertical-align: top\">0</td>\n",
       "        <td style=\"padding-left: 1em; padding-right: 1em; text-align: center; vertical-align: top\">1</td>\n",
       "    </tr>\n",
       "</table>\n",
       "[90023677 rows x 4 columns]<br/>Note: Only the head of the SFrame is printed.<br/>You can use print_rows(num_rows=m, num_columns=n) to print more rows and columns.\n",
       "</div>"
      ],
      "text/plain": [
       "Columns:\n",
       "\tuserId\tint\n",
       "\treleaseId\tint\n",
       "\trating\tint\n",
       "\tcategory\tint\n",
       "\n",
       "Rows: 90023677\n",
       "\n",
       "Data:\n",
       "+--------+-----------+--------+----------+\n",
       "| userId | releaseId | rating | category |\n",
       "+--------+-----------+--------+----------+\n",
       "|   1    |   31435   |   0    |    0     |\n",
       "|   1    |   77503   |   0    |    0     |\n",
       "|   1    |   19282   |   0    |    0     |\n",
       "|   1    |   71232   |   0    |    0     |\n",
       "|   1    |   83485   |   0    |    0     |\n",
       "|   1    |   32466   |   0    |    0     |\n",
       "|   1    |    5471   |   5    |    0     |\n",
       "|   1    |    5482   |   0    |    0     |\n",
       "|   1    |   10372   |   0    |    0     |\n",
       "|   1    |   13148   |   0    |    1     |\n",
       "+--------+-----------+--------+----------+\n",
       "[90023677 rows x 4 columns]\n",
       "Note: Only the head of the SFrame is printed.\n",
       "You can use print_rows(num_rows=m, num_columns=n) to print more rows and columns."
      ]
     },
     "execution_count": 4,
     "metadata": {},
     "output_type": "execute_result"
    }
   ],
   "source": [
    "discogs_frame.rename({'1':'userId', '63257':'releaseId', '0':'rating','0.1':'category'}) # Lost a row here renaming. Add it later"
   ]
  },
  {
   "cell_type": "code",
   "execution_count": 5,
   "metadata": {
    "collapsed": false,
    "deletable": true,
    "editable": true
   },
   "outputs": [
    {
     "data": {
      "application/javascript": [
       "$(\"head\").append($(\"<link/>\").attr({\n",
       "  rel:  \"stylesheet\",\n",
       "  type: \"text/css\",\n",
       "  href: \"//cdnjs.cloudflare.com/ajax/libs/font-awesome/4.1.0/css/font-awesome.min.css\"\n",
       "}));\n",
       "$(\"head\").append($(\"<link/>\").attr({\n",
       "  rel:  \"stylesheet\",\n",
       "  type: \"text/css\",\n",
       "  href: \"https://static.turi.com/products/graphlab-create/2.1/canvas/css/canvas.css\"\n",
       "}));\n",
       "\n",
       "            (function(){\n",
       "\n",
       "                var e = null;\n",
       "                if (typeof element == 'undefined') {\n",
       "                    var scripts = document.getElementsByTagName('script');\n",
       "                    var thisScriptTag = scripts[scripts.length-1];\n",
       "                    var parentDiv = thisScriptTag.parentNode;\n",
       "                    e = document.createElement('div');\n",
       "                    parentDiv.appendChild(e);\n",
       "                } else {\n",
       "                    e = element[0];\n",
       "                }\n",
       "\n",
       "                if (typeof requirejs !== 'undefined') {\n",
       "                    // disable load timeout; ipython_app.js is large and can take a while to load.\n",
       "                    requirejs.config({waitSeconds: 0});\n",
       "                }\n",
       "\n",
       "                require(['https://static.turi.com/products/graphlab-create/2.1/canvas/js/ipython_app.js'], function(IPythonApp){\n",
       "                    var app = new IPythonApp();\n",
       "                    app.attachView('sframe','Summary', {\"ipython\": true, \"sketch\": {\"category\": {\"std\": 0.5984266658308584, \"complete\": true, \"min\": 0.0, \"max\": 2.0, \"quantile\": [0.0, 0.0, 0.0, 0.0, 0.0, 0.0, 0.0, 0.0, 0.0, 0.0, 0.0, 0.0, 0.0, 0.0, 0.0, 0.0, 0.0, 0.0, 0.0, 0.0, 0.0, 0.0, 0.0, 0.0, 0.0, 0.0, 0.0, 0.0, 0.0, 0.0, 0.0, 0.0, 0.0, 0.0, 0.0, 0.0, 0.0, 0.0, 0.0, 0.0, 0.0, 0.0, 0.0, 0.0, 0.0, 0.0, 0.0, 0.0, 0.0, 0.0, 0.0, 0.0, 0.0, 0.0, 0.0, 0.0, 0.0, 0.0, 0.0, 0.0, 0.0, 0.0, 0.0, 0.0, 0.0, 0.0, 0.0, 0.0, 0.0, 0.0, 0.0, 0.0, 0.0, 0.0, 0.0, 0.0, 0.0, 0.0, 0.0, 0.0, 1.0, 1.0, 1.0, 1.0, 1.0, 1.0, 1.0, 1.0, 1.0, 1.0, 1.0, 1.0, 2.0, 2.0, 2.0, 2.0, 2.0, 2.0, 2.0, 2.0, 2.0], \"median\": 0.0, \"numeric\": true, \"num_unique\": 3, \"num_undefined\": 0, \"var\": 0.35811447437743776, \"progress\": 1.0, \"size\": 90023677, \"frequent_items\": {\"0\": {\"frequency\": 72416864, \"value\": 0}, \"1\": {\"frequency\": 10460823, \"value\": 1}, \"2\": {\"frequency\": 7145990, \"value\": 2}}, \"mean\": 0.2749588088919999}, \"releaseId\": {\"std\": 59785484.447321594, \"complete\": true, \"min\": 1.0, \"max\": 469203102.0, \"quantile\": [1.0, 5137.0, 12321.0, 21086.0, 29114.0, 39467.0, 49623.0, 62002.0, 73958.0, 87472.0, 102975.0, 118470.0, 134620.0, 152339.0, 172746.0, 191885.0, 213203.0, 233613.0, 255701.0, 306049.0, 338498.0, 368825.0, 384330.0, 403351.0, 429219.0, 453291.0, 482541.0, 511121.0, 542782.0, 572425.0, 605328.0, 640368.0, 680889.0, 717925.0, 757358.0, 799855.0, 844386.0, 891552.0, 944143.0, 995392.0, 1045294.0, 1089623.0, 1134418.0, 1185221.0, 1238184.0, 1291604.0, 1339844.0, 1388893.0, 1442972.0, 1497118.0, 1551701.0, 1604031.0, 1662297.0, 1721720.0, 1781220.0, 1842075.0, 1905269.0, 1972071.0, 2037769.0, 2111500.0, 2179592.0, 2258181.0, 2335059.0, 2416899.0, 2503871.0, 2582844.0, 2666714.0, 2765882.0, 2855555.0, 2947969.0, 3051780.0, 3157924.0, 3274292.0, 3385469.0, 3508702.0, 3626887.0, 3756304.0, 3904236.0, 4048349.0, 4216199.0, 4377460.0, 4546674.0, 4721440.0, 4919218.0, 5122479.0, 5351233.0, 5605790.0, 5838854.0, 6136641.0, 6477926.0, 6902950.0, 7474861.0, 8475363.0, 46806943.0, 101734852.0, 152884126.0, 199377698.0, 231578181.0, 273996144.0, 320166478.0, 469203102.0], \"median\": 1551701.0, \"numeric\": true, \"num_unique\": 12185898, \"num_undefined\": 0, \"var\": 3574304150600932.0, \"progress\": 1.0, \"size\": 90023677, \"frequent_items\": {\"4570366\": {\"frequency\": 9655, \"value\": 4570366}}, \"mean\": 17124126.10718907}, \"userId\": {\"std\": 60978.43099952879, \"complete\": true, \"min\": 1.0, \"max\": 212660.0, \"quantile\": [1.0, 1703.0, 4106.0, 7471.0, 11094.0, 14085.0, 15871.0, 18115.0, 19512.0, 23326.0, 23326.0, 26723.0, 28937.0, 31250.0, 33535.0, 36137.0, 38127.0, 39692.0, 42288.0, 45421.0, 46965.0, 50433.0, 50433.0, 53623.0, 55800.0, 56849.0, 58467.0, 60288.0, 61983.0, 64140.0, 66519.0, 68510.0, 70758.0, 71241.0, 74734.0, 78017.0, 78017.0, 81311.0, 83024.0, 85013.0, 87065.0, 88871.0, 91934.0, 93660.0, 95076.0, 97254.0, 100385.0, 103818.0, 103818.0, 107802.0, 109315.0, 111647.0, 113663.0, 115647.0, 117396.0, 120093.0, 122601.0, 125077.0, 128232.0, 128232.0, 131669.0, 135168.0, 136102.0, 138002.0, 139967.0, 141957.0, 144460.0, 147052.0, 149071.0, 150237.0, 152237.0, 153997.0, 156942.0, 156942.0, 160054.0, 162132.0, 163980.0, 165834.0, 168230.0, 169352.0, 171852.0, 175500.0, 177039.0, 179264.0, 181966.0, 181966.0, 185128.0, 186601.0, 188638.0, 190861.0, 192474.0, 195037.0, 196941.0, 199062.0, 201350.0, 202460.0, 203287.0, 206309.0, 209415.0, 211612.0, 212660.0], \"median\": 109315.0, \"numeric\": true, \"num_unique\": 214674, \"num_undefined\": 0, \"var\": 3718369047.164294, \"progress\": 1.0, \"size\": 90023677, \"frequent_items\": {\"47104\": {\"frequency\": 21320, \"value\": 47104}, \"167949\": {\"frequency\": 10933, \"value\": 167949}, \"75792\": {\"frequency\": 10924, \"value\": 75792}, \"55324\": {\"frequency\": 12479, \"value\": 55324}, \"65578\": {\"frequency\": 8683, \"value\": 65578}, \"116788\": {\"frequency\": 11748, \"value\": 116788}, \"69704\": {\"frequency\": 10363, \"value\": 69704}, \"147529\": {\"frequency\": 19799, \"value\": 147529}, \"155724\": {\"frequency\": 9415, \"value\": 155724}, \"36946\": {\"frequency\": 24856, \"value\": 36946}, \"94292\": {\"frequency\": 10573, \"value\": 94292}, \"12374\": {\"frequency\": 10577, \"value\": 12374}, \"113337\": {\"frequency\": 14058, \"value\": 113337}, \"77916\": {\"frequency\": 9292, \"value\": 77916}, \"34909\": {\"frequency\": 12579, \"value\": 34909}, \"153694\": {\"frequency\": 16502, \"value\": 153694}, \"188518\": {\"frequency\": 11450, \"value\": 188518}, \"24679\": {\"frequency\": 13085, \"value\": 24679}, \"165993\": {\"frequency\": 10072, \"value\": 165993}, \"49258\": {\"frequency\": 17426, \"value\": 49258}, \"163958\": {\"frequency\": 15236, \"value\": 163958}, \"166249\": {\"frequency\": 13067, \"value\": 166249}, \"57464\": {\"frequency\": 14156, \"value\": 57464}, \"168058\": {\"frequency\": 40864, \"value\": 168058}, \"190587\": {\"frequency\": 9481, \"value\": 190587}, \"196738\": {\"frequency\": 17626, \"value\": 196738}, \"200847\": {\"frequency\": 9465, \"value\": 200847}, \"120980\": {\"frequency\": 10385, \"value\": 120980}, \"96964\": {\"frequency\": 16071, \"value\": 96964}, \"59558\": {\"frequency\": 10023, \"value\": 59558}, \"53415\": {\"frequency\": 16334, \"value\": 53415}, \"82091\": {\"frequency\": 32377, \"value\": 82091}, \"100525\": {\"frequency\": 9228, \"value\": 100525}, \"24753\": {\"frequency\": 10421, \"value\": 24753}, \"61622\": {\"frequency\": 15972, \"value\": 61622}, \"55480\": {\"frequency\": 10243, \"value\": 55480}, \"143548\": {\"frequency\": 13036, \"value\": 143548}, \"20671\": {\"frequency\": 11115, \"value\": 20671}, \"131265\": {\"frequency\": 9489, \"value\": 131265}, \"184514\": {\"frequency\": 13524, \"value\": 184514}, \"128033\": {\"frequency\": 8533, \"value\": 128033}, \"141687\": {\"frequency\": 11107, \"value\": 141687}, \"202957\": {\"frequency\": 12393, \"value\": 202957}, \"59598\": {\"frequency\": 12469, \"value\": 59598}, \"157675\": {\"frequency\": 10308, \"value\": 157675}, \"180436\": {\"frequency\": 12541, \"value\": 180436}, \"174296\": {\"frequency\": 15242, \"value\": 174296}, \"192729\": {\"frequency\": 12778, \"value\": 192729}, \"86234\": {\"frequency\": 15687, \"value\": 86234}, \"192731\": {\"frequency\": 21984, \"value\": 192731}, \"188638\": {\"frequency\": 10819, \"value\": 188638}, \"184543\": {\"frequency\": 13016, \"value\": 184543}, \"133345\": {\"frequency\": 9689, \"value\": 133345}, \"202980\": {\"frequency\": 12647, \"value\": 202980}, \"76007\": {\"frequency\": 14004, \"value\": 76007}, \"78061\": {\"frequency\": 14244, \"value\": 78061}, \"14717\": {\"frequency\": 11562, \"value\": 14717}, \"162032\": {\"frequency\": 9530, \"value\": 162032}, \"114931\": {\"frequency\": 11086, \"value\": 114931}, \"145655\": {\"frequency\": 14839, \"value\": 145655}, \"92411\": {\"frequency\": 15495, \"value\": 92411}, \"15744\": {\"frequency\": 32608, \"value\": 15744}, \"28937\": {\"frequency\": 18603, \"value\": 28937}, \"76048\": {\"frequency\": 10366, \"value\": 76048}, \"129312\": {\"frequency\": 13027, \"value\": 129312}, \"28963\": {\"frequency\": 8168, \"value\": 28963}, \"151844\": {\"frequency\": 8362, \"value\": 151844}, \"63782\": {\"frequency\": 9155, \"value\": 63782}, \"202460\": {\"frequency\": 9102, \"value\": 202460}, \"190764\": {\"frequency\": 11236, \"value\": 190764}, \"302\": {\"frequency\": 35348, \"value\": 302}, \"162098\": {\"frequency\": 10910, \"value\": 162098}, \"158003\": {\"frequency\": 8471, \"value\": 158003}, \"90422\": {\"frequency\": 13633, \"value\": 90422}, \"71993\": {\"frequency\": 16329, \"value\": 71993}, \"108859\": {\"frequency\": 10277, \"value\": 108859}, \"194877\": {\"frequency\": 9211, \"value\": 194877}, \"162115\": {\"frequency\": 10161, \"value\": 162115}, \"180558\": {\"frequency\": 11588, \"value\": 180558}, \"55632\": {\"frequency\": 10761, \"value\": 55632}, \"211283\": {\"frequency\": 13987, \"value\": 211283}, \"162132\": {\"frequency\": 11948, \"value\": 162132}, \"203094\": {\"frequency\": 8912, \"value\": 203094}, \"106844\": {\"frequency\": 9842, \"value\": 106844}, \"55645\": {\"frequency\": 12552, \"value\": 55645}, \"46825\": {\"frequency\": 11893, \"value\": 46825}, \"201062\": {\"frequency\": 30411, \"value\": 201062}, \"6504\": {\"frequency\": 12688, \"value\": 6504}, \"24937\": {\"frequency\": 10165, \"value\": 24937}, \"203116\": {\"frequency\": 16418, \"value\": 203116}, \"98669\": {\"frequency\": 9768, \"value\": 98669}, \"147829\": {\"frequency\": 18147, \"value\": 147829}, \"8567\": {\"frequency\": 13156, \"value\": 8567}, \"65917\": {\"frequency\": 10592, \"value\": 65917}, \"382\": {\"frequency\": 10221, \"value\": 382}, \"47488\": {\"frequency\": 9331, \"value\": 47488}, \"125313\": {\"frequency\": 10866, \"value\": 125313}, \"191211\": {\"frequency\": 31918, \"value\": 191211}, \"98692\": {\"frequency\": 16132, \"value\": 98692}, \"4486\": {\"frequency\": 11444, \"value\": 4486}, \"74121\": {\"frequency\": 9581, \"value\": 74121}, \"96651\": {\"frequency\": 11332, \"value\": 96651}, \"153997\": {\"frequency\": 92282, \"value\": 153997}, \"45456\": {\"frequency\": 9787, \"value\": 45456}, \"119185\": {\"frequency\": 14701, \"value\": 119185}, \"403\": {\"frequency\": 8672, \"value\": 403}, \"94620\": {\"frequency\": 10009, \"value\": 94620}, \"87109\": {\"frequency\": 10657, \"value\": 87109}, \"63908\": {\"frequency\": 21671, \"value\": 63908}, \"172456\": {\"frequency\": 12637, \"value\": 172456}, \"127401\": {\"frequency\": 12776, \"value\": 127401}, \"190897\": {\"frequency\": 9824, \"value\": 190897}, \"51637\": {\"frequency\": 32065, \"value\": 51637}, \"108986\": {\"frequency\": 19199, \"value\": 108986}, \"121280\": {\"frequency\": 11086, \"value\": 121280}, \"199110\": {\"frequency\": 9118, \"value\": 199110}, \"174537\": {\"frequency\": 18486, \"value\": 174537}, \"205266\": {\"frequency\": 9011, \"value\": 205266}, \"203219\": {\"frequency\": 14409, \"value\": 203219}, \"131546\": {\"frequency\": 12467, \"value\": 131546}, \"113119\": {\"frequency\": 9727, \"value\": 113119}, \"33255\": {\"frequency\": 11974, \"value\": 33255}, \"113128\": {\"frequency\": 9154, \"value\": 113128}, \"125417\": {\"frequency\": 10405, \"value\": 125417}, \"172524\": {\"frequency\": 10309, \"value\": 172524}, \"16882\": {\"frequency\": 9909, \"value\": 16882}, \"131573\": {\"frequency\": 11167, \"value\": 131573}, \"203265\": {\"frequency\": 16479, \"value\": 203265}, \"80395\": {\"frequency\": 14681, \"value\": 80395}, \"113168\": {\"frequency\": 17552, \"value\": 113168}, \"53778\": {\"frequency\": 16824, \"value\": 53778}, \"29207\": {\"frequency\": 8994, \"value\": 29207}, \"72217\": {\"frequency\": 9799, \"value\": 72217}, \"211489\": {\"frequency\": 9406, \"value\": 211489}, \"55844\": {\"frequency\": 22701, \"value\": 55844}, \"164396\": {\"frequency\": 9941, \"value\": 164396}, \"178735\": {\"frequency\": 9280, \"value\": 178735}, \"92723\": {\"frequency\": 10547, \"value\": 92723}, \"566\": {\"frequency\": 19623, \"value\": 566}, \"143934\": {\"frequency\": 9854, \"value\": 143934}, \"92742\": {\"frequency\": 20810, \"value\": 92742}, \"12871\": {\"frequency\": 21546, \"value\": 12871}, \"53835\": {\"frequency\": 10128, \"value\": 53835}, \"86604\": {\"frequency\": 13027, \"value\": 86604}, \"2637\": {\"frequency\": 13747, \"value\": 2637}, \"169963\": {\"frequency\": 16137, \"value\": 169963}, \"203344\": {\"frequency\": 13278, \"value\": 203344}, \"156771\": {\"frequency\": 20053, \"value\": 156771}, \"131669\": {\"frequency\": 12032, \"value\": 131669}, \"88664\": {\"frequency\": 14521, \"value\": 88664}, \"137818\": {\"frequency\": 8906, \"value\": 137818}, \"209506\": {\"frequency\": 10191, \"value\": 209506}, \"53865\": {\"frequency\": 9047, \"value\": 53865}, \"189034\": {\"frequency\": 10043, \"value\": 189034}, \"2151\": {\"frequency\": 14316, \"value\": 2151}, \"115308\": {\"frequency\": 20411, \"value\": 115308}, \"139887\": {\"frequency\": 9999, \"value\": 139887}, \"129648\": {\"frequency\": 11592, \"value\": 129648}, \"626\": {\"frequency\": 9634, \"value\": 626}, \"185790\": {\"frequency\": 12072, \"value\": 185790}, \"78457\": {\"frequency\": 11592, \"value\": 78457}, \"184955\": {\"frequency\": 8985, \"value\": 184955}, \"49789\": {\"frequency\": 14638, \"value\": 49789}, \"154048\": {\"frequency\": 9599, \"value\": 154048}, \"113282\": {\"frequency\": 9499, \"value\": 113282}, \"176771\": {\"frequency\": 11854, \"value\": 176771}, \"156293\": {\"frequency\": 14676, \"value\": 156293}, \"103047\": {\"frequency\": 9189, \"value\": 103047}, \"139912\": {\"frequency\": 12078, \"value\": 139912}, \"4748\": {\"frequency\": 16527, \"value\": 4748}, \"86669\": {\"frequency\": 12663, \"value\": 86669}, \"180878\": {\"frequency\": 10056, \"value\": 180878}, \"203407\": {\"frequency\": 22610, \"value\": 203407}, \"162449\": {\"frequency\": 21742, \"value\": 162449}, \"129683\": {\"frequency\": 19880, \"value\": 129683}, \"103060\": {\"frequency\": 9808, \"value\": 103060}, \"203415\": {\"frequency\": 12481, \"value\": 203415}, \"68250\": {\"frequency\": 11627, \"value\": 68250}, \"92827\": {\"frequency\": 14197, \"value\": 92827}, \"80542\": {\"frequency\": 9907, \"value\": 80542}, \"19103\": {\"frequency\": 10767, \"value\": 19103}, \"21155\": {\"frequency\": 14759, \"value\": 21155}, \"144036\": {\"frequency\": 14850, \"value\": 144036}, \"86695\": {\"frequency\": 22088, \"value\": 86695}, \"105132\": {\"frequency\": 14504, \"value\": 105132}, \"152237\": {\"frequency\": 11157, \"value\": 152237}, \"117423\": {\"frequency\": 14374, \"value\": 117423}, \"17077\": {\"frequency\": 9691, \"value\": 17077}, \"96953\": {\"frequency\": 11380, \"value\": 96953}, \"150206\": {\"frequency\": 14742, \"value\": 150206}, \"139967\": {\"frequency\": 10239, \"value\": 139967}, \"205507\": {\"frequency\": 9393, \"value\": 205507}, \"131780\": {\"frequency\": 24991, \"value\": 131780}, \"211655\": {\"frequency\": 10763, \"value\": 211655}, \"198064\": {\"frequency\": 70382, \"value\": 198064}, \"45790\": {\"frequency\": 24387, \"value\": 45790}, \"207584\": {\"frequency\": 10762, \"value\": 207584}, \"21221\": {\"frequency\": 22206, \"value\": 21221}, \"58086\": {\"frequency\": 11612, \"value\": 58086}, \"29417\": {\"frequency\": 11045, \"value\": 29417}, \"78571\": {\"frequency\": 14160, \"value\": 78571}, \"180977\": {\"frequency\": 10177, \"value\": 180977}, \"162546\": {\"frequency\": 11759, \"value\": 162546}, \"185081\": {\"frequency\": 10252, \"value\": 185081}, \"209660\": {\"frequency\": 10145, \"value\": 209660}, \"140036\": {\"frequency\": 12391, \"value\": 140036}, \"203525\": {\"frequency\": 9400, \"value\": 203525}, \"117511\": {\"frequency\": 12367, \"value\": 117511}, \"137995\": {\"frequency\": 14525, \"value\": 137995}, \"17166\": {\"frequency\": 16484, \"value\": 17166}, \"37678\": {\"frequency\": 9397, \"value\": 37678}, \"43800\": {\"frequency\": 13682, \"value\": 43800}, \"43801\": {\"frequency\": 11151, \"value\": 43801}, \"99100\": {\"frequency\": 14901, \"value\": 99100}, \"41434\": {\"frequency\": 9315, \"value\": 41434}, \"54047\": {\"frequency\": 11142, \"value\": 54047}, \"185122\": {\"frequency\": 11565, \"value\": 185122}, \"76588\": {\"frequency\": 9757, \"value\": 76588}, \"121646\": {\"frequency\": 16268, \"value\": 121646}, \"140081\": {\"frequency\": 11843, \"value\": 140081}, \"45876\": {\"frequency\": 14637, \"value\": 45876}, \"133946\": {\"frequency\": 23573, \"value\": 133946}, \"11068\": {\"frequency\": 12900, \"value\": 11068}, \"166717\": {\"frequency\": 9457, \"value\": 166717}, \"203586\": {\"frequency\": 9716, \"value\": 203586}, \"29507\": {\"frequency\": 8787, \"value\": 29507}, \"133958\": {\"frequency\": 22277, \"value\": 133958}, \"148967\": {\"frequency\": 10178, \"value\": 148967}, \"123720\": {\"frequency\": 13042, \"value\": 123720}, \"172874\": {\"frequency\": 9387, \"value\": 172874}, \"121682\": {\"frequency\": 9349, \"value\": 121682}, \"195414\": {\"frequency\": 9455, \"value\": 195414}, \"156503\": {\"frequency\": 10465, \"value\": 156503}, \"47960\": {\"frequency\": 16654, \"value\": 47960}, \"70489\": {\"frequency\": 19426, \"value\": 70489}, \"84826\": {\"frequency\": 9823, \"value\": 84826}, \"211805\": {\"frequency\": 13842, \"value\": 211805}, \"70495\": {\"frequency\": 10243, \"value\": 70495}, \"31589\": {\"frequency\": 9344, \"value\": 31589}, \"31590\": {\"frequency\": 10482, \"value\": 31590}, \"60903\": {\"frequency\": 9171, \"value\": 60903}, \"168813\": {\"frequency\": 14300, \"value\": 168813}, \"60271\": {\"frequency\": 25995, \"value\": 60271}, \"72168\": {\"frequency\": 8875, \"value\": 72168}, \"41842\": {\"frequency\": 12162, \"value\": 41842}, \"64371\": {\"frequency\": 69276, \"value\": 64371}, \"187254\": {\"frequency\": 10955, \"value\": 187254}, \"191352\": {\"frequency\": 14139, \"value\": 191352}, \"144251\": {\"frequency\": 11224, \"value\": 144251}, \"203645\": {\"frequency\": 11916, \"value\": 203645}, \"60292\": {\"frequency\": 20011, \"value\": 60292}, \"207758\": {\"frequency\": 8894, \"value\": 207758}, \"103314\": {\"frequency\": 13580, \"value\": 103314}, \"168852\": {\"frequency\": 21191, \"value\": 168852}, \"183792\": {\"frequency\": 14706, \"value\": 183792}, \"29603\": {\"frequency\": 13622, \"value\": 29603}, \"109477\": {\"frequency\": 15155, \"value\": 109477}, \"204273\": {\"frequency\": 10134, \"value\": 204273}, \"166830\": {\"frequency\": 14241, \"value\": 166830}, \"78770\": {\"frequency\": 20077, \"value\": 78770}, \"148407\": {\"frequency\": 11429, \"value\": 148407}, \"86970\": {\"frequency\": 9404, \"value\": 86970}, \"211902\": {\"frequency\": 11388, \"value\": 211902}, \"144319\": {\"frequency\": 11322, \"value\": 144319}, \"33730\": {\"frequency\": 10483, \"value\": 33730}, \"3023\": {\"frequency\": 11692, \"value\": 3023}, \"211922\": {\"frequency\": 11276, \"value\": 211922}, \"138200\": {\"frequency\": 9681, \"value\": 138200}, \"3037\": {\"frequency\": 12868, \"value\": 3037}, \"158695\": {\"frequency\": 8983, \"value\": 158695}, \"52204\": {\"frequency\": 9914, \"value\": 52204}, \"187393\": {\"frequency\": 34263, \"value\": 187393}, \"3079\": {\"frequency\": 15124, \"value\": 3079}, \"197641\": {\"frequency\": 13626, \"value\": 197641}, \"19473\": {\"frequency\": 21863, \"value\": 19473}, \"154651\": {\"frequency\": 8265, \"value\": 154651}, \"181277\": {\"frequency\": 22758, \"value\": 181277}, \"140321\": {\"frequency\": 11120, \"value\": 140321}, \"82989\": {\"frequency\": 18834, \"value\": 82989}, \"66608\": {\"frequency\": 10601, \"value\": 66608}, \"35890\": {\"frequency\": 16684, \"value\": 35890}, \"177204\": {\"frequency\": 11273, \"value\": 177204}, \"20318\": {\"frequency\": 17019, \"value\": 20318}, \"99387\": {\"frequency\": 10140, \"value\": 99387}, \"166972\": {\"frequency\": 13716, \"value\": 166972}, \"150597\": {\"frequency\": 9974, \"value\": 150597}, \"17484\": {\"frequency\": 9082, \"value\": 17484}, \"1102\": {\"frequency\": 13301, \"value\": 1102}, \"17494\": {\"frequency\": 10105, \"value\": 17494}, \"1117\": {\"frequency\": 50212, \"value\": 1117}, \"76898\": {\"frequency\": 11572, \"value\": 76898}, \"58467\": {\"frequency\": 28292, \"value\": 58467}, \"132200\": {\"frequency\": 43573, \"value\": 132200}, \"156786\": {\"frequency\": 16303, \"value\": 156786}, \"33910\": {\"frequency\": 17013, \"value\": 33910}, \"46200\": {\"frequency\": 62709, \"value\": 46200}, \"35961\": {\"frequency\": 21264, \"value\": 35961}, \"193659\": {\"frequency\": 12047, \"value\": 193659}, \"40073\": {\"frequency\": 9941, \"value\": 40073}, \"197143\": {\"frequency\": 11626, \"value\": 197143}, \"93326\": {\"frequency\": 9678, \"value\": 93326}, \"76947\": {\"frequency\": 15314, \"value\": 76947}, \"136341\": {\"frequency\": 13698, \"value\": 136341}, \"19611\": {\"frequency\": 10160, \"value\": 19611}, \"185505\": {\"frequency\": 10120, \"value\": 185505}, \"183459\": {\"frequency\": 12864, \"value\": 183459}, \"177326\": {\"frequency\": 13759, \"value\": 177326}, \"205683\": {\"frequency\": 17716, \"value\": 205683}, \"38073\": {\"frequency\": 10947, \"value\": 38073}, \"154810\": {\"frequency\": 12183, \"value\": 154810}, \"36042\": {\"frequency\": 49826, \"value\": 36042}, \"160974\": {\"frequency\": 15123, \"value\": 160974}, \"103633\": {\"frequency\": 24732, \"value\": 103633}, \"107734\": {\"frequency\": 13830, \"value\": 107734}, \"6009\": {\"frequency\": 10251, \"value\": 6009}, \"68824\": {\"frequency\": 11406, \"value\": 68824}, \"93402\": {\"frequency\": 13076, \"value\": 93402}, \"54493\": {\"frequency\": 15735, \"value\": 54493}, \"70882\": {\"frequency\": 11848, \"value\": 70882}, \"66787\": {\"frequency\": 10337, \"value\": 66787}, \"177380\": {\"frequency\": 9735, \"value\": 177380}, \"115942\": {\"frequency\": 9412, \"value\": 115942}, \"113899\": {\"frequency\": 82601, \"value\": 113899}, \"107756\": {\"frequency\": 10943, \"value\": 107756}, \"200574\": {\"frequency\": 11364, \"value\": 200574}, \"161016\": {\"frequency\": 17100, \"value\": 161016}, \"191737\": {\"frequency\": 9873, \"value\": 191737}, \"173318\": {\"frequency\": 35575, \"value\": 173318}, \"138507\": {\"frequency\": 11741, \"value\": 138507}, \"83217\": {\"frequency\": 10151, \"value\": 83217}, \"59267\": {\"frequency\": 10076, \"value\": 59267}, \"99204\": {\"frequency\": 13211, \"value\": 99204}, \"118049\": {\"frequency\": 12030, \"value\": 118049}, \"30939\": {\"frequency\": 23268, \"value\": 30939}, \"183592\": {\"frequency\": 8800, \"value\": 183592}, \"105769\": {\"frequency\": 9633, \"value\": 105769}, \"156972\": {\"frequency\": 11191, \"value\": 156972}, \"42286\": {\"frequency\": 15497, \"value\": 42286}, \"42288\": {\"frequency\": 16628, \"value\": 42288}, \"50484\": {\"frequency\": 8940, \"value\": 50484}, \"52534\": {\"frequency\": 10262, \"value\": 52534}, \"202042\": {\"frequency\": 16757, \"value\": 202042}, \"13627\": {\"frequency\": 22589, \"value\": 13627}, \"185661\": {\"frequency\": 12367, \"value\": 185661}, \"19774\": {\"frequency\": 13477, \"value\": 19774}, \"46399\": {\"frequency\": 9322, \"value\": 46399}, \"15694\": {\"frequency\": 10787, \"value\": 15694}, \"138467\": {\"frequency\": 9483, \"value\": 138467}, \"169870\": {\"frequency\": 13701, \"value\": 169870}, \"89433\": {\"frequency\": 24559, \"value\": 89433}, \"79204\": {\"frequency\": 13699, \"value\": 79204}, \"148841\": {\"frequency\": 29804, \"value\": 148841}, \"200043\": {\"frequency\": 19535, \"value\": 200043}, \"1388\": {\"frequency\": 10629, \"value\": 1388}, \"50541\": {\"frequency\": 8943, \"value\": 50541}, \"109939\": {\"frequency\": 15264, \"value\": 109939}, \"60800\": {\"frequency\": 11550, \"value\": 60800}, \"28033\": {\"frequency\": 8429, \"value\": 28033}, \"83331\": {\"frequency\": 13412, \"value\": 83331}, \"78881\": {\"frequency\": 13114, \"value\": 78881}, \"71058\": {\"frequency\": 11084, \"value\": 71058}, \"42391\": {\"frequency\": 10944, \"value\": 42391}, \"136601\": {\"frequency\": 13850, \"value\": 136601}, \"202991\": {\"frequency\": 9713, \"value\": 202991}, \"38469\": {\"frequency\": 10421, \"value\": 38469}, \"148896\": {\"frequency\": 10672, \"value\": 148896}, \"32168\": {\"frequency\": 10160, \"value\": 32168}, \"136618\": {\"frequency\": 15445, \"value\": 136618}, \"189867\": {\"frequency\": 9237, \"value\": 189867}, \"167342\": {\"frequency\": 10495, \"value\": 167342}, \"202160\": {\"frequency\": 9114, \"value\": 202160}, \"107954\": {\"frequency\": 9892, \"value\": 107954}, \"58806\": {\"frequency\": 11123, \"value\": 58806}, \"148919\": {\"frequency\": 18763, \"value\": 148919}, \"193976\": {\"frequency\": 10110, \"value\": 193976}, \"85435\": {\"frequency\": 9891, \"value\": 85435}, \"1468\": {\"frequency\": 9488, \"value\": 1468}, \"52669\": {\"frequency\": 8545, \"value\": 52669}, \"81342\": {\"frequency\": 9265, \"value\": 81342}, \"36291\": {\"frequency\": 11249, \"value\": 36291}, \"181702\": {\"frequency\": 13919, \"value\": 181702}, \"130505\": {\"frequency\": 10184, \"value\": 130505}, \"153037\": {\"frequency\": 20230, \"value\": 153037}, \"15833\": {\"frequency\": 13246, \"value\": 15833}, \"93658\": {\"frequency\": 15164, \"value\": 93658}, \"91612\": {\"frequency\": 10548, \"value\": 91612}, \"181729\": {\"frequency\": 10326, \"value\": 181729}, \"48610\": {\"frequency\": 11444, \"value\": 48610}, \"34279\": {\"frequency\": 15184, \"value\": 34279}, \"155112\": {\"frequency\": 12062, \"value\": 155112}, \"116205\": {\"frequency\": 18684, \"value\": 116205}, \"30602\": {\"frequency\": 9501, \"value\": 30602}, \"93680\": {\"frequency\": 14466, \"value\": 93680}, \"138737\": {\"frequency\": 9311, \"value\": 138737}, \"67058\": {\"frequency\": 16337, \"value\": 67058}, \"185858\": {\"frequency\": 16493, \"value\": 185858}, \"144694\": {\"frequency\": 10782, \"value\": 144694}, \"24074\": {\"frequency\": 9929, \"value\": 24074}, \"183822\": {\"frequency\": 10484, \"value\": 183822}, \"28185\": {\"frequency\": 11287, \"value\": 28185}, \"200219\": {\"frequency\": 14059, \"value\": 200219}, \"32286\": {\"frequency\": 9607, \"value\": 32286}, \"20004\": {\"frequency\": 10275, \"value\": 20004}, \"42537\": {\"frequency\": 9692, \"value\": 42537}, \"58925\": {\"frequency\": 17065, \"value\": 58925}, \"136754\": {\"frequency\": 10986, \"value\": 136754}, \"126516\": {\"frequency\": 10018, \"value\": 126516}, \"161334\": {\"frequency\": 8888, \"value\": 161334}, \"118341\": {\"frequency\": 29967, \"value\": 118341}, \"48722\": {\"frequency\": 38401, \"value\": 48722}, \"65121\": {\"frequency\": 18260, \"value\": 65121}, \"169575\": {\"frequency\": 17957, \"value\": 169575}, \"181864\": {\"frequency\": 29584, \"value\": 181864}, \"190055\": {\"frequency\": 14197, \"value\": 190055}, \"65134\": {\"frequency\": 11727, \"value\": 65134}, \"147056\": {\"frequency\": 18803, \"value\": 147056}, \"138870\": {\"frequency\": 18407, \"value\": 138870}, \"63098\": {\"frequency\": 14043, \"value\": 63098}, \"3715\": {\"frequency\": 13785, \"value\": 3715}, \"97927\": {\"frequency\": 14025, \"value\": 97927}, \"183234\": {\"frequency\": 11307, \"value\": 183234}, \"132758\": {\"frequency\": 9700, \"value\": 132758}, \"108184\": {\"frequency\": 10565, \"value\": 108184}, \"28317\": {\"frequency\": 18809, \"value\": 28317}, \"159390\": {\"frequency\": 14670, \"value\": 159390}, \"112297\": {\"frequency\": 28510, \"value\": 112297}, \"33394\": {\"frequency\": 13654, \"value\": 33394}, \"26295\": {\"frequency\": 37304, \"value\": 26295}, \"202424\": {\"frequency\": 12111, \"value\": 202424}, \"181945\": {\"frequency\": 23496, \"value\": 181945}, \"28347\": {\"frequency\": 9778, \"value\": 28347}, \"198336\": {\"frequency\": 10267, \"value\": 198336}, \"196289\": {\"frequency\": 13933, \"value\": 196289}, \"153282\": {\"frequency\": 12380, \"value\": 153282}, \"194245\": {\"frequency\": 9380, \"value\": 194245}, \"26310\": {\"frequency\": 10069, \"value\": 26310}, \"159431\": {\"frequency\": 9324, \"value\": 159431}, \"203615\": {\"frequency\": 14156, \"value\": 203615}, \"24275\": {\"frequency\": 9802, \"value\": 24275}, \"106198\": {\"frequency\": 20936, \"value\": 106198}, \"77527\": {\"frequency\": 9531, \"value\": 77527}, \"124632\": {\"frequency\": 11139, \"value\": 124632}, \"182564\": {\"frequency\": 9194, \"value\": 182564}, \"136924\": {\"frequency\": 14954, \"value\": 136924}, \"179941\": {\"frequency\": 16101, \"value\": 179941}, \"85734\": {\"frequency\": 33891, \"value\": 85734}, \"126696\": {\"frequency\": 10295, \"value\": 126696}, \"59113\": {\"frequency\": 13401, \"value\": 59113}, \"36137\": {\"frequency\": 17029, \"value\": 36137}, \"155386\": {\"frequency\": 11000, \"value\": 155386}, \"87805\": {\"frequency\": 13808, \"value\": 87805}, \"191557\": {\"frequency\": 13510, \"value\": 191557}, \"36140\": {\"frequency\": 10157, \"value\": 36140}, \"139906\": {\"frequency\": 18179, \"value\": 139906}, \"147215\": {\"frequency\": 13442, \"value\": 147215}, \"186129\": {\"frequency\": 12303, \"value\": 186129}, \"160046\": {\"frequency\": 9381, \"value\": 160046}, \"65308\": {\"frequency\": 9507, \"value\": 65308}, \"163614\": {\"frequency\": 9311, \"value\": 163614}, \"141957\": {\"frequency\": 14665, \"value\": 141957}, \"36144\": {\"frequency\": 12148, \"value\": 36144}, \"210907\": {\"frequency\": 14732, \"value\": 210907}, \"55077\": {\"frequency\": 18269, \"value\": 55077}, \"153382\": {\"frequency\": 12707, \"value\": 153382}, \"55079\": {\"frequency\": 13484, \"value\": 55079}, \"151419\": {\"frequency\": 14158, \"value\": 151419}, \"24377\": {\"frequency\": 8861, \"value\": 24377}, \"94010\": {\"frequency\": 14574, \"value\": 94010}, \"157501\": {\"frequency\": 9088, \"value\": 157501}, \"157506\": {\"frequency\": 12560, \"value\": 157506}, \"85827\": {\"frequency\": 17863, \"value\": 85827}, \"85302\": {\"frequency\": 15054, \"value\": 85302}, \"165710\": {\"frequency\": 13973, \"value\": 165710}, \"77650\": {\"frequency\": 25119, \"value\": 77650}, \"161620\": {\"frequency\": 12071, \"value\": 161620}, \"55130\": {\"frequency\": 9137, \"value\": 55130}, \"132958\": {\"frequency\": 9725, \"value\": 132958}, \"26464\": {\"frequency\": 11998, \"value\": 26464}, \"208746\": {\"frequency\": 26891, \"value\": 208746}, \"147309\": {\"frequency\": 9877, \"value\": 147309}, \"200559\": {\"frequency\": 10535, \"value\": 200559}, \"110449\": {\"frequency\": 24614, \"value\": 110449}, \"130933\": {\"frequency\": 18782, \"value\": 130933}, \"108406\": {\"frequency\": 11763, \"value\": 108406}, \"59255\": {\"frequency\": 12484, \"value\": 59255}, \"73593\": {\"frequency\": 10822, \"value\": 73593}, \"24443\": {\"frequency\": 14729, \"value\": 24443}, \"101266\": {\"frequency\": 9524, \"value\": 101266}, \"94082\": {\"frequency\": 12798, \"value\": 94082}, \"65411\": {\"frequency\": 10619, \"value\": 65411}, \"49031\": {\"frequency\": 9442, \"value\": 49031}, \"79754\": {\"frequency\": 9204, \"value\": 79754}, \"112525\": {\"frequency\": 17147, \"value\": 112525}, \"151438\": {\"frequency\": 11288, \"value\": 151438}, \"108434\": {\"frequency\": 10498, \"value\": 108434}, \"180123\": {\"frequency\": 70488, \"value\": 180123}, \"14243\": {\"frequency\": 12564, \"value\": 14243}, \"90020\": {\"frequency\": 16219, \"value\": 90020}, \"126886\": {\"frequency\": 17049, \"value\": 126886}, \"196519\": {\"frequency\": 11198, \"value\": 196519}, \"14257\": {\"frequency\": 6275, \"value\": 14257}, \"26550\": {\"frequency\": 14159, \"value\": 26550}, \"155582\": {\"frequency\": 32893, \"value\": 155582}, \"81856\": {\"frequency\": 8784, \"value\": 81856}, \"153538\": {\"frequency\": 9879, \"value\": 153538}, \"100293\": {\"frequency\": 10053, \"value\": 100293}, \"81867\": {\"frequency\": 14883, \"value\": 81867}, \"28620\": {\"frequency\": 8882, \"value\": 28620}, \"10192\": {\"frequency\": 17983, \"value\": 10192}, \"8150\": {\"frequency\": 10745, \"value\": 8150}, \"69592\": {\"frequency\": 12387, \"value\": 69592}, \"180900\": {\"frequency\": 15327, \"value\": 180900}, \"49115\": {\"frequency\": 16394, \"value\": 49115}, \"192479\": {\"frequency\": 9524, \"value\": 192479}, \"186855\": {\"frequency\": 12395, \"value\": 186855}, \"206824\": {\"frequency\": 9776, \"value\": 206824}, \"85993\": {\"frequency\": 13919, \"value\": 85993}, \"55275\": {\"frequency\": 26508, \"value\": 55275}, \"92140\": {\"frequency\": 10622, \"value\": 92140}, \"129008\": {\"frequency\": 25124, \"value\": 129008}, \"126969\": {\"frequency\": 13402, \"value\": 126969}, \"208890\": {\"frequency\": 15945, \"value\": 208890}}, \"mean\": 109079.27624196584}, \"rating\": {\"std\": 1.3313573529164646, \"complete\": true, \"min\": 0.0, \"max\": 5.0, \"quantile\": [0.0, 0.0, 0.0, 0.0, 0.0, 0.0, 0.0, 0.0, 0.0, 0.0, 0.0, 0.0, 0.0, 0.0, 0.0, 0.0, 0.0, 0.0, 0.0, 0.0, 0.0, 0.0, 0.0, 0.0, 0.0, 0.0, 0.0, 0.0, 0.0, 0.0, 0.0, 0.0, 0.0, 0.0, 0.0, 0.0, 0.0, 0.0, 0.0, 0.0, 0.0, 0.0, 0.0, 0.0, 0.0, 0.0, 0.0, 0.0, 0.0, 0.0, 0.0, 0.0, 0.0, 0.0, 0.0, 0.0, 0.0, 0.0, 0.0, 0.0, 0.0, 0.0, 0.0, 0.0, 0.0, 0.0, 0.0, 0.0, 0.0, 0.0, 0.0, 0.0, 0.0, 0.0, 0.0, 0.0, 0.0, 0.0, 0.0, 0.0, 0.0, 0.0, 0.0, 0.0, 0.0, 0.0, 0.0, 0.0, 0.0, 1.0, 3.0, 3.0, 4.0, 4.0, 4.0, 5.0, 5.0, 5.0, 5.0, 5.0, 5.0], \"median\": 0.0, \"numeric\": true, \"num_unique\": 6, \"num_undefined\": 0, \"var\": 1.7725124011647355, \"progress\": 1.0, \"size\": 90023677, \"frequent_items\": {\"0\": {\"frequency\": 80385187, \"value\": 0}, \"1\": {\"frequency\": 133695, \"value\": 1}, \"2\": {\"frequency\": 342173, \"value\": 2}, \"3\": {\"frequency\": 1537875, \"value\": 3}, \"4\": {\"frequency\": 3138727, \"value\": 4}, \"5\": {\"frequency\": 4486020, \"value\": 5}}, \"mean\": 0.44895604519684856}}, \"selected_variable\": {\"name\": [\"discogs_frame\"], \"descriptives\": {\"rows\": 90023677, \"columns\": 4}, \"view_component\": \"Summary\", \"view_file\": \"sframe\", \"view_params\": {\"y\": null, \"x\": null, \"columns\": [\"userId\", \"releaseId\", \"rating\", \"category\"], \"view\": null}, \"view_components\": [\"Summary\", \"Table\", \"Bar Chart\", \"BoxWhisker Plot\", \"Line Chart\", \"Scatter Plot\", \"Heat Map\", \"Plots\"], \"type\": \"SFrame\", \"columns\": [{\"dtype\": \"int\", \"name\": \"userId\"}, {\"dtype\": \"int\", \"name\": \"releaseId\"}, {\"dtype\": \"int\", \"name\": \"rating\"}, {\"dtype\": \"int\", \"name\": \"category\"}], \"column_identifiers\": [\"category\", \"releaseId\", \"userId\", \"rating\"]}, \"columns\": [{\"dtype\": \"int\", \"name\": \"userId\"}, {\"dtype\": \"int\", \"name\": \"releaseId\"}, {\"dtype\": \"int\", \"name\": \"rating\"}, {\"dtype\": \"int\", \"name\": \"category\"}]}, e);\n",
       "                });\n",
       "            })();\n",
       "        "
      ]
     },
     "metadata": {},
     "output_type": "display_data"
    }
   ],
   "source": [
    "graphlab.canvas.set_target('ipynb')\n",
    "discogs_frame.show()"
   ]
  },
  {
   "cell_type": "markdown",
   "metadata": {
    "deletable": true,
    "editable": true
   },
   "source": [
    "#### ~215,000  users"
   ]
  },
  {
   "cell_type": "markdown",
   "metadata": {
    "collapsed": false,
    "deletable": true,
    "editable": true
   },
   "source": [
    "# Find the most occuring releases"
   ]
  },
  {
   "cell_type": "code",
   "execution_count": 6,
   "metadata": {
    "collapsed": false,
    "deletable": true,
    "editable": true
   },
   "outputs": [],
   "source": [
    "most_frequent_releases = discogs_frame.groupby(key_columns={'releaseId'}, operations={'appearance_count':\n",
    "                                                           graphlab.aggregate.COUNT('releaseId')}).sort('appearance_count', ascending=False)"
   ]
  },
  {
   "cell_type": "code",
   "execution_count": 7,
   "metadata": {
    "collapsed": false,
    "deletable": true,
    "editable": true
   },
   "outputs": [
    {
     "data": {
      "text/html": [
       "<div style=\"max-height:1000px;max-width:1500px;overflow:auto;\"><table frame=\"box\" rules=\"cols\">\n",
       "    <tr>\n",
       "        <th style=\"padding-left: 1em; padding-right: 1em; text-align: center\">releaseId</th>\n",
       "        <th style=\"padding-left: 1em; padding-right: 1em; text-align: center\">appearance_count</th>\n",
       "    </tr>\n",
       "    <tr>\n",
       "        <td style=\"padding-left: 1em; padding-right: 1em; text-align: center; vertical-align: top\">4570366</td>\n",
       "        <td style=\"padding-left: 1em; padding-right: 1em; text-align: center; vertical-align: top\">9825</td>\n",
       "    </tr>\n",
       "    <tr>\n",
       "        <td style=\"padding-left: 1em; padding-right: 1em; text-align: center; vertical-align: top\">526351</td>\n",
       "        <td style=\"padding-left: 1em; padding-right: 1em; text-align: center; vertical-align: top\">8443</td>\n",
       "    </tr>\n",
       "    <tr>\n",
       "        <td style=\"padding-left: 1em; padding-right: 1em; text-align: center; vertical-align: top\">367104</td>\n",
       "        <td style=\"padding-left: 1em; padding-right: 1em; text-align: center; vertical-align: top\">7276</td>\n",
       "    </tr>\n",
       "    <tr>\n",
       "        <td style=\"padding-left: 1em; padding-right: 1em; text-align: center; vertical-align: top\">2911293</td>\n",
       "        <td style=\"padding-left: 1em; padding-right: 1em; text-align: center; vertical-align: top\">7031</td>\n",
       "    </tr>\n",
       "    <tr>\n",
       "        <td style=\"padding-left: 1em; padding-right: 1em; text-align: center; vertical-align: top\">1587168</td>\n",
       "        <td style=\"padding-left: 1em; padding-right: 1em; text-align: center; vertical-align: top\">6403</td>\n",
       "    </tr>\n",
       "    <tr>\n",
       "        <td style=\"padding-left: 1em; padding-right: 1em; text-align: center; vertical-align: top\">5764967</td>\n",
       "        <td style=\"padding-left: 1em; padding-right: 1em; text-align: center; vertical-align: top\">6159</td>\n",
       "    </tr>\n",
       "    <tr>\n",
       "        <td style=\"padding-left: 1em; padding-right: 1em; text-align: center; vertical-align: top\">74260</td>\n",
       "        <td style=\"padding-left: 1em; padding-right: 1em; text-align: center; vertical-align: top\">6127</td>\n",
       "    </tr>\n",
       "    <tr>\n",
       "        <td style=\"padding-left: 1em; padding-right: 1em; text-align: center; vertical-align: top\">194021</td>\n",
       "        <td style=\"padding-left: 1em; padding-right: 1em; text-align: center; vertical-align: top\">6046</td>\n",
       "    </tr>\n",
       "    <tr>\n",
       "        <td style=\"padding-left: 1em; padding-right: 1em; text-align: center; vertical-align: top\">1343227</td>\n",
       "        <td style=\"padding-left: 1em; padding-right: 1em; text-align: center; vertical-align: top\">5748</td>\n",
       "    </tr>\n",
       "    <tr>\n",
       "        <td style=\"padding-left: 1em; padding-right: 1em; text-align: center; vertical-align: top\">242785</td>\n",
       "        <td style=\"padding-left: 1em; padding-right: 1em; text-align: center; vertical-align: top\">5455</td>\n",
       "    </tr>\n",
       "</table>\n",
       "[12189505 rows x 2 columns]<br/>Note: Only the head of the SFrame is printed.<br/>You can use print_rows(num_rows=m, num_columns=n) to print more rows and columns.\n",
       "</div>"
      ],
      "text/plain": [
       "Columns:\n",
       "\treleaseId\tint\n",
       "\tappearance_count\tint\n",
       "\n",
       "Rows: 12189505\n",
       "\n",
       "Data:\n",
       "+-----------+------------------+\n",
       "| releaseId | appearance_count |\n",
       "+-----------+------------------+\n",
       "|  4570366  |       9825       |\n",
       "|   526351  |       8443       |\n",
       "|   367104  |       7276       |\n",
       "|  2911293  |       7031       |\n",
       "|  1587168  |       6403       |\n",
       "|  5764967  |       6159       |\n",
       "|   74260   |       6127       |\n",
       "|   194021  |       6046       |\n",
       "|  1343227  |       5748       |\n",
       "|   242785  |       5455       |\n",
       "+-----------+------------------+\n",
       "[12189505 rows x 2 columns]\n",
       "Note: Only the head of the SFrame is printed.\n",
       "You can use print_rows(num_rows=m, num_columns=n) to print more rows and columns."
      ]
     },
     "execution_count": 7,
     "metadata": {},
     "output_type": "execute_result"
    }
   ],
   "source": [
    "most_frequent_releases"
   ]
  },
  {
   "cell_type": "markdown",
   "metadata": {
    "deletable": true,
    "editable": true
   },
   "source": [
    "## Get the human readable names of these releases"
   ]
  },
  {
   "cell_type": "code",
   "execution_count": 8,
   "metadata": {
    "collapsed": true,
    "deletable": true,
    "editable": true
   },
   "outputs": [],
   "source": [
    "discogskey = open('discogskey.txt').readline() # Get my Discogs API token"
   ]
  },
  {
   "cell_type": "code",
   "execution_count": 9,
   "metadata": {
    "collapsed": true,
    "deletable": true,
    "editable": true
   },
   "outputs": [],
   "source": [
    "payload = {'token':discogskey}\n",
    "def get_release_name(releaseId):\n",
    "    response = requests.get('https://api.discogs.com/releases/' + str(releaseId), params=payload)\n",
    "    print response.json()['artists'][0]['name'] + \" \" + response.json()['title']"
   ]
  },
  {
   "cell_type": "code",
   "execution_count": 10,
   "metadata": {
    "collapsed": false,
    "deletable": true,
    "editable": true
   },
   "outputs": [
    {
     "name": "stdout",
     "output_type": "stream",
     "text": [
      "Daft Punk Random Access Memories\n",
      "Fleetwood Mac Rumours\n",
      "Pink Floyd The Dark Side Of The Moon\n",
      "Michael Jackson Thriller\n",
      "Radiohead OK Computer\n",
      "Jack White (2) Lazaretto\n",
      "Godspeed You Black Emperor! Lift Your Skinny Fists Like Antennas To Heaven\n",
      "Prince And The Revolution Purple Rain\n",
      "Bruce Springsteen Born In The U.S.A.\n",
      "MF Doom Madvillainy\n"
     ]
    }
   ],
   "source": [
    "for releaseId in most_frequent_releases['releaseId'][0:10]:\n",
    "    get_release_name(str(releaseId))"
   ]
  },
  {
   "cell_type": "markdown",
   "metadata": {
    "deletable": true,
    "editable": true
   },
   "source": [
    "## Number of rated releases"
   ]
  },
  {
   "cell_type": "code",
   "execution_count": 11,
   "metadata": {
    "collapsed": false,
    "deletable": true,
    "editable": true
   },
   "outputs": [
    {
     "name": "stdout",
     "output_type": "stream",
     "text": [
      "One star ratings: 133,695\n",
      "Two star ratings: 342,173\n",
      "Three star ratings: 1,537,875\n",
      "Four star ratings: 3,138,727\n",
      "Five star ratings: 4,486,020\n"
     ]
    }
   ],
   "source": [
    "print \"One star ratings: \" + str(format(len(discogs_frame[discogs_frame['rating']==1]), \",d\"))\n",
    "print \"Two star ratings: \" + str(format(len(discogs_frame[discogs_frame['rating']==2]), \",d\"))\n",
    "print \"Three star ratings: \" + str(format(len(discogs_frame[discogs_frame['rating']==3]), \",d\"))\n",
    "print \"Four star ratings: \" + str(format(len(discogs_frame[discogs_frame['rating']==4]), \",d\"))\n",
    "print \"Five star ratings: \" + str(format(len(discogs_frame[discogs_frame['rating']==5]), \",d\"))"
   ]
  },
  {
   "cell_type": "code",
   "execution_count": 12,
   "metadata": {
    "collapsed": false,
    "deletable": true,
    "editable": true
   },
   "outputs": [
    {
     "name": "stdout",
     "output_type": "stream",
     "text": [
      "Unrated: 80,385,187\n"
     ]
    }
   ],
   "source": [
    "print \"Unrated: \" + str(format(len(discogs_frame[discogs_frame['rating']==0]), \",d\"))"
   ]
  },
  {
   "cell_type": "markdown",
   "metadata": {
    "collapsed": true,
    "deletable": true,
    "editable": true
   },
   "source": [
    "## Create a subset containing only collection/wantlist/for sale without the 3 star ratings or below"
   ]
  },
  {
   "cell_type": "code",
   "execution_count": 13,
   "metadata": {
    "collapsed": false,
    "deletable": true,
    "editable": true
   },
   "outputs": [],
   "source": [
    "no_star_frame = discogs_frame[discogs_frame['rating']==0]\n",
    "four_or_five_star_frame = discogs_frame[discogs_frame['rating']>3]"
   ]
  },
  {
   "cell_type": "code",
   "execution_count": 14,
   "metadata": {
    "collapsed": false,
    "deletable": true,
    "editable": true
   },
   "outputs": [
    {
     "data": {
      "application/javascript": [
       "$(\"head\").append($(\"<link/>\").attr({\n",
       "  rel:  \"stylesheet\",\n",
       "  type: \"text/css\",\n",
       "  href: \"//cdnjs.cloudflare.com/ajax/libs/font-awesome/4.1.0/css/font-awesome.min.css\"\n",
       "}));\n",
       "$(\"head\").append($(\"<link/>\").attr({\n",
       "  rel:  \"stylesheet\",\n",
       "  type: \"text/css\",\n",
       "  href: \"https://static.turi.com/products/graphlab-create/2.1/canvas/css/canvas.css\"\n",
       "}));\n",
       "\n",
       "            (function(){\n",
       "\n",
       "                var e = null;\n",
       "                if (typeof element == 'undefined') {\n",
       "                    var scripts = document.getElementsByTagName('script');\n",
       "                    var thisScriptTag = scripts[scripts.length-1];\n",
       "                    var parentDiv = thisScriptTag.parentNode;\n",
       "                    e = document.createElement('div');\n",
       "                    parentDiv.appendChild(e);\n",
       "                } else {\n",
       "                    e = element[0];\n",
       "                }\n",
       "\n",
       "                if (typeof requirejs !== 'undefined') {\n",
       "                    // disable load timeout; ipython_app.js is large and can take a while to load.\n",
       "                    requirejs.config({waitSeconds: 0});\n",
       "                }\n",
       "\n",
       "                require(['https://static.turi.com/products/graphlab-create/2.1/canvas/js/ipython_app.js'], function(IPythonApp){\n",
       "                    var app = new IPythonApp();\n",
       "                    app.attachView('sframe','Summary', {\"ipython\": true, \"sketch\": {\"category\": {\"std\": 0.6242354570311069, \"complete\": true, \"min\": 0.0, \"max\": 2.0, \"quantile\": [0.0, 0.0, 0.0, 0.0, 0.0, 0.0, 0.0, 0.0, 0.0, 0.0, 0.0, 0.0, 0.0, 0.0, 0.0, 0.0, 0.0, 0.0, 0.0, 0.0, 0.0, 0.0, 0.0, 0.0, 0.0, 0.0, 0.0, 0.0, 0.0, 0.0, 0.0, 0.0, 0.0, 0.0, 0.0, 0.0, 0.0, 0.0, 0.0, 0.0, 0.0, 0.0, 0.0, 0.0, 0.0, 0.0, 0.0, 0.0, 0.0, 0.0, 0.0, 0.0, 0.0, 0.0, 0.0, 0.0, 0.0, 0.0, 0.0, 0.0, 0.0, 0.0, 0.0, 0.0, 0.0, 0.0, 0.0, 0.0, 0.0, 0.0, 0.0, 0.0, 0.0, 0.0, 0.0, 0.0, 0.0, 0.0, 1.0, 1.0, 1.0, 1.0, 1.0, 1.0, 1.0, 1.0, 1.0, 1.0, 1.0, 1.0, 1.0, 2.0, 2.0, 2.0, 2.0, 2.0, 2.0, 2.0, 2.0, 2.0, 2.0], \"median\": 0.0, \"numeric\": true, \"num_unique\": 3, \"num_undefined\": 0, \"var\": 0.38966990581483496, \"progress\": 1.0, \"size\": 80385187, \"frequent_items\": {\"0\": {\"frequency\": 62941406, \"value\": 0}, \"1\": {\"frequency\": 10312893, \"value\": 1}, \"2\": {\"frequency\": 7130888, \"value\": 2}}, \"mean\": 0.30571141173061056}, \"releaseId\": {\"std\": 62990557.43115628, \"complete\": true, \"min\": 1.0, \"max\": 469203102.0, \"quantile\": [1.0, 5506.0, 13408.0, 22711.0, 31453.0, 43005.0, 54191.0, 66766.0, 80980.0, 94841.0, 110828.0, 127235.0, 146778.0, 165804.0, 186149.0, 208112.0, 229087.0, 251437.0, 299976.0, 333426.0, 365831.0, 382877.0, 401503.0, 427555.0, 455554.0, 481737.0, 512592.0, 541608.0, 574778.0, 606421.0, 642919.0, 683232.0, 722563.0, 759699.0, 800413.0, 846526.0, 895602.0, 950487.0, 1001578.0, 1049434.0, 1095075.0, 1140533.0, 1192182.0, 1246179.0, 1300655.0, 1346180.0, 1395762.0, 1447642.0, 1505555.0, 1557964.0, 1611660.0, 1668310.0, 1729968.0, 1792402.0, 1848704.0, 1915411.0, 1981134.0, 2047563.0, 2120360.0, 2191572.0, 2267856.0, 2346720.0, 2422989.0, 2510187.0, 2591363.0, 2680201.0, 2778974.0, 2865962.0, 2960916.0, 3059003.0, 3171504.0, 3283695.0, 3398250.0, 3521068.0, 3637195.0, 3771189.0, 3914206.0, 4060861.0, 4220417.0, 4391196.0, 4546160.0, 4726974.0, 4913190.0, 5118837.0, 5363806.0, 5598404.0, 5831123.0, 6126353.0, 6424286.0, 6869818.0, 7429085.0, 8385800.0, 37608823.0, 87592250.0, 135991829.0, 178169856.0, 214764465.0, 244176568.0, 285383153.0, 327806852.0, 469203102.0], \"median\": 1611660.0, \"numeric\": true, \"num_unique\": 11953179, \"num_undefined\": 0, \"var\": 3967810325487797.0, \"progress\": 1.0, \"size\": 80385187, \"frequent_items\": {\"4570366\": {\"frequency\": 8445, \"value\": 4570366}, \"526351\": {\"frequency\": 7685, \"value\": 526351}}, \"mean\": 18945858.971708324}, \"userId\": {\"std\": 61077.37889039848, \"complete\": true, \"min\": 1.0, \"max\": 212660.0, \"quantile\": [1.0, 1768.0, 4486.0, 7427.0, 10225.0, 12190.0, 15457.0, 17389.0, 20140.0, 23423.0, 25708.0, 26946.0, 28866.0, 30895.0, 33158.0, 35246.0, 37847.0, 40301.0, 43144.0, 45277.0, 46353.0, 48374.0, 50372.0, 52447.0, 54930.0, 56438.0, 58143.0, 59698.0, 61630.0, 63971.0, 64902.0, 67430.0, 69816.0, 72523.0, 75257.0, 77448.0, 78868.0, 81020.0, 82989.0, 85003.0, 86580.0, 89023.0, 90353.0, 92949.0, 95579.0, 98255.0, 99204.0, 101253.0, 105344.0, 106720.0, 109156.0, 111526.0, 113527.0, 115251.0, 117953.0, 121272.0, 123992.0, 125292.0, 127163.0, 129217.0, 131373.0, 133236.0, 136067.0, 137860.0, 139957.0, 142500.0, 144265.0, 145633.0, 147985.0, 150488.0, 153037.0, 154810.0, 156786.0, 158616.0, 159563.0, 162108.0, 163969.0, 166013.0, 168350.0, 170053.0, 172721.0, 175473.0, 177024.0, 179193.0, 180289.0, 181945.0, 185073.0, 186700.0, 188555.0, 190854.0, 192815.0, 194725.0, 197881.0, 197881.0, 200292.0, 203015.0, 204270.0, 206520.0, 208631.0, 210895.0, 212660.0], \"median\": 109156.0, \"numeric\": true, \"num_unique\": 213484, \"num_undefined\": 0, \"var\": 3730446212.121294, \"progress\": 1.0, \"size\": 80385187, \"frequent_items\": {\"47104\": {\"frequency\": 19176, \"value\": 47104}, \"192519\": {\"frequency\": 8779, \"value\": 192519}, \"167949\": {\"frequency\": 10720, \"value\": 167949}, \"75792\": {\"frequency\": 10924, \"value\": 75792}, \"188443\": {\"frequency\": 8355, \"value\": 188443}, \"55324\": {\"frequency\": 12629, \"value\": 55324}, \"137251\": {\"frequency\": 8723, \"value\": 137251}, \"106844\": {\"frequency\": 9874, \"value\": 106844}, \"65578\": {\"frequency\": 8672, \"value\": 65578}, \"157742\": {\"frequency\": 8262, \"value\": 157742}, \"116788\": {\"frequency\": 11740, \"value\": 116788}, \"69704\": {\"frequency\": 10355, \"value\": 69704}, \"147529\": {\"frequency\": 19799, \"value\": 147529}, \"155724\": {\"frequency\": 9405, \"value\": 155724}, \"36946\": {\"frequency\": 23071, \"value\": 36946}, \"12374\": {\"frequency\": 10570, \"value\": 12374}, \"113337\": {\"frequency\": 13931, \"value\": 113337}, \"77916\": {\"frequency\": 9292, \"value\": 77916}, \"34909\": {\"frequency\": 11822, \"value\": 34909}, \"57438\": {\"frequency\": 8358, \"value\": 57438}, \"188518\": {\"frequency\": 8184, \"value\": 188518}, \"24679\": {\"frequency\": 13013, \"value\": 24679}, \"165993\": {\"frequency\": 10068, \"value\": 165993}, \"49258\": {\"frequency\": 17349, \"value\": 49258}, \"163958\": {\"frequency\": 15228, \"value\": 163958}, \"166249\": {\"frequency\": 13066, \"value\": 166249}, \"57464\": {\"frequency\": 11400, \"value\": 57464}, \"168058\": {\"frequency\": 40717, \"value\": 168058}, \"139967\": {\"frequency\": 9519, \"value\": 139967}, \"196738\": {\"frequency\": 17599, \"value\": 196738}, \"200847\": {\"frequency\": 9422, \"value\": 200847}, \"120980\": {\"frequency\": 10381, \"value\": 120980}, \"51908\": {\"frequency\": 8637, \"value\": 51908}, \"205683\": {\"frequency\": 17764, \"value\": 205683}, \"186525\": {\"frequency\": 8877, \"value\": 186525}, \"98463\": {\"frequency\": 7772, \"value\": 98463}, \"59558\": {\"frequency\": 10027, \"value\": 59558}, \"53415\": {\"frequency\": 16333, \"value\": 53415}, \"82091\": {\"frequency\": 32378, \"value\": 82091}, \"100525\": {\"frequency\": 9228, \"value\": 100525}, \"24753\": {\"frequency\": 10229, \"value\": 24753}, \"61622\": {\"frequency\": 15966, \"value\": 61622}, \"55480\": {\"frequency\": 10221, \"value\": 55480}, \"143548\": {\"frequency\": 13033, \"value\": 143548}, \"92350\": {\"frequency\": 8595, \"value\": 92350}, \"20671\": {\"frequency\": 11219, \"value\": 20671}, \"131265\": {\"frequency\": 9697, \"value\": 131265}, \"184514\": {\"frequency\": 13455, \"value\": 184514}, \"128033\": {\"frequency\": 8391, \"value\": 128033}, \"141687\": {\"frequency\": 11107, \"value\": 141687}, \"202957\": {\"frequency\": 12302, \"value\": 202957}, \"59598\": {\"frequency\": 11740, \"value\": 59598}, \"157675\": {\"frequency\": 7875, \"value\": 157675}, \"90323\": {\"frequency\": 9121, \"value\": 90323}, \"180436\": {\"frequency\": 12397, \"value\": 180436}, \"174296\": {\"frequency\": 14527, \"value\": 174296}, \"192729\": {\"frequency\": 12778, \"value\": 192729}, \"30939\": {\"frequency\": 23268, \"value\": 30939}, \"188638\": {\"frequency\": 10777, \"value\": 188638}, \"184543\": {\"frequency\": 13113, \"value\": 184543}, \"133345\": {\"frequency\": 9690, \"value\": 133345}, \"202980\": {\"frequency\": 8291, \"value\": 202980}, \"76007\": {\"frequency\": 11347, \"value\": 76007}, \"16616\": {\"frequency\": 8323, \"value\": 16616}, \"78061\": {\"frequency\": 9849, \"value\": 78061}, \"162032\": {\"frequency\": 9517, \"value\": 162032}, \"114931\": {\"frequency\": 11146, \"value\": 114931}, \"88311\": {\"frequency\": 8258, \"value\": 88311}, \"92411\": {\"frequency\": 15494, \"value\": 92411}, \"129280\": {\"frequency\": 8038, \"value\": 129280}, \"28937\": {\"frequency\": 18591, \"value\": 28937}, \"104714\": {\"frequency\": 8145, \"value\": 104714}, \"47379\": {\"frequency\": 8750, \"value\": 47379}, \"129312\": {\"frequency\": 13059, \"value\": 129312}, \"28963\": {\"frequency\": 7788, \"value\": 28963}, \"151844\": {\"frequency\": 8302, \"value\": 151844}, \"63782\": {\"frequency\": 9155, \"value\": 63782}, \"202460\": {\"frequency\": 9203, \"value\": 202460}, \"190764\": {\"frequency\": 11546, \"value\": 190764}, \"302\": {\"frequency\": 35344, \"value\": 302}, \"162098\": {\"frequency\": 10071, \"value\": 162098}, \"158003\": {\"frequency\": 8470, \"value\": 158003}, \"149813\": {\"frequency\": 8346, \"value\": 149813}, \"71993\": {\"frequency\": 16397, \"value\": 71993}, \"108859\": {\"frequency\": 10281, \"value\": 108859}, \"10557\": {\"frequency\": 8723, \"value\": 10557}, \"162115\": {\"frequency\": 8636, \"value\": 162115}, \"108872\": {\"frequency\": 8788, \"value\": 108872}, \"180558\": {\"frequency\": 11504, \"value\": 180558}, \"211283\": {\"frequency\": 13987, \"value\": 211283}, \"162132\": {\"frequency\": 11948, \"value\": 162132}, \"203094\": {\"frequency\": 8791, \"value\": 203094}, \"131420\": {\"frequency\": 8498, \"value\": 131420}, \"55645\": {\"frequency\": 12062, \"value\": 55645}, \"46825\": {\"frequency\": 11715, \"value\": 46825}, \"201062\": {\"frequency\": 30422, \"value\": 201062}, \"24937\": {\"frequency\": 9778, \"value\": 24937}, \"203116\": {\"frequency\": 16375, \"value\": 203116}, \"147829\": {\"frequency\": 17557, \"value\": 147829}, \"8567\": {\"frequency\": 13313, \"value\": 8567}, \"65917\": {\"frequency\": 9812, \"value\": 65917}, \"382\": {\"frequency\": 10221, \"value\": 382}, \"47488\": {\"frequency\": 9660, \"value\": 47488}, \"125313\": {\"frequency\": 10678, \"value\": 125313}, \"191211\": {\"frequency\": 31919, \"value\": 191211}, \"98692\": {\"frequency\": 14221, \"value\": 98692}, \"4486\": {\"frequency\": 11442, \"value\": 4486}, \"74121\": {\"frequency\": 9720, \"value\": 74121}, \"96651\": {\"frequency\": 10682, \"value\": 96651}, \"153997\": {\"frequency\": 92282, \"value\": 153997}, \"45456\": {\"frequency\": 9567, \"value\": 45456}, \"119185\": {\"frequency\": 14489, \"value\": 119185}, \"403\": {\"frequency\": 7433, \"value\": 403}, \"94620\": {\"frequency\": 9971, \"value\": 94620}, \"191557\": {\"frequency\": 13498, \"value\": 191557}, \"63905\": {\"frequency\": 8536, \"value\": 63905}, \"90530\": {\"frequency\": 8446, \"value\": 90530}, \"63908\": {\"frequency\": 21675, \"value\": 63908}, \"180977\": {\"frequency\": 10123, \"value\": 180977}, \"172456\": {\"frequency\": 12599, \"value\": 172456}, \"127401\": {\"frequency\": 12776, \"value\": 127401}, \"190897\": {\"frequency\": 9824, \"value\": 190897}, \"51637\": {\"frequency\": 32065, \"value\": 51637}, \"108986\": {\"frequency\": 19202, \"value\": 108986}, \"121280\": {\"frequency\": 10931, \"value\": 121280}, \"174537\": {\"frequency\": 18486, \"value\": 174537}, \"205266\": {\"frequency\": 8976, \"value\": 205266}, \"203219\": {\"frequency\": 14417, \"value\": 203219}, \"41434\": {\"frequency\": 9314, \"value\": 41434}, \"113119\": {\"frequency\": 9689, \"value\": 113119}, \"43494\": {\"frequency\": 9100, \"value\": 43494}, \"33255\": {\"frequency\": 11982, \"value\": 33255}, \"113128\": {\"frequency\": 8477, \"value\": 113128}, \"125417\": {\"frequency\": 10319, \"value\": 125417}, \"162283\": {\"frequency\": 8285, \"value\": 162283}, \"172524\": {\"frequency\": 10275, \"value\": 172524}, \"164335\": {\"frequency\": 8010, \"value\": 164335}, \"207345\": {\"frequency\": 8696, \"value\": 207345}, \"131573\": {\"frequency\": 11108, \"value\": 131573}, \"84478\": {\"frequency\": 9045, \"value\": 84478}, \"203265\": {\"frequency\": 16479, \"value\": 203265}, \"207362\": {\"frequency\": 8108, \"value\": 207362}, \"129541\": {\"frequency\": 8046, \"value\": 129541}, \"150023\": {\"frequency\": 8562, \"value\": 150023}, \"80395\": {\"frequency\": 14654, \"value\": 80395}, \"113168\": {\"frequency\": 17550, \"value\": 113168}, \"29207\": {\"frequency\": 8382, \"value\": 29207}, \"72217\": {\"frequency\": 9782, \"value\": 72217}, \"211489\": {\"frequency\": 7807, \"value\": 211489}, \"55844\": {\"frequency\": 22701, \"value\": 55844}, \"164396\": {\"frequency\": 9836, \"value\": 164396}, \"92723\": {\"frequency\": 10061, \"value\": 92723}, \"191029\": {\"frequency\": 9086, \"value\": 191029}, \"566\": {\"frequency\": 19623, \"value\": 566}, \"143934\": {\"frequency\": 9850, \"value\": 143934}, \"41540\": {\"frequency\": 8420, \"value\": 41540}, \"92742\": {\"frequency\": 19758, \"value\": 92742}, \"12871\": {\"frequency\": 20633, \"value\": 12871}, \"53835\": {\"frequency\": 10128, \"value\": 53835}, \"86604\": {\"frequency\": 13010, \"value\": 86604}, \"2637\": {\"frequency\": 13841, \"value\": 2637}, \"169963\": {\"frequency\": 16739, \"value\": 169963}, \"203344\": {\"frequency\": 13254, \"value\": 203344}, \"58467\": {\"frequency\": 28292, \"value\": 58467}, \"131669\": {\"frequency\": 12562, \"value\": 131669}, \"160343\": {\"frequency\": 8348, \"value\": 160343}, \"88664\": {\"frequency\": 10547, \"value\": 88664}, \"41565\": {\"frequency\": 8859, \"value\": 41565}, \"209506\": {\"frequency\": 10185, \"value\": 209506}, \"33379\": {\"frequency\": 7865, \"value\": 33379}, \"53865\": {\"frequency\": 9043, \"value\": 53865}, \"189034\": {\"frequency\": 7987, \"value\": 189034}, \"115308\": {\"frequency\": 19734, \"value\": 115308}, \"129648\": {\"frequency\": 11624, \"value\": 129648}, \"626\": {\"frequency\": 9092, \"value\": 626}, \"185790\": {\"frequency\": 11595, \"value\": 185790}, \"86650\": {\"frequency\": 8720, \"value\": 86650}, \"184955\": {\"frequency\": 8979, \"value\": 184955}, \"143996\": {\"frequency\": 7773, \"value\": 143996}, \"49789\": {\"frequency\": 14603, \"value\": 49789}, \"154048\": {\"frequency\": 9564, \"value\": 154048}, \"113282\": {\"frequency\": 8373, \"value\": 113282}, \"176771\": {\"frequency\": 11798, \"value\": 176771}, \"156293\": {\"frequency\": 14324, \"value\": 156293}, \"103047\": {\"frequency\": 8394, \"value\": 103047}, \"139912\": {\"frequency\": 12166, \"value\": 139912}, \"176777\": {\"frequency\": 8621, \"value\": 176777}, \"4748\": {\"frequency\": 16502, \"value\": 4748}, \"86669\": {\"frequency\": 12547, \"value\": 86669}, \"180878\": {\"frequency\": 10070, \"value\": 180878}, \"203407\": {\"frequency\": 22610, \"value\": 203407}, \"162449\": {\"frequency\": 21763, \"value\": 162449}, \"129683\": {\"frequency\": 19309, \"value\": 129683}, \"103060\": {\"frequency\": 9921, \"value\": 103060}, \"203415\": {\"frequency\": 12479, \"value\": 203415}, \"68250\": {\"frequency\": 11022, \"value\": 68250}, \"92827\": {\"frequency\": 9935, \"value\": 92827}, \"80542\": {\"frequency\": 9847, \"value\": 80542}, \"19103\": {\"frequency\": 10554, \"value\": 19103}, \"21155\": {\"frequency\": 14853, \"value\": 21155}, \"180900\": {\"frequency\": 15194, \"value\": 180900}, \"86695\": {\"frequency\": 10959, \"value\": 86695}, \"105132\": {\"frequency\": 14504, \"value\": 105132}, \"152237\": {\"frequency\": 11157, \"value\": 152237}, \"117423\": {\"frequency\": 14802, \"value\": 117423}, \"17077\": {\"frequency\": 9691, \"value\": 17077}, \"96953\": {\"frequency\": 11207, \"value\": 96953}, \"150206\": {\"frequency\": 14741, \"value\": 150206}, \"96959\": {\"frequency\": 8030, \"value\": 96959}, \"205507\": {\"frequency\": 9370, \"value\": 205507}, \"96964\": {\"frequency\": 15853, \"value\": 96964}, \"211655\": {\"frequency\": 10650, \"value\": 211655}, \"198064\": {\"frequency\": 70373, \"value\": 198064}, \"45790\": {\"frequency\": 24196, \"value\": 45790}, \"207584\": {\"frequency\": 10762, \"value\": 207584}, \"190587\": {\"frequency\": 9433, \"value\": 190587}, \"21221\": {\"frequency\": 22129, \"value\": 21221}, \"29417\": {\"frequency\": 11033, \"value\": 29417}, \"78571\": {\"frequency\": 13067, \"value\": 78571}, \"13041\": {\"frequency\": 8012, \"value\": 13041}, \"162546\": {\"frequency\": 11758, \"value\": 162546}, \"88821\": {\"frequency\": 9019, \"value\": 88821}, \"185081\": {\"frequency\": 10251, \"value\": 185081}, \"209660\": {\"frequency\": 10118, \"value\": 209660}, \"140036\": {\"frequency\": 12000, \"value\": 140036}, \"117511\": {\"frequency\": 8801, \"value\": 117511}, \"137995\": {\"frequency\": 14329, \"value\": 137995}, \"17166\": {\"frequency\": 11474, \"value\": 17166}, \"131780\": {\"frequency\": 24550, \"value\": 131780}, \"121646\": {\"frequency\": 16268, \"value\": 121646}, \"43800\": {\"frequency\": 13677, \"value\": 43800}, \"43801\": {\"frequency\": 11179, \"value\": 43801}, \"99100\": {\"frequency\": 14347, \"value\": 99100}, \"80669\": {\"frequency\": 8241, \"value\": 80669}, \"54047\": {\"frequency\": 11047, \"value\": 54047}, \"185122\": {\"frequency\": 11476, \"value\": 185122}, \"189219\": {\"frequency\": 8797, \"value\": 189219}, \"76588\": {\"frequency\": 9738, \"value\": 76588}, \"37678\": {\"frequency\": 9397, \"value\": 37678}, \"140081\": {\"frequency\": 8670, \"value\": 140081}, \"45876\": {\"frequency\": 14695, \"value\": 45876}, \"72503\": {\"frequency\": 7775, \"value\": 72503}, \"133946\": {\"frequency\": 23573, \"value\": 133946}, \"49979\": {\"frequency\": 7867, \"value\": 49979}, \"11068\": {\"frequency\": 12900, \"value\": 11068}, \"166717\": {\"frequency\": 9283, \"value\": 166717}, \"203586\": {\"frequency\": 9382, \"value\": 203586}, \"29507\": {\"frequency\": 8775, \"value\": 29507}, \"133958\": {\"frequency\": 21995, \"value\": 133958}, \"123720\": {\"frequency\": 12185, \"value\": 123720}, \"195414\": {\"frequency\": 9454, \"value\": 195414}, \"156503\": {\"frequency\": 10465, \"value\": 156503}, \"47960\": {\"frequency\": 8358, \"value\": 47960}, \"70489\": {\"frequency\": 19004, \"value\": 70489}, \"84826\": {\"frequency\": 9788, \"value\": 84826}, \"37724\": {\"frequency\": 7873, \"value\": 37724}, \"211805\": {\"frequency\": 13902, \"value\": 211805}, \"70495\": {\"frequency\": 10264, \"value\": 70495}, \"31589\": {\"frequency\": 9338, \"value\": 31589}, \"31590\": {\"frequency\": 10480, \"value\": 31590}, \"197480\": {\"frequency\": 8455, \"value\": 197480}, \"60903\": {\"frequency\": 9169, \"value\": 60903}, \"168813\": {\"frequency\": 13620, \"value\": 168813}, \"60271\": {\"frequency\": 25952, \"value\": 60271}, \"72168\": {\"frequency\": 8225, \"value\": 72168}, \"41842\": {\"frequency\": 12066, \"value\": 41842}, \"64371\": {\"frequency\": 69190, \"value\": 64371}, \"187254\": {\"frequency\": 10904, \"value\": 187254}, \"191352\": {\"frequency\": 13282, \"value\": 191352}, \"144251\": {\"frequency\": 11208, \"value\": 144251}, \"203645\": {\"frequency\": 11914, \"value\": 203645}, \"60292\": {\"frequency\": 19964, \"value\": 60292}, \"207758\": {\"frequency\": 8891, \"value\": 207758}, \"103314\": {\"frequency\": 13579, \"value\": 103314}, \"168852\": {\"frequency\": 21293, \"value\": 168852}, \"117664\": {\"frequency\": 8647, \"value\": 117664}, \"183792\": {\"frequency\": 13329, \"value\": 183792}, \"29603\": {\"frequency\": 13704, \"value\": 29603}, \"109477\": {\"frequency\": 15227, \"value\": 109477}, \"70566\": {\"frequency\": 8089, \"value\": 70566}, \"204273\": {\"frequency\": 10122, \"value\": 204273}, \"125869\": {\"frequency\": 7956, \"value\": 125869}, \"166830\": {\"frequency\": 14235, \"value\": 166830}, \"33713\": {\"frequency\": 8453, \"value\": 33713}, \"78770\": {\"frequency\": 20200, \"value\": 78770}, \"148407\": {\"frequency\": 11427, \"value\": 148407}, \"86970\": {\"frequency\": 9402, \"value\": 86970}, \"211902\": {\"frequency\": 9173, \"value\": 211902}, \"148415\": {\"frequency\": 8709, \"value\": 148415}, \"33730\": {\"frequency\": 10606, \"value\": 33730}, \"3023\": {\"frequency\": 10977, \"value\": 3023}, \"211922\": {\"frequency\": 10888, \"value\": 211922}, \"138200\": {\"frequency\": 9681, \"value\": 138200}, \"3037\": {\"frequency\": 12868, \"value\": 3037}, \"123875\": {\"frequency\": 7979, \"value\": 123875}, \"150500\": {\"frequency\": 9348, \"value\": 150500}, \"158695\": {\"frequency\": 8982, \"value\": 158695}, \"78826\": {\"frequency\": 7722, \"value\": 78826}, \"52204\": {\"frequency\": 9915, \"value\": 52204}, \"187393\": {\"frequency\": 34049, \"value\": 187393}, \"3079\": {\"frequency\": 15062, \"value\": 3079}, \"197641\": {\"frequency\": 13488, \"value\": 197641}, \"19473\": {\"frequency\": 19991, \"value\": 19473}, \"154651\": {\"frequency\": 9805, \"value\": 154651}, \"181277\": {\"frequency\": 22544, \"value\": 181277}, \"50209\": {\"frequency\": 8252, \"value\": 50209}, \"156706\": {\"frequency\": 7294, \"value\": 156706}, \"82989\": {\"frequency\": 10702, \"value\": 82989}, \"66608\": {\"frequency\": 10271, \"value\": 66608}, \"35890\": {\"frequency\": 16678, \"value\": 35890}, \"177204\": {\"frequency\": 11270, \"value\": 177204}, \"20318\": {\"frequency\": 17019, \"value\": 20318}, \"99387\": {\"frequency\": 10140, \"value\": 99387}, \"166972\": {\"frequency\": 13212, \"value\": 166972}, \"87109\": {\"frequency\": 7673, \"value\": 87109}, \"1102\": {\"frequency\": 12403, \"value\": 1102}, \"17494\": {\"frequency\": 10105, \"value\": 17494}, \"1117\": {\"frequency\": 50378, \"value\": 1117}, \"76898\": {\"frequency\": 11502, \"value\": 76898}, \"156771\": {\"frequency\": 20075, \"value\": 156771}, \"132200\": {\"frequency\": 20013, \"value\": 132200}, \"25708\": {\"frequency\": 8179, \"value\": 25708}, \"156786\": {\"frequency\": 15688, \"value\": 156786}, \"33910\": {\"frequency\": 17008, \"value\": 33910}, \"46200\": {\"frequency\": 62769, \"value\": 46200}, \"35961\": {\"frequency\": 21282, \"value\": 35961}, \"193659\": {\"frequency\": 11412, \"value\": 193659}, \"40073\": {\"frequency\": 9934, \"value\": 40073}, \"93326\": {\"frequency\": 9736, \"value\": 93326}, \"40080\": {\"frequency\": 8545, \"value\": 40080}, \"76947\": {\"frequency\": 14051, \"value\": 76947}, \"136341\": {\"frequency\": 13696, \"value\": 136341}, \"79000\": {\"frequency\": 7968, \"value\": 79000}, \"19611\": {\"frequency\": 10160, \"value\": 19611}, \"185505\": {\"frequency\": 10028, \"value\": 185505}, \"148645\": {\"frequency\": 8200, \"value\": 148645}, \"177326\": {\"frequency\": 14107, \"value\": 177326}, \"15219\": {\"frequency\": 6920, \"value\": 15219}, \"38073\": {\"frequency\": 10161, \"value\": 38073}, \"154810\": {\"frequency\": 12205, \"value\": 154810}, \"36042\": {\"frequency\": 50045, \"value\": 36042}, \"160974\": {\"frequency\": 15121, \"value\": 160974}, \"103633\": {\"frequency\": 24513, \"value\": 103633}, \"181454\": {\"frequency\": 7295, \"value\": 181454}, \"107734\": {\"frequency\": 13454, \"value\": 107734}, \"54493\": {\"frequency\": 15495, \"value\": 54493}, \"70882\": {\"frequency\": 11746, \"value\": 70882}, \"66787\": {\"frequency\": 9481, \"value\": 66787}, \"177380\": {\"frequency\": 9735, \"value\": 177380}, \"115942\": {\"frequency\": 8988, \"value\": 115942}, \"156906\": {\"frequency\": 7869, \"value\": 156906}, \"113899\": {\"frequency\": 82574, \"value\": 113899}, \"107756\": {\"frequency\": 10826, \"value\": 107756}, \"182483\": {\"frequency\": 7687, \"value\": 182483}, \"194877\": {\"frequency\": 9238, \"value\": 194877}, \"161016\": {\"frequency\": 17091, \"value\": 161016}, \"42233\": {\"frequency\": 7502, \"value\": 42233}, \"173318\": {\"frequency\": 35575, \"value\": 173318}, \"138507\": {\"frequency\": 11700, \"value\": 138507}, \"83217\": {\"frequency\": 10304, \"value\": 83217}, \"65411\": {\"frequency\": 11011, \"value\": 65411}, \"99204\": {\"frequency\": 13208, \"value\": 99204}, \"75037\": {\"frequency\": 8432, \"value\": 75037}, \"118049\": {\"frequency\": 12020, \"value\": 118049}, \"192731\": {\"frequency\": 21361, \"value\": 192731}, \"183592\": {\"frequency\": 8539, \"value\": 183592}, \"105769\": {\"frequency\": 9632, \"value\": 105769}, \"152874\": {\"frequency\": 5694, \"value\": 152874}, \"36140\": {\"frequency\": 9923, \"value\": 36140}, \"42286\": {\"frequency\": 15458, \"value\": 42286}, \"195805\": {\"frequency\": 8086, \"value\": 195805}, \"36144\": {\"frequency\": 12145, \"value\": 36144}, \"50484\": {\"frequency\": 8863, \"value\": 50484}, \"144694\": {\"frequency\": 11562, \"value\": 144694}, \"202042\": {\"frequency\": 16751, \"value\": 202042}, \"13627\": {\"frequency\": 21981, \"value\": 13627}, \"185661\": {\"frequency\": 10845, \"value\": 185661}, \"19774\": {\"frequency\": 12893, \"value\": 19774}, \"46399\": {\"frequency\": 9304, \"value\": 46399}, \"34279\": {\"frequency\": 15183, \"value\": 34279}, \"15694\": {\"frequency\": 10683, \"value\": 15694}, \"138467\": {\"frequency\": 9205, \"value\": 138467}, \"169870\": {\"frequency\": 13728, \"value\": 169870}, \"89433\": {\"frequency\": 24548, \"value\": 89433}, \"79204\": {\"frequency\": 13392, \"value\": 79204}, \"148841\": {\"frequency\": 29789, \"value\": 148841}, \"200043\": {\"frequency\": 19326, \"value\": 200043}, \"1388\": {\"frequency\": 10602, \"value\": 1388}, \"101266\": {\"frequency\": 9035, \"value\": 101266}, \"109939\": {\"frequency\": 15123, \"value\": 109939}, \"83860\": {\"frequency\": 8781, \"value\": 83860}, \"15744\": {\"frequency\": 32806, \"value\": 15744}, \"28033\": {\"frequency\": 8345, \"value\": 28033}, \"83331\": {\"frequency\": 13398, \"value\": 83331}, \"78881\": {\"frequency\": 13103, \"value\": 78881}, \"71058\": {\"frequency\": 11237, \"value\": 71058}, \"42391\": {\"frequency\": 10899, \"value\": 42391}, \"136601\": {\"frequency\": 13841, \"value\": 136601}, \"38469\": {\"frequency\": 9989, \"value\": 38469}, \"148896\": {\"frequency\": 10715, \"value\": 148896}, \"32168\": {\"frequency\": 9813, \"value\": 32168}, \"136618\": {\"frequency\": 15351, \"value\": 136618}, \"167342\": {\"frequency\": 9829, \"value\": 167342}, \"202160\": {\"frequency\": 9114, \"value\": 202160}, \"107954\": {\"frequency\": 7835, \"value\": 107954}, \"148919\": {\"frequency\": 18591, \"value\": 148919}, \"1468\": {\"frequency\": 8775, \"value\": 1468}, \"52669\": {\"frequency\": 8527, \"value\": 52669}, \"81342\": {\"frequency\": 9268, \"value\": 81342}, \"36291\": {\"frequency\": 10218, \"value\": 36291}, \"181702\": {\"frequency\": 14019, \"value\": 181702}, \"130505\": {\"frequency\": 10184, \"value\": 130505}, \"145655\": {\"frequency\": 10245, \"value\": 145655}, \"153694\": {\"frequency\": 16147, \"value\": 153694}, \"153037\": {\"frequency\": 20230, \"value\": 153037}, \"191737\": {\"frequency\": 9595, \"value\": 191737}, \"15833\": {\"frequency\": 13532, \"value\": 15833}, \"93658\": {\"frequency\": 12420, \"value\": 93658}, \"136672\": {\"frequency\": 7986, \"value\": 136672}, \"181729\": {\"frequency\": 10467, \"value\": 181729}, \"48610\": {\"frequency\": 11383, \"value\": 48610}, \"148967\": {\"frequency\": 10084, \"value\": 148967}, \"155112\": {\"frequency\": 12060, \"value\": 155112}, \"116205\": {\"frequency\": 18546, \"value\": 116205}, \"30602\": {\"frequency\": 9351, \"value\": 30602}, \"93680\": {\"frequency\": 14213, \"value\": 93680}, \"138737\": {\"frequency\": 9327, \"value\": 138737}, \"67058\": {\"frequency\": 16326, \"value\": 67058}, \"136702\": {\"frequency\": 8064, \"value\": 136702}, \"185858\": {\"frequency\": 16504, \"value\": 185858}, \"101049\": {\"frequency\": 8646, \"value\": 101049}, \"24074\": {\"frequency\": 9929, \"value\": 24074}, \"183822\": {\"frequency\": 10513, \"value\": 183822}, \"159249\": {\"frequency\": 8186, \"value\": 159249}, \"28185\": {\"frequency\": 9406, \"value\": 28185}, \"200219\": {\"frequency\": 11811, \"value\": 200219}, \"32286\": {\"frequency\": 9595, \"value\": 32286}, \"210182\": {\"frequency\": 8231, \"value\": 210182}, \"42537\": {\"frequency\": 9669, \"value\": 42537}, \"58925\": {\"frequency\": 16151, \"value\": 58925}, \"136754\": {\"frequency\": 10971, \"value\": 136754}, \"161334\": {\"frequency\": 8885, \"value\": 161334}, \"161335\": {\"frequency\": 7441, \"value\": 161335}, \"48701\": {\"frequency\": 9324, \"value\": 48701}, \"118341\": {\"frequency\": 29911, \"value\": 118341}, \"48722\": {\"frequency\": 38392, \"value\": 48722}, \"65121\": {\"frequency\": 18259, \"value\": 65121}, \"169575\": {\"frequency\": 16102, \"value\": 169575}, \"181864\": {\"frequency\": 29671, \"value\": 181864}, \"190055\": {\"frequency\": 13878, \"value\": 190055}, \"65134\": {\"frequency\": 11664, \"value\": 65134}, \"147056\": {\"frequency\": 18614, \"value\": 147056}, \"138870\": {\"frequency\": 14899, \"value\": 138870}, \"63098\": {\"frequency\": 14558, \"value\": 63098}, \"144319\": {\"frequency\": 10915, \"value\": 144319}, \"3715\": {\"frequency\": 13808, \"value\": 3715}, \"97927\": {\"frequency\": 14067, \"value\": 97927}, \"67209\": {\"frequency\": 8459, \"value\": 67209}, \"183234\": {\"frequency\": 11898, \"value\": 183234}, \"132758\": {\"frequency\": 9700, \"value\": 132758}, \"108184\": {\"frequency\": 10571, \"value\": 108184}, \"28317\": {\"frequency\": 18768, \"value\": 28317}, \"159390\": {\"frequency\": 13850, \"value\": 159390}, \"112297\": {\"frequency\": 28451, \"value\": 112297}, \"33394\": {\"frequency\": 13177, \"value\": 33394}, \"26295\": {\"frequency\": 37794, \"value\": 26295}, \"202424\": {\"frequency\": 11021, \"value\": 202424}, \"181945\": {\"frequency\": 23530, \"value\": 181945}, \"28347\": {\"frequency\": 9781, \"value\": 28347}, \"34494\": {\"frequency\": 9157, \"value\": 34494}, \"198336\": {\"frequency\": 9882, \"value\": 198336}, \"196289\": {\"frequency\": 13875, \"value\": 196289}, \"153282\": {\"frequency\": 12454, \"value\": 153282}, \"194245\": {\"frequency\": 9287, \"value\": 194245}, \"26310\": {\"frequency\": 10067, \"value\": 26310}, \"159431\": {\"frequency\": 9324, \"value\": 159431}, \"203615\": {\"frequency\": 14226, \"value\": 203615}, \"24275\": {\"frequency\": 9732, \"value\": 24275}, \"106198\": {\"frequency\": 12224, \"value\": 106198}, \"124632\": {\"frequency\": 11139, \"value\": 124632}, \"182564\": {\"frequency\": 9112, \"value\": 182564}, \"136924\": {\"frequency\": 14936, \"value\": 136924}, \"65146\": {\"frequency\": 8493, \"value\": 65146}, \"179941\": {\"frequency\": 16178, \"value\": 179941}, \"85734\": {\"frequency\": 33891, \"value\": 85734}, \"71399\": {\"frequency\": 8379, \"value\": 71399}, \"126696\": {\"frequency\": 10242, \"value\": 126696}, \"59113\": {\"frequency\": 13401, \"value\": 59113}, \"15792\": {\"frequency\": 8101, \"value\": 15792}, \"36137\": {\"frequency\": 17001, \"value\": 36137}, \"155386\": {\"frequency\": 10998, \"value\": 155386}, \"87805\": {\"frequency\": 13200, \"value\": 87805}, \"156972\": {\"frequency\": 11116, \"value\": 156972}, \"139906\": {\"frequency\": 18206, \"value\": 139906}, \"160046\": {\"frequency\": 9372, \"value\": 160046}, \"65308\": {\"frequency\": 9429, \"value\": 65308}, \"163614\": {\"frequency\": 8891, \"value\": 163614}, \"141957\": {\"frequency\": 14010, \"value\": 141957}, \"42288\": {\"frequency\": 16628, \"value\": 42288}, \"210907\": {\"frequency\": 11713, \"value\": 210907}, \"55077\": {\"frequency\": 18269, \"value\": 55077}, \"153382\": {\"frequency\": 12834, \"value\": 153382}, \"55079\": {\"frequency\": 13556, \"value\": 55079}, \"151419\": {\"frequency\": 14145, \"value\": 151419}, \"24377\": {\"frequency\": 8861, \"value\": 24377}, \"157501\": {\"frequency\": 9086, \"value\": 157501}, \"157506\": {\"frequency\": 12537, \"value\": 157506}, \"85827\": {\"frequency\": 17896, \"value\": 85827}, \"147273\": {\"frequency\": 8604, \"value\": 147273}, \"165710\": {\"frequency\": 14250, \"value\": 165710}, \"77650\": {\"frequency\": 25114, \"value\": 77650}, \"55130\": {\"frequency\": 9258, \"value\": 55130}, \"153437\": {\"frequency\": 8574, \"value\": 153437}, \"132958\": {\"frequency\": 9212, \"value\": 132958}, \"26464\": {\"frequency\": 12017, \"value\": 26464}, \"165732\": {\"frequency\": 8007, \"value\": 165732}, \"208746\": {\"frequency\": 26706, \"value\": 208746}, \"147309\": {\"frequency\": 9823, \"value\": 147309}, \"200559\": {\"frequency\": 10441, \"value\": 200559}, \"110449\": {\"frequency\": 24295, \"value\": 110449}, \"180883\": {\"frequency\": 8403, \"value\": 180883}, \"130933\": {\"frequency\": 17120, \"value\": 130933}, \"108406\": {\"frequency\": 11771, \"value\": 108406}, \"59255\": {\"frequency\": 11402, \"value\": 59255}, \"6009\": {\"frequency\": 10346, \"value\": 6009}, \"24443\": {\"frequency\": 14680, \"value\": 24443}, \"200574\": {\"frequency\": 11675, \"value\": 200574}, \"94082\": {\"frequency\": 12788, \"value\": 94082}, \"59267\": {\"frequency\": 8561, \"value\": 59267}, \"89988\": {\"frequency\": 8039, \"value\": 89988}, \"49031\": {\"frequency\": 9462, \"value\": 49031}, \"16266\": {\"frequency\": 8235, \"value\": 16266}, \"112525\": {\"frequency\": 16954, \"value\": 112525}, \"151438\": {\"frequency\": 11288, \"value\": 151438}, \"108434\": {\"frequency\": 10500, \"value\": 108434}, \"12180\": {\"frequency\": 7892, \"value\": 12180}, \"180123\": {\"frequency\": 70488, \"value\": 180123}, \"131546\": {\"frequency\": 12731, \"value\": 131546}, \"81826\": {\"frequency\": 7785, \"value\": 81826}, \"14243\": {\"frequency\": 12462, \"value\": 14243}, \"90020\": {\"frequency\": 16124, \"value\": 90020}, \"126886\": {\"frequency\": 16930, \"value\": 126886}, \"14257\": {\"frequency\": 7456, \"value\": 14257}, \"26550\": {\"frequency\": 14283, \"value\": 26550}, \"155582\": {\"frequency\": 23178, \"value\": 155582}, \"204735\": {\"frequency\": 8549, \"value\": 204735}, \"81856\": {\"frequency\": 8935, \"value\": 81856}, \"153538\": {\"frequency\": 9857, \"value\": 153538}, \"100293\": {\"frequency\": 9766, \"value\": 100293}, \"81867\": {\"frequency\": 14970, \"value\": 81867}, \"28620\": {\"frequency\": 8883, \"value\": 28620}, \"10192\": {\"frequency\": 17983, \"value\": 10192}, \"196564\": {\"frequency\": 8734, \"value\": 196564}, \"8150\": {\"frequency\": 10370, \"value\": 8150}, \"69592\": {\"frequency\": 12386, \"value\": 69592}, \"49115\": {\"frequency\": 16795, \"value\": 49115}, \"186855\": {\"frequency\": 12109, \"value\": 186855}, \"206824\": {\"frequency\": 9738, \"value\": 206824}, \"85993\": {\"frequency\": 13919, \"value\": 85993}, \"55275\": {\"frequency\": 27714, \"value\": 55275}, \"92140\": {\"frequency\": 10598, \"value\": 92140}, \"129008\": {\"frequency\": 24382, \"value\": 129008}, \"126969\": {\"frequency\": 13387, \"value\": 126969}, \"208890\": {\"frequency\": 9257, \"value\": 208890}}, \"mean\": 108908.90406012282}, \"rating\": {\"std\": 0.0, \"complete\": true, \"min\": 0.0, \"max\": 0.0, \"quantile\": [0.0, 0.0, 0.0, 0.0, 0.0, 0.0, 0.0, 0.0, 0.0, 0.0, 0.0, 0.0, 0.0, 0.0, 0.0, 0.0, 0.0, 0.0, 0.0, 0.0, 0.0, 0.0, 0.0, 0.0, 0.0, 0.0, 0.0, 0.0, 0.0, 0.0, 0.0, 0.0, 0.0, 0.0, 0.0, 0.0, 0.0, 0.0, 0.0, 0.0, 0.0, 0.0, 0.0, 0.0, 0.0, 0.0, 0.0, 0.0, 0.0, 0.0, 0.0, 0.0, 0.0, 0.0, 0.0, 0.0, 0.0, 0.0, 0.0, 0.0, 0.0, 0.0, 0.0, 0.0, 0.0, 0.0, 0.0, 0.0, 0.0, 0.0, 0.0, 0.0, 0.0, 0.0, 0.0, 0.0, 0.0, 0.0, 0.0, 0.0, 0.0, 0.0, 0.0, 0.0, 0.0, 0.0, 0.0, 0.0, 0.0, 0.0, 0.0, 0.0, 0.0, 0.0, 0.0, 0.0, 0.0, 0.0, 0.0, 0.0, 0.0], \"median\": 0.0, \"numeric\": true, \"num_unique\": 1, \"num_undefined\": 0, \"var\": 0.0, \"progress\": 1.0, \"size\": 80385187, \"frequent_items\": {\"0\": {\"frequency\": 80385187, \"value\": 0}}, \"mean\": 0.0}}, \"selected_variable\": {\"name\": [\"no_star_frame\"], \"descriptives\": {\"rows\": 80385187, \"columns\": 4}, \"view_component\": \"Summary\", \"view_file\": \"sframe\", \"view_params\": {\"y\": null, \"x\": null, \"columns\": [\"userId\", \"releaseId\", \"rating\", \"category\"], \"view\": null}, \"view_components\": [\"Summary\", \"Table\", \"Bar Chart\", \"BoxWhisker Plot\", \"Line Chart\", \"Scatter Plot\", \"Heat Map\", \"Plots\"], \"type\": \"SFrame\", \"columns\": [{\"dtype\": \"int\", \"name\": \"userId\"}, {\"dtype\": \"int\", \"name\": \"releaseId\"}, {\"dtype\": \"int\", \"name\": \"rating\"}, {\"dtype\": \"int\", \"name\": \"category\"}], \"column_identifiers\": [\"category\", \"releaseId\", \"userId\", \"rating\"]}, \"columns\": [{\"dtype\": \"int\", \"name\": \"userId\"}, {\"dtype\": \"int\", \"name\": \"releaseId\"}, {\"dtype\": \"int\", \"name\": \"rating\"}, {\"dtype\": \"int\", \"name\": \"category\"}]}, e);\n",
       "                });\n",
       "            })();\n",
       "        "
      ]
     },
     "metadata": {},
     "output_type": "display_data"
    }
   ],
   "source": [
    "no_star_frame.show()"
   ]
  },
  {
   "cell_type": "code",
   "execution_count": 15,
   "metadata": {
    "collapsed": true,
    "deletable": true,
    "editable": true
   },
   "outputs": [],
   "source": [
    "no_four_five_star_frame = no_star_frame.append(four_or_five_star_frame)"
   ]
  },
  {
   "cell_type": "code",
   "execution_count": 16,
   "metadata": {
    "collapsed": false,
    "deletable": true,
    "editable": true
   },
   "outputs": [
    {
     "data": {
      "application/javascript": [
       "$(\"head\").append($(\"<link/>\").attr({\n",
       "  rel:  \"stylesheet\",\n",
       "  type: \"text/css\",\n",
       "  href: \"//cdnjs.cloudflare.com/ajax/libs/font-awesome/4.1.0/css/font-awesome.min.css\"\n",
       "}));\n",
       "$(\"head\").append($(\"<link/>\").attr({\n",
       "  rel:  \"stylesheet\",\n",
       "  type: \"text/css\",\n",
       "  href: \"https://static.turi.com/products/graphlab-create/2.1/canvas/css/canvas.css\"\n",
       "}));\n",
       "\n",
       "            (function(){\n",
       "\n",
       "                var e = null;\n",
       "                if (typeof element == 'undefined') {\n",
       "                    var scripts = document.getElementsByTagName('script');\n",
       "                    var thisScriptTag = scripts[scripts.length-1];\n",
       "                    var parentDiv = thisScriptTag.parentNode;\n",
       "                    e = document.createElement('div');\n",
       "                    parentDiv.appendChild(e);\n",
       "                } else {\n",
       "                    e = element[0];\n",
       "                }\n",
       "\n",
       "                if (typeof requirejs !== 'undefined') {\n",
       "                    // disable load timeout; ipython_app.js is large and can take a while to load.\n",
       "                    requirejs.config({waitSeconds: 0});\n",
       "                }\n",
       "\n",
       "                require(['https://static.turi.com/products/graphlab-create/2.1/canvas/js/ipython_app.js'], function(IPythonApp){\n",
       "                    var app = new IPythonApp();\n",
       "                    app.attachView('sframe','Summary', {\"ipython\": true, \"sketch\": {\"category\": {\"std\": 0.6032624291394459, \"complete\": true, \"min\": 0.0, \"max\": 2.0, \"quantile\": [0.0, 0.0, 0.0, 0.0, 0.0, 0.0, 0.0, 0.0, 0.0, 0.0, 0.0, 0.0, 0.0, 0.0, 0.0, 0.0, 0.0, 0.0, 0.0, 0.0, 0.0, 0.0, 0.0, 0.0, 0.0, 0.0, 0.0, 0.0, 0.0, 0.0, 0.0, 0.0, 0.0, 0.0, 0.0, 0.0, 0.0, 0.0, 0.0, 0.0, 0.0, 0.0, 0.0, 0.0, 0.0, 0.0, 0.0, 0.0, 0.0, 0.0, 0.0, 0.0, 0.0, 0.0, 0.0, 0.0, 0.0, 0.0, 0.0, 0.0, 0.0, 0.0, 0.0, 0.0, 0.0, 0.0, 0.0, 0.0, 0.0, 0.0, 0.0, 0.0, 0.0, 0.0, 0.0, 0.0, 0.0, 0.0, 0.0, 0.0, 1.0, 1.0, 1.0, 1.0, 1.0, 1.0, 1.0, 1.0, 1.0, 1.0, 1.0, 1.0, 2.0, 2.0, 2.0, 2.0, 2.0, 2.0, 2.0, 2.0, 2.0], \"median\": 0.0, \"numeric\": true, \"num_unique\": 3, \"num_undefined\": 0, \"var\": 0.36392555841122504, \"progress\": 1.0, \"size\": 88009934, \"frequent_items\": {\"0\": {\"frequency\": 70442311, \"value\": 0}, \"1\": {\"frequency\": 10436735, \"value\": 1}, \"2\": {\"frequency\": 7130888, \"value\": 2}}, \"mean\": 0.2806332180637733}, \"releaseId\": {\"std\": 60396374.15376231, \"complete\": true, \"min\": 1.0, \"max\": 469203102.0, \"quantile\": [1.0, 5038.0, 12705.0, 20804.0, 29815.0, 39945.0, 51095.0, 63150.0, 75084.0, 89344.0, 104390.0, 120351.0, 137153.0, 155770.0, 174907.0, 194730.0, 215978.0, 236624.0, 259349.0, 310645.0, 343260.0, 370916.0, 387172.0, 408465.0, 433563.0, 459674.0, 487206.0, 518507.0, 548649.0, 578802.0, 612500.0, 648627.0, 688813.0, 727016.0, 768283.0, 806424.0, 855373.0, 903429.0, 955594.0, 1008086.0, 1055563.0, 1100903.0, 1148845.0, 1198682.0, 1250954.0, 1302250.0, 1350337.0, 1401981.0, 1453822.0, 1508089.0, 1564845.0, 1617786.0, 1676746.0, 1739447.0, 1798449.0, 1856777.0, 1921107.0, 1986033.0, 2058060.0, 2124491.0, 2205620.0, 2276368.0, 2355661.0, 2437169.0, 2522348.0, 2602757.0, 2695076.0, 2789649.0, 2876305.0, 2975171.0, 3079458.0, 3185851.0, 3297415.0, 3415516.0, 3538356.0, 3662879.0, 3787119.0, 3941246.0, 4081472.0, 4258554.0, 4415482.0, 4572816.0, 4755491.0, 4951031.0, 5148850.0, 5405129.0, 5632599.0, 5901434.0, 6193606.0, 6549758.0, 6990989.0, 7568091.0, 8744789.0, 55505404.0, 111715879.0, 161067938.0, 202649757.0, 234480772.0, 275591781.0, 317321502.0, 469203102.0], \"median\": 1564845.0, \"numeric\": true, \"num_unique\": 12118225, \"num_undefined\": 0, \"var\": 3647722010921248.5, \"progress\": 1.0, \"size\": 88009934, \"frequent_items\": {\"4570366\": {\"frequency\": 9539, \"value\": 4570366}, \"4548231\": {\"frequency\": 4870, \"value\": 4548231}}, \"mean\": 17457607.311428156}, \"userId\": {\"std\": 61003.311241059455, \"complete\": true, \"min\": 1.0, \"max\": 212660.0, \"quantile\": [1.0, 1786.0, 4620.0, 7078.0, 10434.0, 14257.0, 16702.0, 18145.0, 20287.0, 22322.0, 25299.0, 27871.0, 27871.0, 31640.0, 33491.0, 35831.0, 37703.0, 40742.0, 42288.0, 44698.0, 47100.0, 49379.0, 51835.0, 54643.0, 54643.0, 56787.0, 58512.0, 60134.0, 62073.0, 64204.0, 65984.0, 68271.0, 70078.0, 72357.0, 74767.0, 77076.0, 78924.0, 81015.0, 82538.0, 85502.0, 86695.0, 88953.0, 90857.0, 93009.0, 95834.0, 97938.0, 99510.0, 102423.0, 104013.0, 107010.0, 110454.0, 110454.0, 113366.0, 116263.0, 118764.0, 120653.0, 122800.0, 124636.0, 126868.0, 129047.0, 130933.0, 133029.0, 136177.0, 137873.0, 140201.0, 143113.0, 143113.0, 146125.0, 148740.0, 150551.0, 153016.0, 154359.0, 156522.0, 158459.0, 160996.0, 162323.0, 164329.0, 165164.0, 167906.0, 170671.0, 173582.0, 173582.0, 177326.0, 179210.0, 180900.0, 183237.0, 184519.0, 186311.0, 188484.0, 190527.0, 192708.0, 195923.0, 195923.0, 198700.0, 201114.0, 203376.0, 204287.0, 206474.0, 208277.0, 210227.0, 212660.0], \"median\": 110454.0, \"numeric\": true, \"num_unique\": 214666, \"num_undefined\": 0, \"var\": 3721403982.373571, \"progress\": 1.0, \"size\": 88009934, \"frequent_items\": {\"47104\": {\"frequency\": 21020, \"value\": 47104}, \"192519\": {\"frequency\": 8779, \"value\": 192519}, \"167949\": {\"frequency\": 10935, \"value\": 167949}, \"75792\": {\"frequency\": 10924, \"value\": 75792}, \"55324\": {\"frequency\": 12533, \"value\": 55324}, \"137251\": {\"frequency\": 8724, \"value\": 137251}, \"65578\": {\"frequency\": 8683, \"value\": 65578}, \"116788\": {\"frequency\": 11748, \"value\": 116788}, \"69704\": {\"frequency\": 10359, \"value\": 69704}, \"147529\": {\"frequency\": 19799, \"value\": 147529}, \"155724\": {\"frequency\": 9414, \"value\": 155724}, \"36946\": {\"frequency\": 24316, \"value\": 36946}, \"94292\": {\"frequency\": 10359, \"value\": 94292}, \"12374\": {\"frequency\": 10577, \"value\": 12374}, \"113337\": {\"frequency\": 14044, \"value\": 113337}, \"77916\": {\"frequency\": 9292, \"value\": 77916}, \"34909\": {\"frequency\": 12581, \"value\": 34909}, \"153694\": {\"frequency\": 16407, \"value\": 153694}, \"188518\": {\"frequency\": 10474, \"value\": 188518}, \"24679\": {\"frequency\": 13078, \"value\": 24679}, \"165993\": {\"frequency\": 10072, \"value\": 165993}, \"49258\": {\"frequency\": 17394, \"value\": 49258}, \"163958\": {\"frequency\": 15236, \"value\": 163958}, \"166249\": {\"frequency\": 13066, \"value\": 166249}, \"57464\": {\"frequency\": 13229, \"value\": 57464}, \"168058\": {\"frequency\": 40859, \"value\": 168058}, \"190587\": {\"frequency\": 9476, \"value\": 190587}, \"196738\": {\"frequency\": 17618, \"value\": 196738}, \"200847\": {\"frequency\": 9457, \"value\": 200847}, \"120980\": {\"frequency\": 10382, \"value\": 120980}, \"131780\": {\"frequency\": 25297, \"value\": 131780}, \"59558\": {\"frequency\": 10023, \"value\": 59558}, \"53415\": {\"frequency\": 16334, \"value\": 53415}, \"82091\": {\"frequency\": 32377, \"value\": 82091}, \"100525\": {\"frequency\": 9228, \"value\": 100525}, \"24753\": {\"frequency\": 10405, \"value\": 24753}, \"61622\": {\"frequency\": 15972, \"value\": 61622}, \"55480\": {\"frequency\": 10236, \"value\": 55480}, \"143548\": {\"frequency\": 13037, \"value\": 143548}, \"92350\": {\"frequency\": 8569, \"value\": 92350}, \"20671\": {\"frequency\": 11115, \"value\": 20671}, \"131265\": {\"frequency\": 9556, \"value\": 131265}, \"184514\": {\"frequency\": 13500, \"value\": 184514}, \"128033\": {\"frequency\": 8522, \"value\": 128033}, \"141687\": {\"frequency\": 11107, \"value\": 141687}, \"202957\": {\"frequency\": 12385, \"value\": 202957}, \"59598\": {\"frequency\": 12404, \"value\": 59598}, \"157675\": {\"frequency\": 9551, \"value\": 157675}, \"90323\": {\"frequency\": 9121, \"value\": 90323}, \"180436\": {\"frequency\": 12489, \"value\": 180436}, \"174296\": {\"frequency\": 15033, \"value\": 174296}, \"192729\": {\"frequency\": 12778, \"value\": 192729}, \"30939\": {\"frequency\": 23268, \"value\": 30939}, \"188638\": {\"frequency\": 10816, \"value\": 188638}, \"184543\": {\"frequency\": 13016, \"value\": 184543}, \"133345\": {\"frequency\": 9689, \"value\": 133345}, \"202980\": {\"frequency\": 12296, \"value\": 202980}, \"76007\": {\"frequency\": 13903, \"value\": 76007}, \"78061\": {\"frequency\": 10039, \"value\": 78061}, \"14717\": {\"frequency\": 11129, \"value\": 14717}, \"162032\": {\"frequency\": 9530, \"value\": 162032}, \"114931\": {\"frequency\": 11108, \"value\": 114931}, \"145655\": {\"frequency\": 14837, \"value\": 145655}, \"92411\": {\"frequency\": 15495, \"value\": 92411}, \"15744\": {\"frequency\": 32608, \"value\": 15744}, \"28937\": {\"frequency\": 18603, \"value\": 28937}, \"47379\": {\"frequency\": 8924, \"value\": 47379}, \"129312\": {\"frequency\": 13032, \"value\": 129312}, \"28963\": {\"frequency\": 8154, \"value\": 28963}, \"151844\": {\"frequency\": 8360, \"value\": 151844}, \"63782\": {\"frequency\": 9153, \"value\": 63782}, \"202460\": {\"frequency\": 9164, \"value\": 202460}, \"190764\": {\"frequency\": 11317, \"value\": 190764}, \"302\": {\"frequency\": 35347, \"value\": 302}, \"162098\": {\"frequency\": 10686, \"value\": 162098}, \"158003\": {\"frequency\": 8471, \"value\": 158003}, \"71993\": {\"frequency\": 16329, \"value\": 71993}, \"108859\": {\"frequency\": 10277, \"value\": 108859}, \"194877\": {\"frequency\": 9210, \"value\": 194877}, \"162115\": {\"frequency\": 9358, \"value\": 162115}, \"180558\": {\"frequency\": 11583, \"value\": 180558}, \"55632\": {\"frequency\": 10843, \"value\": 55632}, \"211283\": {\"frequency\": 13987, \"value\": 211283}, \"162132\": {\"frequency\": 11948, \"value\": 162132}, \"203094\": {\"frequency\": 8924, \"value\": 203094}, \"106844\": {\"frequency\": 9835, \"value\": 106844}, \"55645\": {\"frequency\": 12488, \"value\": 55645}, \"46825\": {\"frequency\": 11884, \"value\": 46825}, \"201062\": {\"frequency\": 30408, \"value\": 201062}, \"6504\": {\"frequency\": 9600, \"value\": 6504}, \"24937\": {\"frequency\": 10161, \"value\": 24937}, \"203116\": {\"frequency\": 16406, \"value\": 203116}, \"98669\": {\"frequency\": 9204, \"value\": 98669}, \"147829\": {\"frequency\": 18147, \"value\": 147829}, \"8567\": {\"frequency\": 13191, \"value\": 8567}, \"65917\": {\"frequency\": 10042, \"value\": 65917}, \"382\": {\"frequency\": 10221, \"value\": 382}, \"47488\": {\"frequency\": 9228, \"value\": 47488}, \"125313\": {\"frequency\": 10866, \"value\": 125313}, \"191211\": {\"frequency\": 31918, \"value\": 191211}, \"98692\": {\"frequency\": 16118, \"value\": 98692}, \"4486\": {\"frequency\": 11444, \"value\": 4486}, \"74121\": {\"frequency\": 9581, \"value\": 74121}, \"96651\": {\"frequency\": 11251, \"value\": 96651}, \"153997\": {\"frequency\": 92282, \"value\": 153997}, \"45456\": {\"frequency\": 9696, \"value\": 45456}, \"119185\": {\"frequency\": 14592, \"value\": 119185}, \"403\": {\"frequency\": 8510, \"value\": 403}, \"94620\": {\"frequency\": 10004, \"value\": 94620}, \"150597\": {\"frequency\": 9214, \"value\": 150597}, \"63908\": {\"frequency\": 21671, \"value\": 63908}, \"172456\": {\"frequency\": 12623, \"value\": 172456}, \"127401\": {\"frequency\": 12776, \"value\": 127401}, \"190897\": {\"frequency\": 9824, \"value\": 190897}, \"51637\": {\"frequency\": 32065, \"value\": 51637}, \"108986\": {\"frequency\": 19197, \"value\": 108986}, \"121280\": {\"frequency\": 11031, \"value\": 121280}, \"199110\": {\"frequency\": 8559, \"value\": 199110}, \"174537\": {\"frequency\": 18487, \"value\": 174537}, \"205266\": {\"frequency\": 9008, \"value\": 205266}, \"203219\": {\"frequency\": 14409, \"value\": 203219}, \"131546\": {\"frequency\": 12467, \"value\": 131546}, \"113119\": {\"frequency\": 9725, \"value\": 113119}, \"33255\": {\"frequency\": 11977, \"value\": 33255}, \"113128\": {\"frequency\": 9140, \"value\": 113128}, \"125417\": {\"frequency\": 10386, \"value\": 125417}, \"172524\": {\"frequency\": 10309, \"value\": 172524}, \"16882\": {\"frequency\": 9290, \"value\": 16882}, \"131573\": {\"frequency\": 11160, \"value\": 131573}, \"84478\": {\"frequency\": 9047, \"value\": 84478}, \"203265\": {\"frequency\": 16479, \"value\": 203265}, \"144319\": {\"frequency\": 11339, \"value\": 144319}, \"80395\": {\"frequency\": 14676, \"value\": 80395}, \"113168\": {\"frequency\": 17551, \"value\": 113168}, \"53778\": {\"frequency\": 14014, \"value\": 53778}, \"197143\": {\"frequency\": 8909, \"value\": 197143}, \"72217\": {\"frequency\": 9793, \"value\": 72217}, \"211489\": {\"frequency\": 8883, \"value\": 211489}, \"55844\": {\"frequency\": 22702, \"value\": 55844}, \"164396\": {\"frequency\": 9926, \"value\": 164396}, \"92723\": {\"frequency\": 10367, \"value\": 92723}, \"191029\": {\"frequency\": 9086, \"value\": 191029}, \"566\": {\"frequency\": 19623, \"value\": 566}, \"143934\": {\"frequency\": 9854, \"value\": 143934}, \"92742\": {\"frequency\": 20181, \"value\": 92742}, \"12871\": {\"frequency\": 21079, \"value\": 12871}, \"53835\": {\"frequency\": 10128, \"value\": 53835}, \"86604\": {\"frequency\": 13026, \"value\": 86604}, \"2637\": {\"frequency\": 13750, \"value\": 2637}, \"169963\": {\"frequency\": 16135, \"value\": 169963}, \"203344\": {\"frequency\": 13274, \"value\": 203344}, \"156771\": {\"frequency\": 20061, \"value\": 156771}, \"131669\": {\"frequency\": 12028, \"value\": 131669}, \"88664\": {\"frequency\": 13242, \"value\": 88664}, \"209506\": {\"frequency\": 10191, \"value\": 209506}, \"53865\": {\"frequency\": 9053, \"value\": 53865}, \"189034\": {\"frequency\": 9242, \"value\": 189034}, \"2151\": {\"frequency\": 14278, \"value\": 2151}, \"115308\": {\"frequency\": 20325, \"value\": 115308}, \"139887\": {\"frequency\": 9978, \"value\": 139887}, \"129648\": {\"frequency\": 11593, \"value\": 129648}, \"626\": {\"frequency\": 9419, \"value\": 626}, \"185790\": {\"frequency\": 12055, \"value\": 185790}, \"78457\": {\"frequency\": 11260, \"value\": 78457}, \"184955\": {\"frequency\": 8985, \"value\": 184955}, \"49789\": {\"frequency\": 14622, \"value\": 49789}, \"154048\": {\"frequency\": 9594, \"value\": 154048}, \"113282\": {\"frequency\": 9498, \"value\": 113282}, \"176771\": {\"frequency\": 11840, \"value\": 176771}, \"141957\": {\"frequency\": 14621, \"value\": 141957}, \"103047\": {\"frequency\": 9139, \"value\": 103047}, \"139912\": {\"frequency\": 12088, \"value\": 139912}, \"176777\": {\"frequency\": 8625, \"value\": 176777}, \"4748\": {\"frequency\": 16526, \"value\": 4748}, \"86669\": {\"frequency\": 12641, \"value\": 86669}, \"180878\": {\"frequency\": 10057, \"value\": 180878}, \"203407\": {\"frequency\": 22610, \"value\": 203407}, \"162449\": {\"frequency\": 21743, \"value\": 162449}, \"129683\": {\"frequency\": 19879, \"value\": 129683}, \"103060\": {\"frequency\": 9875, \"value\": 103060}, \"203415\": {\"frequency\": 12480, \"value\": 203415}, \"68250\": {\"frequency\": 11232, \"value\": 68250}, \"92827\": {\"frequency\": 12243, \"value\": 92827}, \"80542\": {\"frequency\": 9907, \"value\": 80542}, \"19103\": {\"frequency\": 10765, \"value\": 19103}, \"21155\": {\"frequency\": 14817, \"value\": 21155}, \"144036\": {\"frequency\": 11783, \"value\": 144036}, \"86695\": {\"frequency\": 21557, \"value\": 86695}, \"105132\": {\"frequency\": 14504, \"value\": 105132}, \"152237\": {\"frequency\": 11157, \"value\": 152237}, \"117423\": {\"frequency\": 14374, \"value\": 117423}, \"17077\": {\"frequency\": 9691, \"value\": 17077}, \"96953\": {\"frequency\": 11285, \"value\": 96953}, \"150206\": {\"frequency\": 14741, \"value\": 150206}, \"139967\": {\"frequency\": 10105, \"value\": 139967}, \"205507\": {\"frequency\": 9389, \"value\": 205507}, \"96964\": {\"frequency\": 15941, \"value\": 96964}, \"211655\": {\"frequency\": 10748, \"value\": 211655}, \"45790\": {\"frequency\": 24366, \"value\": 45790}, \"207584\": {\"frequency\": 10762, \"value\": 207584}, \"21221\": {\"frequency\": 22206, \"value\": 21221}, \"58086\": {\"frequency\": 9616, \"value\": 58086}, \"29417\": {\"frequency\": 11042, \"value\": 29417}, \"78571\": {\"frequency\": 13962, \"value\": 78571}, \"180977\": {\"frequency\": 10143, \"value\": 180977}, \"162546\": {\"frequency\": 11759, \"value\": 162546}, \"185081\": {\"frequency\": 10252, \"value\": 185081}, \"209660\": {\"frequency\": 10155, \"value\": 209660}, \"140036\": {\"frequency\": 12262, \"value\": 140036}, \"203525\": {\"frequency\": 9399, \"value\": 203525}, \"117511\": {\"frequency\": 12247, \"value\": 117511}, \"137995\": {\"frequency\": 14527, \"value\": 137995}, \"17166\": {\"frequency\": 16388, \"value\": 17166}, \"37678\": {\"frequency\": 9397, \"value\": 37678}, \"43800\": {\"frequency\": 13679, \"value\": 43800}, \"43801\": {\"frequency\": 11179, \"value\": 43801}, \"99100\": {\"frequency\": 14894, \"value\": 99100}, \"41434\": {\"frequency\": 9148, \"value\": 41434}, \"54047\": {\"frequency\": 11137, \"value\": 54047}, \"203553\": {\"frequency\": 8166, \"value\": 203553}, \"185122\": {\"frequency\": 11565, \"value\": 185122}, \"76588\": {\"frequency\": 9754, \"value\": 76588}, \"121646\": {\"frequency\": 16268, \"value\": 121646}, \"140081\": {\"frequency\": 10993, \"value\": 140081}, \"45876\": {\"frequency\": 14638, \"value\": 45876}, \"133946\": {\"frequency\": 23573, \"value\": 133946}, \"11068\": {\"frequency\": 12900, \"value\": 11068}, \"166717\": {\"frequency\": 9457, \"value\": 166717}, \"203586\": {\"frequency\": 9716, \"value\": 203586}, \"29507\": {\"frequency\": 8787, \"value\": 29507}, \"133958\": {\"frequency\": 22246, \"value\": 133958}, \"148967\": {\"frequency\": 10177, \"value\": 148967}, \"123720\": {\"frequency\": 12457, \"value\": 123720}, \"172874\": {\"frequency\": 8505, \"value\": 172874}, \"202160\": {\"frequency\": 9114, \"value\": 202160}, \"195414\": {\"frequency\": 9455, \"value\": 195414}, \"156503\": {\"frequency\": 10465, \"value\": 156503}, \"47960\": {\"frequency\": 11387, \"value\": 47960}, \"70489\": {\"frequency\": 19300, \"value\": 70489}, \"84826\": {\"frequency\": 9820, \"value\": 84826}, \"37724\": {\"frequency\": 7936, \"value\": 37724}, \"211805\": {\"frequency\": 13864, \"value\": 211805}, \"70495\": {\"frequency\": 10245, \"value\": 70495}, \"31589\": {\"frequency\": 9342, \"value\": 31589}, \"31590\": {\"frequency\": 10482, \"value\": 31590}, \"60903\": {\"frequency\": 9170, \"value\": 60903}, \"168813\": {\"frequency\": 14333, \"value\": 168813}, \"60271\": {\"frequency\": 25986, \"value\": 60271}, \"72168\": {\"frequency\": 8717, \"value\": 72168}, \"41842\": {\"frequency\": 12140, \"value\": 41842}, \"64371\": {\"frequency\": 69274, \"value\": 64371}, \"187254\": {\"frequency\": 10946, \"value\": 187254}, \"191352\": {\"frequency\": 14041, \"value\": 191352}, \"144251\": {\"frequency\": 11220, \"value\": 144251}, \"203645\": {\"frequency\": 11916, \"value\": 203645}, \"60292\": {\"frequency\": 20006, \"value\": 60292}, \"207758\": {\"frequency\": 8894, \"value\": 207758}, \"103314\": {\"frequency\": 13580, \"value\": 103314}, \"168852\": {\"frequency\": 21388, \"value\": 168852}, \"117664\": {\"frequency\": 8651, \"value\": 117664}, \"183792\": {\"frequency\": 13783, \"value\": 183792}, \"29603\": {\"frequency\": 13620, \"value\": 29603}, \"109477\": {\"frequency\": 15168, \"value\": 109477}, \"204273\": {\"frequency\": 10132, \"value\": 204273}, \"166830\": {\"frequency\": 14241, \"value\": 166830}, \"78770\": {\"frequency\": 20072, \"value\": 78770}, \"148407\": {\"frequency\": 11429, \"value\": 148407}, \"86970\": {\"frequency\": 9402, \"value\": 86970}, \"211902\": {\"frequency\": 11340, \"value\": 211902}, \"148415\": {\"frequency\": 8738, \"value\": 148415}, \"33730\": {\"frequency\": 10507, \"value\": 33730}, \"3023\": {\"frequency\": 11503, \"value\": 3023}, \"211922\": {\"frequency\": 11273, \"value\": 211922}, \"138200\": {\"frequency\": 9681, \"value\": 138200}, \"3037\": {\"frequency\": 12868, \"value\": 3037}, \"150500\": {\"frequency\": 9350, \"value\": 150500}, \"158695\": {\"frequency\": 8983, \"value\": 158695}, \"52204\": {\"frequency\": 9914, \"value\": 52204}, \"187393\": {\"frequency\": 34255, \"value\": 187393}, \"3079\": {\"frequency\": 15118, \"value\": 3079}, \"197641\": {\"frequency\": 13582, \"value\": 197641}, \"19473\": {\"frequency\": 21033, \"value\": 19473}, \"154651\": {\"frequency\": 8845, \"value\": 154651}, \"181277\": {\"frequency\": 22758, \"value\": 181277}, \"78881\": {\"frequency\": 13101, \"value\": 78881}, \"82989\": {\"frequency\": 15888, \"value\": 82989}, \"66608\": {\"frequency\": 10584, \"value\": 66608}, \"35890\": {\"frequency\": 16683, \"value\": 35890}, \"177204\": {\"frequency\": 11273, \"value\": 177204}, \"20318\": {\"frequency\": 17019, \"value\": 20318}, \"99387\": {\"frequency\": 10140, \"value\": 99387}, \"166972\": {\"frequency\": 13715, \"value\": 166972}, \"87109\": {\"frequency\": 10612, \"value\": 87109}, \"17484\": {\"frequency\": 9077, \"value\": 17484}, \"1102\": {\"frequency\": 13289, \"value\": 1102}, \"17494\": {\"frequency\": 10105, \"value\": 17494}, \"1117\": {\"frequency\": 50287, \"value\": 1117}, \"76898\": {\"frequency\": 11562, \"value\": 76898}, \"58467\": {\"frequency\": 28292, \"value\": 58467}, \"132200\": {\"frequency\": 41054, \"value\": 132200}, \"156786\": {\"frequency\": 16153, \"value\": 156786}, \"33910\": {\"frequency\": 17008, \"value\": 33910}, \"46200\": {\"frequency\": 62709, \"value\": 46200}, \"35961\": {\"frequency\": 21266, \"value\": 35961}, \"193659\": {\"frequency\": 12021, \"value\": 193659}, \"40073\": {\"frequency\": 9941, \"value\": 40073}, \"93326\": {\"frequency\": 9626, \"value\": 93326}, \"76947\": {\"frequency\": 14776, \"value\": 76947}, \"136341\": {\"frequency\": 13698, \"value\": 136341}, \"19611\": {\"frequency\": 10160, \"value\": 19611}, \"185505\": {\"frequency\": 10119, \"value\": 185505}, \"183459\": {\"frequency\": 11271, \"value\": 183459}, \"148645\": {\"frequency\": 8195, \"value\": 148645}, \"177326\": {\"frequency\": 13686, \"value\": 177326}, \"205683\": {\"frequency\": 17720, \"value\": 205683}, \"38073\": {\"frequency\": 10668, \"value\": 38073}, \"154810\": {\"frequency\": 12183, \"value\": 154810}, \"36042\": {\"frequency\": 49827, \"value\": 36042}, \"160974\": {\"frequency\": 15123, \"value\": 160974}, \"103633\": {\"frequency\": 24723, \"value\": 103633}, \"107734\": {\"frequency\": 13823, \"value\": 107734}, \"6009\": {\"frequency\": 10265, \"value\": 6009}, \"68824\": {\"frequency\": 11097, \"value\": 68824}, \"93402\": {\"frequency\": 9802, \"value\": 93402}, \"54493\": {\"frequency\": 15712, \"value\": 54493}, \"70882\": {\"frequency\": 11847, \"value\": 70882}, \"66787\": {\"frequency\": 10291, \"value\": 66787}, \"177380\": {\"frequency\": 9735, \"value\": 177380}, \"115942\": {\"frequency\": 9302, \"value\": 115942}, \"113899\": {\"frequency\": 82600, \"value\": 113899}, \"107756\": {\"frequency\": 10936, \"value\": 107756}, \"200574\": {\"frequency\": 11448, \"value\": 200574}, \"161016\": {\"frequency\": 17100, \"value\": 161016}, \"191737\": {\"frequency\": 9846, \"value\": 191737}, \"173318\": {\"frequency\": 35575, \"value\": 173318}, \"138507\": {\"frequency\": 11743, \"value\": 138507}, \"83217\": {\"frequency\": 10193, \"value\": 83217}, \"59267\": {\"frequency\": 9257, \"value\": 59267}, \"99204\": {\"frequency\": 13210, \"value\": 99204}, \"118049\": {\"frequency\": 12030, \"value\": 118049}, \"192731\": {\"frequency\": 21836, \"value\": 192731}, \"183592\": {\"frequency\": 8800, \"value\": 183592}, \"105769\": {\"frequency\": 9633, \"value\": 105769}, \"36140\": {\"frequency\": 10153, \"value\": 36140}, \"42286\": {\"frequency\": 15483, \"value\": 42286}, \"195805\": {\"frequency\": 8463, \"value\": 195805}, \"42288\": {\"frequency\": 16628, \"value\": 42288}, \"142643\": {\"frequency\": 7194, \"value\": 142643}, \"50484\": {\"frequency\": 8915, \"value\": 50484}, \"52534\": {\"frequency\": 10216, \"value\": 52534}, \"202042\": {\"frequency\": 16758, \"value\": 202042}, \"13627\": {\"frequency\": 22497, \"value\": 13627}, \"185661\": {\"frequency\": 11987, \"value\": 185661}, \"19774\": {\"frequency\": 13345, \"value\": 19774}, \"46399\": {\"frequency\": 9318, \"value\": 46399}, \"15694\": {\"frequency\": 10795, \"value\": 15694}, \"138467\": {\"frequency\": 9534, \"value\": 138467}, \"151438\": {\"frequency\": 11288, \"value\": 151438}, \"89433\": {\"frequency\": 24558, \"value\": 89433}, \"79204\": {\"frequency\": 13578, \"value\": 79204}, \"148841\": {\"frequency\": 29804, \"value\": 148841}, \"200043\": {\"frequency\": 19540, \"value\": 200043}, \"1388\": {\"frequency\": 10628, \"value\": 1388}, \"101266\": {\"frequency\": 9514, \"value\": 101266}, \"109939\": {\"frequency\": 15264, \"value\": 109939}, \"60800\": {\"frequency\": 11066, \"value\": 60800}, \"28033\": {\"frequency\": 8411, \"value\": 28033}, \"83331\": {\"frequency\": 13405, \"value\": 83331}, \"71058\": {\"frequency\": 11101, \"value\": 71058}, \"42391\": {\"frequency\": 10941, \"value\": 42391}, \"136601\": {\"frequency\": 13850, \"value\": 136601}, \"202991\": {\"frequency\": 8606, \"value\": 202991}, \"118341\": {\"frequency\": 29954, \"value\": 118341}, \"148896\": {\"frequency\": 10685, \"value\": 148896}, \"32168\": {\"frequency\": 10139, \"value\": 32168}, \"136618\": {\"frequency\": 15445, \"value\": 136618}, \"167342\": {\"frequency\": 10448, \"value\": 167342}, \"198064\": {\"frequency\": 70382, \"value\": 198064}, \"107954\": {\"frequency\": 9894, \"value\": 107954}, \"58806\": {\"frequency\": 8482, \"value\": 58806}, \"148919\": {\"frequency\": 18753, \"value\": 148919}, \"193976\": {\"frequency\": 8936, \"value\": 193976}, \"85435\": {\"frequency\": 8985, \"value\": 85435}, \"1468\": {\"frequency\": 9212, \"value\": 1468}, \"52669\": {\"frequency\": 8547, \"value\": 52669}, \"81342\": {\"frequency\": 9265, \"value\": 81342}, \"144833\": {\"frequency\": 8862, \"value\": 144833}, \"36291\": {\"frequency\": 11167, \"value\": 36291}, \"181702\": {\"frequency\": 13946, \"value\": 181702}, \"130505\": {\"frequency\": 10184, \"value\": 130505}, \"153037\": {\"frequency\": 20230, \"value\": 153037}, \"15833\": {\"frequency\": 13300, \"value\": 15833}, \"93658\": {\"frequency\": 14726, \"value\": 93658}, \"91612\": {\"frequency\": 9246, \"value\": 91612}, \"181729\": {\"frequency\": 10350, \"value\": 181729}, \"48610\": {\"frequency\": 11409, \"value\": 48610}, \"34279\": {\"frequency\": 15184, \"value\": 34279}, \"155112\": {\"frequency\": 12060, \"value\": 155112}, \"116205\": {\"frequency\": 18677, \"value\": 116205}, \"93680\": {\"frequency\": 14419, \"value\": 93680}, \"138737\": {\"frequency\": 9322, \"value\": 138737}, \"67058\": {\"frequency\": 16336, \"value\": 67058}, \"202239\": {\"frequency\": 7979, \"value\": 202239}, \"185858\": {\"frequency\": 16493, \"value\": 185858}, \"24074\": {\"frequency\": 9929, \"value\": 24074}, \"183822\": {\"frequency\": 10480, \"value\": 183822}, \"28185\": {\"frequency\": 11258, \"value\": 28185}, \"200219\": {\"frequency\": 14049, \"value\": 200219}, \"32286\": {\"frequency\": 9602, \"value\": 32286}, \"20004\": {\"frequency\": 10218, \"value\": 20004}, \"42537\": {\"frequency\": 9692, \"value\": 42537}, \"58925\": {\"frequency\": 17037, \"value\": 58925}, \"136754\": {\"frequency\": 10979, \"value\": 136754}, \"161334\": {\"frequency\": 8888, \"value\": 161334}, \"38469\": {\"frequency\": 10417, \"value\": 38469}, \"48722\": {\"frequency\": 38401, \"value\": 48722}, \"65121\": {\"frequency\": 18260, \"value\": 65121}, \"169575\": {\"frequency\": 17795, \"value\": 169575}, \"181864\": {\"frequency\": 29620, \"value\": 181864}, \"190055\": {\"frequency\": 14086, \"value\": 190055}, \"65134\": {\"frequency\": 11723, \"value\": 65134}, \"147056\": {\"frequency\": 18795, \"value\": 147056}, \"138870\": {\"frequency\": 18172, \"value\": 138870}, \"63098\": {\"frequency\": 14045, \"value\": 63098}, \"89023\": {\"frequency\": 8333, \"value\": 89023}, \"3715\": {\"frequency\": 13785, \"value\": 3715}, \"97927\": {\"frequency\": 14025, \"value\": 97927}, \"183234\": {\"frequency\": 11340, \"value\": 183234}, \"132758\": {\"frequency\": 9700, \"value\": 132758}, \"108184\": {\"frequency\": 10564, \"value\": 108184}, \"28317\": {\"frequency\": 18792, \"value\": 28317}, \"159390\": {\"frequency\": 14524, \"value\": 159390}, \"112297\": {\"frequency\": 28500, \"value\": 112297}, \"33394\": {\"frequency\": 13550, \"value\": 33394}, \"26295\": {\"frequency\": 37284, \"value\": 26295}, \"202424\": {\"frequency\": 12042, \"value\": 202424}, \"181945\": {\"frequency\": 23500, \"value\": 181945}, \"28347\": {\"frequency\": 9778, \"value\": 28347}, \"198336\": {\"frequency\": 10267, \"value\": 198336}, \"196289\": {\"frequency\": 13932, \"value\": 196289}, \"153282\": {\"frequency\": 12392, \"value\": 153282}, \"194245\": {\"frequency\": 9380, \"value\": 194245}, \"26310\": {\"frequency\": 10067, \"value\": 26310}, \"159431\": {\"frequency\": 9324, \"value\": 159431}, \"203615\": {\"frequency\": 14349, \"value\": 203615}, \"24275\": {\"frequency\": 9802, \"value\": 24275}, \"106198\": {\"frequency\": 19128, \"value\": 106198}, \"192215\": {\"frequency\": 9225, \"value\": 192215}, \"124632\": {\"frequency\": 11139, \"value\": 124632}, \"182564\": {\"frequency\": 9191, \"value\": 182564}, \"136924\": {\"frequency\": 14931, \"value\": 136924}, \"179941\": {\"frequency\": 16126, \"value\": 179941}, \"85734\": {\"frequency\": 33891, \"value\": 85734}, \"126696\": {\"frequency\": 10264, \"value\": 126696}, \"59113\": {\"frequency\": 13401, \"value\": 59113}, \"36137\": {\"frequency\": 17026, \"value\": 36137}, \"155386\": {\"frequency\": 11000, \"value\": 155386}, \"87805\": {\"frequency\": 13791, \"value\": 87805}, \"156972\": {\"frequency\": 11191, \"value\": 156972}, \"139906\": {\"frequency\": 18178, \"value\": 139906}, \"147215\": {\"frequency\": 13386, \"value\": 147215}, \"186129\": {\"frequency\": 12196, \"value\": 186129}, \"160046\": {\"frequency\": 9380, \"value\": 160046}, \"145179\": {\"frequency\": 8448, \"value\": 145179}, \"65308\": {\"frequency\": 9500, \"value\": 65308}, \"163614\": {\"frequency\": 9311, \"value\": 163614}, \"156293\": {\"frequency\": 14654, \"value\": 156293}, \"36144\": {\"frequency\": 12148, \"value\": 36144}, \"210907\": {\"frequency\": 12977, \"value\": 210907}, \"55077\": {\"frequency\": 18269, \"value\": 55077}, \"153382\": {\"frequency\": 12757, \"value\": 153382}, \"55079\": {\"frequency\": 13484, \"value\": 55079}, \"151419\": {\"frequency\": 14153, \"value\": 151419}, \"24377\": {\"frequency\": 8861, \"value\": 24377}, \"94010\": {\"frequency\": 14129, \"value\": 94010}, \"157501\": {\"frequency\": 9087, \"value\": 157501}, \"157506\": {\"frequency\": 12560, \"value\": 157506}, \"85827\": {\"frequency\": 17884, \"value\": 85827}, \"144694\": {\"frequency\": 10783, \"value\": 144694}, \"147273\": {\"frequency\": 8574, \"value\": 147273}, \"165710\": {\"frequency\": 14037, \"value\": 165710}, \"77650\": {\"frequency\": 25119, \"value\": 77650}, \"161620\": {\"frequency\": 12051, \"value\": 161620}, \"55130\": {\"frequency\": 9148, \"value\": 55130}, \"132958\": {\"frequency\": 9698, \"value\": 132958}, \"26464\": {\"frequency\": 12004, \"value\": 26464}, \"208746\": {\"frequency\": 26928, \"value\": 208746}, \"147309\": {\"frequency\": 9877, \"value\": 147309}, \"200559\": {\"frequency\": 10528, \"value\": 200559}, \"110449\": {\"frequency\": 24611, \"value\": 110449}, \"130933\": {\"frequency\": 18770, \"value\": 130933}, \"108406\": {\"frequency\": 11765, \"value\": 108406}, \"59255\": {\"frequency\": 11628, \"value\": 59255}, \"73593\": {\"frequency\": 10017, \"value\": 73593}, \"24443\": {\"frequency\": 14660, \"value\": 24443}, \"191557\": {\"frequency\": 13510, \"value\": 191557}, \"94082\": {\"frequency\": 12798, \"value\": 94082}, \"65411\": {\"frequency\": 10828, \"value\": 65411}, \"49031\": {\"frequency\": 9490, \"value\": 49031}, \"30602\": {\"frequency\": 9499, \"value\": 30602}, \"112525\": {\"frequency\": 17136, \"value\": 112525}, \"169870\": {\"frequency\": 13703, \"value\": 169870}, \"108434\": {\"frequency\": 10498, \"value\": 108434}, \"180123\": {\"frequency\": 70488, \"value\": 180123}, \"81826\": {\"frequency\": 8384, \"value\": 81826}, \"14243\": {\"frequency\": 12481, \"value\": 14243}, \"90020\": {\"frequency\": 16204, \"value\": 90020}, \"126886\": {\"frequency\": 17047, \"value\": 126886}, \"196519\": {\"frequency\": 8943, \"value\": 196519}, \"14257\": {\"frequency\": 6525, \"value\": 14257}, \"26550\": {\"frequency\": 14234, \"value\": 26550}, \"155582\": {\"frequency\": 33114, \"value\": 155582}, \"81856\": {\"frequency\": 8782, \"value\": 81856}, \"153538\": {\"frequency\": 9874, \"value\": 153538}, \"100293\": {\"frequency\": 10025, \"value\": 100293}, \"81867\": {\"frequency\": 14804, \"value\": 81867}, \"28620\": {\"frequency\": 8882, \"value\": 28620}, \"10192\": {\"frequency\": 17983, \"value\": 10192}, \"8150\": {\"frequency\": 10721, \"value\": 8150}, \"69592\": {\"frequency\": 12385, \"value\": 69592}, \"180900\": {\"frequency\": 15319, \"value\": 180900}, \"49115\": {\"frequency\": 16745, \"value\": 49115}, \"192479\": {\"frequency\": 8899, \"value\": 192479}, \"186855\": {\"frequency\": 12389, \"value\": 186855}, \"206824\": {\"frequency\": 9776, \"value\": 206824}, \"85993\": {\"frequency\": 13919, \"value\": 85993}, \"55275\": {\"frequency\": 26508, \"value\": 55275}, \"92140\": {\"frequency\": 10611, \"value\": 92140}, \"129008\": {\"frequency\": 24821, \"value\": 129008}, \"126969\": {\"frequency\": 13402, \"value\": 126969}, \"208890\": {\"frequency\": 15252, \"value\": 208890}}, \"mean\": 109052.25510513961}, \"rating\": {\"std\": 1.29880370081293, \"complete\": true, \"min\": 0.0, \"max\": 5.0, \"quantile\": [0.0, 0.0, 0.0, 0.0, 0.0, 0.0, 0.0, 0.0, 0.0, 0.0, 0.0, 0.0, 0.0, 0.0, 0.0, 0.0, 0.0, 0.0, 0.0, 0.0, 0.0, 0.0, 0.0, 0.0, 0.0, 0.0, 0.0, 0.0, 0.0, 0.0, 0.0, 0.0, 0.0, 0.0, 0.0, 0.0, 0.0, 0.0, 0.0, 0.0, 0.0, 0.0, 0.0, 0.0, 0.0, 0.0, 0.0, 0.0, 0.0, 0.0, 0.0, 0.0, 0.0, 0.0, 0.0, 0.0, 0.0, 0.0, 0.0, 0.0, 0.0, 0.0, 0.0, 0.0, 0.0, 0.0, 0.0, 0.0, 0.0, 0.0, 0.0, 0.0, 0.0, 0.0, 0.0, 0.0, 0.0, 0.0, 0.0, 0.0, 0.0, 0.0, 0.0, 0.0, 0.0, 0.0, 0.0, 0.0, 0.0, 0.0, 0.0, 0.0, 4.0, 4.0, 4.0, 5.0, 5.0, 5.0, 5.0, 5.0, 5.0], \"median\": 0.0, \"numeric\": true, \"num_unique\": 3, \"num_undefined\": 0, \"var\": 1.686891053245363, \"progress\": 1.0, \"size\": 88009934, \"frequent_items\": {\"0\": {\"frequency\": 80385187, \"value\": 0}, \"4\": {\"frequency\": 3138727, \"value\": 4}, \"5\": {\"frequency\": 4486020, \"value\": 5}}, \"mean\": 0.3975120354026908}}, \"selected_variable\": {\"name\": [\"no_four_five_star_frame\"], \"descriptives\": {\"rows\": 88009934, \"columns\": 4}, \"view_component\": \"Summary\", \"view_file\": \"sframe\", \"view_params\": {\"y\": null, \"x\": null, \"columns\": [\"userId\", \"releaseId\", \"rating\", \"category\"], \"view\": null}, \"view_components\": [\"Summary\", \"Table\", \"Bar Chart\", \"BoxWhisker Plot\", \"Line Chart\", \"Scatter Plot\", \"Heat Map\", \"Plots\"], \"type\": \"SFrame\", \"columns\": [{\"dtype\": \"int\", \"name\": \"userId\"}, {\"dtype\": \"int\", \"name\": \"releaseId\"}, {\"dtype\": \"int\", \"name\": \"rating\"}, {\"dtype\": \"int\", \"name\": \"category\"}], \"column_identifiers\": [\"category\", \"releaseId\", \"userId\", \"rating\"]}, \"columns\": [{\"dtype\": \"int\", \"name\": \"userId\"}, {\"dtype\": \"int\", \"name\": \"releaseId\"}, {\"dtype\": \"int\", \"name\": \"rating\"}, {\"dtype\": \"int\", \"name\": \"category\"}]}, e);\n",
       "                });\n",
       "            })();\n",
       "        "
      ]
     },
     "metadata": {},
     "output_type": "display_data"
    }
   ],
   "source": [
    "no_four_five_star_frame.show()"
   ]
  },
  {
   "cell_type": "markdown",
   "metadata": {
    "deletable": true,
    "editable": true
   },
   "source": [
    "## Create an item similarity recommender"
   ]
  },
  {
   "cell_type": "code",
   "execution_count": 17,
   "metadata": {
    "collapsed": false,
    "deletable": true,
    "editable": true
   },
   "outputs": [],
   "source": [
    "train_data, test_data = graphlab.recommender.util.random_split_by_user(no_four_five_star_frame,\n",
    "                                                                      user_id='userId',\n",
    "                                                                      item_id='releaseId',\n",
    "                                                                      max_num_users=None,\n",
    "                                                                      random_seed=0)"
   ]
  },
  {
   "cell_type": "code",
   "execution_count": 18,
   "metadata": {
    "collapsed": false,
    "deletable": true,
    "editable": true
   },
   "outputs": [
    {
     "name": "stdout",
     "output_type": "stream",
     "text": [
      "70407893\n",
      "17602041\n"
     ]
    }
   ],
   "source": [
    "print len(train_data)\n",
    "print len(test_data)"
   ]
  },
  {
   "cell_type": "code",
   "execution_count": 19,
   "metadata": {
    "collapsed": false,
    "deletable": true,
    "editable": true
   },
   "outputs": [
    {
     "data": {
      "text/html": [
       "<pre>Recsys training: model = ranking_factorization_recommender</pre>"
      ],
      "text/plain": [
       "Recsys training: model = ranking_factorization_recommender"
      ]
     },
     "metadata": {},
     "output_type": "display_data"
    },
    {
     "data": {
      "text/html": [
       "<pre>Preparing data set.</pre>"
      ],
      "text/plain": [
       "Preparing data set."
      ]
     },
     "metadata": {},
     "output_type": "display_data"
    },
    {
     "data": {
      "text/html": [
       "<pre>    Data has 70407893 observations with 212189 users and 10455104 items.</pre>"
      ],
      "text/plain": [
       "    Data has 70407893 observations with 212189 users and 10455104 items."
      ]
     },
     "metadata": {},
     "output_type": "display_data"
    },
    {
     "data": {
      "text/html": [
       "<pre>    Data prepared in: 83.09s</pre>"
      ],
      "text/plain": [
       "    Data prepared in: 83.09s"
      ]
     },
     "metadata": {},
     "output_type": "display_data"
    },
    {
     "data": {
      "text/html": [
       "<pre>Training ranking_factorization_recommender for recommendations.</pre>"
      ],
      "text/plain": [
       "Training ranking_factorization_recommender for recommendations."
      ]
     },
     "metadata": {},
     "output_type": "display_data"
    },
    {
     "data": {
      "text/html": [
       "<pre>+------------------------------+--------------------------------------------------+----------+</pre>"
      ],
      "text/plain": [
       "+------------------------------+--------------------------------------------------+----------+"
      ]
     },
     "metadata": {},
     "output_type": "display_data"
    },
    {
     "data": {
      "text/html": [
       "<pre>| Parameter                    | Description                                      | Value    |</pre>"
      ],
      "text/plain": [
       "| Parameter                    | Description                                      | Value    |"
      ]
     },
     "metadata": {},
     "output_type": "display_data"
    },
    {
     "data": {
      "text/html": [
       "<pre>+------------------------------+--------------------------------------------------+----------+</pre>"
      ],
      "text/plain": [
       "+------------------------------+--------------------------------------------------+----------+"
      ]
     },
     "metadata": {},
     "output_type": "display_data"
    },
    {
     "data": {
      "text/html": [
       "<pre>| num_factors                  | Factor Dimension                                 | 32       |</pre>"
      ],
      "text/plain": [
       "| num_factors                  | Factor Dimension                                 | 32       |"
      ]
     },
     "metadata": {},
     "output_type": "display_data"
    },
    {
     "data": {
      "text/html": [
       "<pre>| regularization               | L2 Regularization on Factors                     | 1e-009   |</pre>"
      ],
      "text/plain": [
       "| regularization               | L2 Regularization on Factors                     | 1e-009   |"
      ]
     },
     "metadata": {},
     "output_type": "display_data"
    },
    {
     "data": {
      "text/html": [
       "<pre>| max_iterations               | Maximum Number of Iterations                     | 25       |</pre>"
      ],
      "text/plain": [
       "| max_iterations               | Maximum Number of Iterations                     | 25       |"
      ]
     },
     "metadata": {},
     "output_type": "display_data"
    },
    {
     "data": {
      "text/html": [
       "<pre>| solver                       | Solver used for training                         | ials     |</pre>"
      ],
      "text/plain": [
       "| solver                       | Solver used for training                         | ials     |"
      ]
     },
     "metadata": {},
     "output_type": "display_data"
    },
    {
     "data": {
      "text/html": [
       "<pre>+------------------------------+--------------------------------------------------+----------+</pre>"
      ],
      "text/plain": [
       "+------------------------------+--------------------------------------------------+----------+"
      ]
     },
     "metadata": {},
     "output_type": "display_data"
    },
    {
     "data": {
      "text/html": [
       "<pre>+---------+--------------+---------------------------+</pre>"
      ],
      "text/plain": [
       "+---------+--------------+---------------------------+"
      ]
     },
     "metadata": {},
     "output_type": "display_data"
    },
    {
     "data": {
      "text/html": [
       "<pre>| Iter.   | Elapsed time | Estimated Objective Value |</pre>"
      ],
      "text/plain": [
       "| Iter.   | Elapsed time | Estimated Objective Value |"
      ]
     },
     "metadata": {},
     "output_type": "display_data"
    },
    {
     "data": {
      "text/html": [
       "<pre>+---------+--------------+---------------------------+</pre>"
      ],
      "text/plain": [
       "+---------+--------------+---------------------------+"
      ]
     },
     "metadata": {},
     "output_type": "display_data"
    },
    {
     "data": {
      "text/html": [
       "<pre>| Initial | 69.068ms     | NA                        |</pre>"
      ],
      "text/plain": [
       "| Initial | 69.068ms     | NA                        |"
      ]
     },
     "metadata": {},
     "output_type": "display_data"
    },
    {
     "data": {
      "text/html": [
       "<pre>+---------+--------------+---------------------------+</pre>"
      ],
      "text/plain": [
       "+---------+--------------+---------------------------+"
      ]
     },
     "metadata": {},
     "output_type": "display_data"
    },
    {
     "data": {
      "text/html": [
       "<pre>| 0       | 1m 20s       | 0.995476                  |</pre>"
      ],
      "text/plain": [
       "| 0       | 1m 20s       | 0.995476                  |"
      ]
     },
     "metadata": {},
     "output_type": "display_data"
    },
    {
     "data": {
      "text/html": [
       "<pre>| 1       | 2m 22s       | 0.968219                  |</pre>"
      ],
      "text/plain": [
       "| 1       | 2m 22s       | 0.968219                  |"
      ]
     },
     "metadata": {},
     "output_type": "display_data"
    },
    {
     "data": {
      "text/html": [
       "<pre>| 2       | 3m 25s       | 0.963378                  |</pre>"
      ],
      "text/plain": [
       "| 2       | 3m 25s       | 0.963378                  |"
      ]
     },
     "metadata": {},
     "output_type": "display_data"
    },
    {
     "data": {
      "text/html": [
       "<pre>| 3       | 4m 26s       | 0.962027                  |</pre>"
      ],
      "text/plain": [
       "| 3       | 4m 26s       | 0.962027                  |"
      ]
     },
     "metadata": {},
     "output_type": "display_data"
    },
    {
     "data": {
      "text/html": [
       "<pre>| 4       | 5m 29s       | 0.961442                  |</pre>"
      ],
      "text/plain": [
       "| 4       | 5m 29s       | 0.961442                  |"
      ]
     },
     "metadata": {},
     "output_type": "display_data"
    },
    {
     "data": {
      "text/html": [
       "<pre>| 5       | 6m 31s       | 0.961123                  |</pre>"
      ],
      "text/plain": [
       "| 5       | 6m 31s       | 0.961123                  |"
      ]
     },
     "metadata": {},
     "output_type": "display_data"
    },
    {
     "data": {
      "text/html": [
       "<pre>| 6       | 7m 32s       | 0.960927                  |</pre>"
      ],
      "text/plain": [
       "| 6       | 7m 32s       | 0.960927                  |"
      ]
     },
     "metadata": {},
     "output_type": "display_data"
    },
    {
     "data": {
      "text/html": [
       "<pre>| 7       | 8m 35s       | 0.960801                  |</pre>"
      ],
      "text/plain": [
       "| 7       | 8m 35s       | 0.960801                  |"
      ]
     },
     "metadata": {},
     "output_type": "display_data"
    },
    {
     "data": {
      "text/html": [
       "<pre>| 8       | 9m 37s       | 0.960718                  |</pre>"
      ],
      "text/plain": [
       "| 8       | 9m 37s       | 0.960718                  |"
      ]
     },
     "metadata": {},
     "output_type": "display_data"
    },
    {
     "data": {
      "text/html": [
       "<pre>| 9       | 10m 40s      | 0.960662                  |</pre>"
      ],
      "text/plain": [
       "| 9       | 10m 40s      | 0.960662                  |"
      ]
     },
     "metadata": {},
     "output_type": "display_data"
    },
    {
     "data": {
      "text/html": [
       "<pre>| 10      | 11m 43s      | 0.960623                  |</pre>"
      ],
      "text/plain": [
       "| 10      | 11m 43s      | 0.960623                  |"
      ]
     },
     "metadata": {},
     "output_type": "display_data"
    },
    {
     "data": {
      "text/html": [
       "<pre>| 11      | 12m 47s      | 0.960595                  |</pre>"
      ],
      "text/plain": [
       "| 11      | 12m 47s      | 0.960595                  |"
      ]
     },
     "metadata": {},
     "output_type": "display_data"
    },
    {
     "data": {
      "text/html": [
       "<pre>| 12      | 13m 51s      | 0.960575                  |</pre>"
      ],
      "text/plain": [
       "| 12      | 13m 51s      | 0.960575                  |"
      ]
     },
     "metadata": {},
     "output_type": "display_data"
    },
    {
     "data": {
      "text/html": [
       "<pre>| 13      | 14m 55s      | 0.96056                   |</pre>"
      ],
      "text/plain": [
       "| 13      | 14m 55s      | 0.96056                   |"
      ]
     },
     "metadata": {},
     "output_type": "display_data"
    },
    {
     "data": {
      "text/html": [
       "<pre>| 14      | 15m 59s      | 0.960549                  |</pre>"
      ],
      "text/plain": [
       "| 14      | 15m 59s      | 0.960549                  |"
      ]
     },
     "metadata": {},
     "output_type": "display_data"
    },
    {
     "data": {
      "text/html": [
       "<pre>| 15      | 17m 2s       | 0.960541                  |</pre>"
      ],
      "text/plain": [
       "| 15      | 17m 2s       | 0.960541                  |"
      ]
     },
     "metadata": {},
     "output_type": "display_data"
    },
    {
     "data": {
      "text/html": [
       "<pre>| 16      | 18m 7s       | 0.960534                  |</pre>"
      ],
      "text/plain": [
       "| 16      | 18m 7s       | 0.960534                  |"
      ]
     },
     "metadata": {},
     "output_type": "display_data"
    },
    {
     "data": {
      "text/html": [
       "<pre>| 17      | 19m 11s      | 0.960529                  |</pre>"
      ],
      "text/plain": [
       "| 17      | 19m 11s      | 0.960529                  |"
      ]
     },
     "metadata": {},
     "output_type": "display_data"
    },
    {
     "data": {
      "text/html": [
       "<pre>| 18      | 20m 15s      | 0.960525                  |</pre>"
      ],
      "text/plain": [
       "| 18      | 20m 15s      | 0.960525                  |"
      ]
     },
     "metadata": {},
     "output_type": "display_data"
    },
    {
     "data": {
      "text/html": [
       "<pre>| 19      | 21m 19s      | 0.960521                  |</pre>"
      ],
      "text/plain": [
       "| 19      | 21m 19s      | 0.960521                  |"
      ]
     },
     "metadata": {},
     "output_type": "display_data"
    },
    {
     "data": {
      "text/html": [
       "<pre>| 20      | 22m 22s      | 0.960518                  |</pre>"
      ],
      "text/plain": [
       "| 20      | 22m 22s      | 0.960518                  |"
      ]
     },
     "metadata": {},
     "output_type": "display_data"
    },
    {
     "data": {
      "text/html": [
       "<pre>| 21      | 23m 26s      | 0.960515                  |</pre>"
      ],
      "text/plain": [
       "| 21      | 23m 26s      | 0.960515                  |"
      ]
     },
     "metadata": {},
     "output_type": "display_data"
    },
    {
     "data": {
      "text/html": [
       "<pre>| 22      | 24m 30s      | 0.960513                  |</pre>"
      ],
      "text/plain": [
       "| 22      | 24m 30s      | 0.960513                  |"
      ]
     },
     "metadata": {},
     "output_type": "display_data"
    },
    {
     "data": {
      "text/html": [
       "<pre>| 23      | 25m 35s      | 0.96051                   |</pre>"
      ],
      "text/plain": [
       "| 23      | 25m 35s      | 0.96051                   |"
      ]
     },
     "metadata": {},
     "output_type": "display_data"
    },
    {
     "data": {
      "text/html": [
       "<pre>| 24      | 26m 39s      | 0.960508                  |</pre>"
      ],
      "text/plain": [
       "| 24      | 26m 39s      | 0.960508                  |"
      ]
     },
     "metadata": {},
     "output_type": "display_data"
    },
    {
     "data": {
      "text/html": [
       "<pre>| FINAL   | 26m 39s      | 0.960508                  |</pre>"
      ],
      "text/plain": [
       "| FINAL   | 26m 39s      | 0.960508                  |"
      ]
     },
     "metadata": {},
     "output_type": "display_data"
    },
    {
     "data": {
      "text/html": [
       "<pre>+---------+--------------+---------------------------+</pre>"
      ],
      "text/plain": [
       "+---------+--------------+---------------------------+"
      ]
     },
     "metadata": {},
     "output_type": "display_data"
    },
    {
     "data": {
      "text/html": [
       "<pre>Optimization Complete: Iteration limit reached.</pre>"
      ],
      "text/plain": [
       "Optimization Complete: Iteration limit reached."
      ]
     },
     "metadata": {},
     "output_type": "display_data"
    }
   ],
   "source": [
    "item_similarity_model_ials = graphlab.recommender.ranking_factorization_recommender.create(train_data, \n",
    "                                                                   user_id='userId',\n",
    "                                                                   item_id='releaseId',\n",
    "                                                                   solver='ials'\n",
    "                                                                   # don't use target= as '0' ratings exist\n",
    "                                                                   )"
   ]
  },
  {
   "cell_type": "code",
   "execution_count": 20,
   "metadata": {
    "collapsed": false,
    "deletable": true,
    "editable": true
   },
   "outputs": [
    {
     "data": {
      "text/html": [
       "<pre>Recsys training: model = ranking_factorization_recommender</pre>"
      ],
      "text/plain": [
       "Recsys training: model = ranking_factorization_recommender"
      ]
     },
     "metadata": {},
     "output_type": "display_data"
    },
    {
     "data": {
      "text/html": [
       "<pre>Preparing data set.</pre>"
      ],
      "text/plain": [
       "Preparing data set."
      ]
     },
     "metadata": {},
     "output_type": "display_data"
    },
    {
     "data": {
      "text/html": [
       "<pre>    Data has 70407893 observations with 212189 users and 10455104 items.</pre>"
      ],
      "text/plain": [
       "    Data has 70407893 observations with 212189 users and 10455104 items."
      ]
     },
     "metadata": {},
     "output_type": "display_data"
    },
    {
     "data": {
      "text/html": [
       "<pre>    Data prepared in: 70.4376s</pre>"
      ],
      "text/plain": [
       "    Data prepared in: 70.4376s"
      ]
     },
     "metadata": {},
     "output_type": "display_data"
    },
    {
     "data": {
      "text/html": [
       "<pre>Training ranking_factorization_recommender for recommendations.</pre>"
      ],
      "text/plain": [
       "Training ranking_factorization_recommender for recommendations."
      ]
     },
     "metadata": {},
     "output_type": "display_data"
    },
    {
     "data": {
      "text/html": [
       "<pre>+--------------------------------+--------------------------------------------------+----------+</pre>"
      ],
      "text/plain": [
       "+--------------------------------+--------------------------------------------------+----------+"
      ]
     },
     "metadata": {},
     "output_type": "display_data"
    },
    {
     "data": {
      "text/html": [
       "<pre>| Parameter                      | Description                                      | Value    |</pre>"
      ],
      "text/plain": [
       "| Parameter                      | Description                                      | Value    |"
      ]
     },
     "metadata": {},
     "output_type": "display_data"
    },
    {
     "data": {
      "text/html": [
       "<pre>+--------------------------------+--------------------------------------------------+----------+</pre>"
      ],
      "text/plain": [
       "+--------------------------------+--------------------------------------------------+----------+"
      ]
     },
     "metadata": {},
     "output_type": "display_data"
    },
    {
     "data": {
      "text/html": [
       "<pre>| num_factors                    | Factor Dimension                                 | 32       |</pre>"
      ],
      "text/plain": [
       "| num_factors                    | Factor Dimension                                 | 32       |"
      ]
     },
     "metadata": {},
     "output_type": "display_data"
    },
    {
     "data": {
      "text/html": [
       "<pre>| regularization                 | L2 Regularization on Factors                     | 1e-009   |</pre>"
      ],
      "text/plain": [
       "| regularization                 | L2 Regularization on Factors                     | 1e-009   |"
      ]
     },
     "metadata": {},
     "output_type": "display_data"
    },
    {
     "data": {
      "text/html": [
       "<pre>| solver                         | Solver used for training                         | adagrad  |</pre>"
      ],
      "text/plain": [
       "| solver                         | Solver used for training                         | adagrad  |"
      ]
     },
     "metadata": {},
     "output_type": "display_data"
    },
    {
     "data": {
      "text/html": [
       "<pre>| linear_regularization          | L2 Regularization on Linear Coefficients         | 1e-009   |</pre>"
      ],
      "text/plain": [
       "| linear_regularization          | L2 Regularization on Linear Coefficients         | 1e-009   |"
      ]
     },
     "metadata": {},
     "output_type": "display_data"
    },
    {
     "data": {
      "text/html": [
       "<pre>| binary_target                  | Assume Binary Targets                            | True     |</pre>"
      ],
      "text/plain": [
       "| binary_target                  | Assume Binary Targets                            | True     |"
      ]
     },
     "metadata": {},
     "output_type": "display_data"
    },
    {
     "data": {
      "text/html": [
       "<pre>| max_iterations                 | Maximum Number of Iterations                     | 25       |</pre>"
      ],
      "text/plain": [
       "| max_iterations                 | Maximum Number of Iterations                     | 25       |"
      ]
     },
     "metadata": {},
     "output_type": "display_data"
    },
    {
     "data": {
      "text/html": [
       "<pre>+--------------------------------+--------------------------------------------------+----------+</pre>"
      ],
      "text/plain": [
       "+--------------------------------+--------------------------------------------------+----------+"
      ]
     },
     "metadata": {},
     "output_type": "display_data"
    },
    {
     "data": {
      "text/html": [
       "<pre>  Optimizing model using SGD; tuning step size.</pre>"
      ],
      "text/plain": [
       "  Optimizing model using SGD; tuning step size."
      ]
     },
     "metadata": {},
     "output_type": "display_data"
    },
    {
     "data": {
      "text/html": [
       "<pre>  Using 8800986 / 70407893 points for tuning the step size.</pre>"
      ],
      "text/plain": [
       "  Using 8800986 / 70407893 points for tuning the step size."
      ]
     },
     "metadata": {},
     "output_type": "display_data"
    },
    {
     "data": {
      "text/html": [
       "<pre>+---------+-------------------+------------------------------------------+</pre>"
      ],
      "text/plain": [
       "+---------+-------------------+------------------------------------------+"
      ]
     },
     "metadata": {},
     "output_type": "display_data"
    },
    {
     "data": {
      "text/html": [
       "<pre>| Attempt | Initial Step Size | Estimated Objective Value                |</pre>"
      ],
      "text/plain": [
       "| Attempt | Initial Step Size | Estimated Objective Value                |"
      ]
     },
     "metadata": {},
     "output_type": "display_data"
    },
    {
     "data": {
      "text/html": [
       "<pre>+---------+-------------------+------------------------------------------+</pre>"
      ],
      "text/plain": [
       "+---------+-------------------+------------------------------------------+"
      ]
     },
     "metadata": {},
     "output_type": "display_data"
    },
    {
     "data": {
      "text/html": [
       "<pre>| 0       | 12.5              | Not Viable                               |</pre>"
      ],
      "text/plain": [
       "| 0       | 12.5              | Not Viable                               |"
      ]
     },
     "metadata": {},
     "output_type": "display_data"
    },
    {
     "data": {
      "text/html": [
       "<pre>| 1       | 3.125             | Not Viable                               |</pre>"
      ],
      "text/plain": [
       "| 1       | 3.125             | Not Viable                               |"
      ]
     },
     "metadata": {},
     "output_type": "display_data"
    },
    {
     "data": {
      "text/html": [
       "<pre>| 2       | 0.78125           | Not Viable                               |</pre>"
      ],
      "text/plain": [
       "| 2       | 0.78125           | Not Viable                               |"
      ]
     },
     "metadata": {},
     "output_type": "display_data"
    },
    {
     "data": {
      "text/html": [
       "<pre>| 3       | 0.195312          | Not Viable                               |</pre>"
      ],
      "text/plain": [
       "| 3       | 0.195312          | Not Viable                               |"
      ]
     },
     "metadata": {},
     "output_type": "display_data"
    },
    {
     "data": {
      "text/html": [
       "<pre>| 4       | 0.0488281         | Not Viable                               |</pre>"
      ],
      "text/plain": [
       "| 4       | 0.0488281         | Not Viable                               |"
      ]
     },
     "metadata": {},
     "output_type": "display_data"
    },
    {
     "data": {
      "text/html": [
       "<pre>| 5       | 0.012207          | Not Viable                               |</pre>"
      ],
      "text/plain": [
       "| 5       | 0.012207          | Not Viable                               |"
      ]
     },
     "metadata": {},
     "output_type": "display_data"
    },
    {
     "data": {
      "text/html": [
       "<pre>| 6       | 0.00305176        | Not Viable                               |</pre>"
      ],
      "text/plain": [
       "| 6       | 0.00305176        | Not Viable                               |"
      ]
     },
     "metadata": {},
     "output_type": "display_data"
    },
    {
     "data": {
      "text/html": [
       "<pre>| 7       | 0.000762939       | Not Viable                               |</pre>"
      ],
      "text/plain": [
       "| 7       | 0.000762939       | Not Viable                               |"
      ]
     },
     "metadata": {},
     "output_type": "display_data"
    },
    {
     "data": {
      "text/html": [
       "<pre>| 8       | 0.000190735       | 1.38551                                  |</pre>"
      ],
      "text/plain": [
       "| 8       | 0.000190735       | 1.38551                                  |"
      ]
     },
     "metadata": {},
     "output_type": "display_data"
    },
    {
     "data": {
      "text/html": [
       "<pre>| 9       | 9.53674e-005      | 1.38592                                  |</pre>"
      ],
      "text/plain": [
       "| 9       | 9.53674e-005      | 1.38592                                  |"
      ]
     },
     "metadata": {},
     "output_type": "display_data"
    },
    {
     "data": {
      "text/html": [
       "<pre>| 10      | 4.76837e-005      | 1.38615                                  |</pre>"
      ],
      "text/plain": [
       "| 10      | 4.76837e-005      | 1.38615                                  |"
      ]
     },
     "metadata": {},
     "output_type": "display_data"
    },
    {
     "data": {
      "text/html": [
       "<pre>| 11      | 2.38419e-005      | 1.38628                                  |</pre>"
      ],
      "text/plain": [
       "| 11      | 2.38419e-005      | 1.38628                                  |"
      ]
     },
     "metadata": {},
     "output_type": "display_data"
    },
    {
     "data": {
      "text/html": [
       "<pre>+---------+-------------------+------------------------------------------+</pre>"
      ],
      "text/plain": [
       "+---------+-------------------+------------------------------------------+"
      ]
     },
     "metadata": {},
     "output_type": "display_data"
    },
    {
     "data": {
      "text/html": [
       "<pre>| Final   | 0.000190735       | 1.38551                                  |</pre>"
      ],
      "text/plain": [
       "| Final   | 0.000190735       | 1.38551                                  |"
      ]
     },
     "metadata": {},
     "output_type": "display_data"
    },
    {
     "data": {
      "text/html": [
       "<pre>+---------+-------------------+------------------------------------------+</pre>"
      ],
      "text/plain": [
       "+---------+-------------------+------------------------------------------+"
      ]
     },
     "metadata": {},
     "output_type": "display_data"
    },
    {
     "data": {
      "text/html": [
       "<pre>Starting Optimization.</pre>"
      ],
      "text/plain": [
       "Starting Optimization."
      ]
     },
     "metadata": {},
     "output_type": "display_data"
    },
    {
     "data": {
      "text/html": [
       "<pre>+---------+--------------+-------------------+-----------------------------------+-------------+</pre>"
      ],
      "text/plain": [
       "+---------+--------------+-------------------+-----------------------------------+-------------+"
      ]
     },
     "metadata": {},
     "output_type": "display_data"
    },
    {
     "data": {
      "text/html": [
       "<pre>| Iter.   | Elapsed Time | Approx. Objective | Approx. Training Predictive Error | Step Size   |</pre>"
      ],
      "text/plain": [
       "| Iter.   | Elapsed Time | Approx. Objective | Approx. Training Predictive Error | Step Size   |"
      ]
     },
     "metadata": {},
     "output_type": "display_data"
    },
    {
     "data": {
      "text/html": [
       "<pre>+---------+--------------+-------------------+-----------------------------------+-------------+</pre>"
      ],
      "text/plain": [
       "+---------+--------------+-------------------+-----------------------------------+-------------+"
      ]
     },
     "metadata": {},
     "output_type": "display_data"
    },
    {
     "data": {
      "text/html": [
       "<pre>| Initial | 12.014ms     | 1.38644           | 0.693147                          |             |</pre>"
      ],
      "text/plain": [
       "| Initial | 12.014ms     | 1.38644           | 0.693147                          |             |"
      ]
     },
     "metadata": {},
     "output_type": "display_data"
    },
    {
     "data": {
      "text/html": [
       "<pre>+---------+--------------+-------------------+-----------------------------------+-------------+</pre>"
      ],
      "text/plain": [
       "+---------+--------------+-------------------+-----------------------------------+-------------+"
      ]
     },
     "metadata": {},
     "output_type": "display_data"
    },
    {
     "data": {
      "text/html": [
       "<pre>| 1       | 1m 20s       | 1.38577           | 0.692636                          | 0.000190735 |</pre>"
      ],
      "text/plain": [
       "| 1       | 1m 20s       | 1.38577           | 0.692636                          | 0.000190735 |"
      ]
     },
     "metadata": {},
     "output_type": "display_data"
    },
    {
     "data": {
      "text/html": [
       "<pre>| 2       | 2m 41s       | 1.38519           | 0.692171                          | 0.000190735 |</pre>"
      ],
      "text/plain": [
       "| 2       | 2m 41s       | 1.38519           | 0.692171                          | 0.000190735 |"
      ]
     },
     "metadata": {},
     "output_type": "display_data"
    },
    {
     "data": {
      "text/html": [
       "<pre>| 3       | 4m 1s        | 1.38484           | 0.691699                          | 0.000190735 |</pre>"
      ],
      "text/plain": [
       "| 3       | 4m 1s        | 1.38484           | 0.691699                          | 0.000190735 |"
      ]
     },
     "metadata": {},
     "output_type": "display_data"
    },
    {
     "data": {
      "text/html": [
       "<pre>| 4       | 5m 21s       | 1.38459           | 0.691561                          | 0.000190735 |</pre>"
      ],
      "text/plain": [
       "| 4       | 5m 21s       | 1.38459           | 0.691561                          | 0.000190735 |"
      ]
     },
     "metadata": {},
     "output_type": "display_data"
    },
    {
     "data": {
      "text/html": [
       "<pre>| 5       | 6m 40s       | 1.38434           | 0.691769                          | 0.000190735 |</pre>"
      ],
      "text/plain": [
       "| 5       | 6m 40s       | 1.38434           | 0.691769                          | 0.000190735 |"
      ]
     },
     "metadata": {},
     "output_type": "display_data"
    },
    {
     "data": {
      "text/html": [
       "<pre>| 6       | 8m 0s        | 1.38408           | 0.692149                          | 0.000190735 |</pre>"
      ],
      "text/plain": [
       "| 6       | 8m 0s        | 1.38408           | 0.692149                          | 0.000190735 |"
      ]
     },
     "metadata": {},
     "output_type": "display_data"
    },
    {
     "data": {
      "text/html": [
       "<pre>| 7       | 9m 20s       | 1.38383           | 0.692372                          | 0.000190735 |</pre>"
      ],
      "text/plain": [
       "| 7       | 9m 20s       | 1.38383           | 0.692372                          | 0.000190735 |"
      ]
     },
     "metadata": {},
     "output_type": "display_data"
    },
    {
     "data": {
      "text/html": [
       "<pre>| 8       | 10m 40s      | 1.3836            | 0.692709                          | 0.000190735 |</pre>"
      ],
      "text/plain": [
       "| 8       | 10m 40s      | 1.3836            | 0.692709                          | 0.000190735 |"
      ]
     },
     "metadata": {},
     "output_type": "display_data"
    },
    {
     "data": {
      "text/html": [
       "<pre>| 9       | 12m 0s       | 1.38339           | 0.693289                          | 0.000190735 |</pre>"
      ],
      "text/plain": [
       "| 9       | 12m 0s       | 1.38339           | 0.693289                          | 0.000190735 |"
      ]
     },
     "metadata": {},
     "output_type": "display_data"
    },
    {
     "data": {
      "text/html": [
       "<pre>| 10      | 13m 20s      | 1.38319           | 0.693902                          | 0.000190735 |</pre>"
      ],
      "text/plain": [
       "| 10      | 13m 20s      | 1.38319           | 0.693902                          | 0.000190735 |"
      ]
     },
     "metadata": {},
     "output_type": "display_data"
    },
    {
     "data": {
      "text/html": [
       "<pre>| 11      | 14m 40s      | 1.38302           | 0.694443                          | 0.000190735 |</pre>"
      ],
      "text/plain": [
       "| 11      | 14m 40s      | 1.38302           | 0.694443                          | 0.000190735 |"
      ]
     },
     "metadata": {},
     "output_type": "display_data"
    },
    {
     "data": {
      "text/html": [
       "<pre>| 12      | 15m 59s      | 1.38285           | 0.694818                          | 0.000190735 |</pre>"
      ],
      "text/plain": [
       "| 12      | 15m 59s      | 1.38285           | 0.694818                          | 0.000190735 |"
      ]
     },
     "metadata": {},
     "output_type": "display_data"
    },
    {
     "data": {
      "text/html": [
       "<pre>| 13      | 17m 19s      | 1.3827            | 0.695244                          | 0.000190735 |</pre>"
      ],
      "text/plain": [
       "| 13      | 17m 19s      | 1.3827            | 0.695244                          | 0.000190735 |"
      ]
     },
     "metadata": {},
     "output_type": "display_data"
    },
    {
     "data": {
      "text/html": [
       "<pre>| 14      | 18m 39s      | 1.38253           | 0.695814                          | 0.000190735 |</pre>"
      ],
      "text/plain": [
       "| 14      | 18m 39s      | 1.38253           | 0.695814                          | 0.000190735 |"
      ]
     },
     "metadata": {},
     "output_type": "display_data"
    },
    {
     "data": {
      "text/html": [
       "<pre>| 15      | 19m 58s      | 1.38238           | 0.696292                          | 0.000190735 |</pre>"
      ],
      "text/plain": [
       "| 15      | 19m 58s      | 1.38238           | 0.696292                          | 0.000190735 |"
      ]
     },
     "metadata": {},
     "output_type": "display_data"
    },
    {
     "data": {
      "text/html": [
       "<pre>| 16      | 21m 18s      | 1.38227           | 0.69709                           | 0.000190735 |</pre>"
      ],
      "text/plain": [
       "| 16      | 21m 18s      | 1.38227           | 0.69709                           | 0.000190735 |"
      ]
     },
     "metadata": {},
     "output_type": "display_data"
    },
    {
     "data": {
      "text/html": [
       "<pre>| 17      | 22m 38s      | 1.3821            | 0.696942                          | 0.000190735 |</pre>"
      ],
      "text/plain": [
       "| 17      | 22m 38s      | 1.3821            | 0.696942                          | 0.000190735 |"
      ]
     },
     "metadata": {},
     "output_type": "display_data"
    },
    {
     "data": {
      "text/html": [
       "<pre>| 18      | 23m 59s      | 1.38191           | 0.696506                          | 0.000190735 |</pre>"
      ],
      "text/plain": [
       "| 18      | 23m 59s      | 1.38191           | 0.696506                          | 0.000190735 |"
      ]
     },
     "metadata": {},
     "output_type": "display_data"
    },
    {
     "data": {
      "text/html": [
       "<pre>| 19      | 25m 19s      | 1.38173           | 0.69601                           | 0.000190735 |</pre>"
      ],
      "text/plain": [
       "| 19      | 25m 19s      | 1.38173           | 0.69601                           | 0.000190735 |"
      ]
     },
     "metadata": {},
     "output_type": "display_data"
    },
    {
     "data": {
      "text/html": [
       "<pre>| 20      | 26m 39s      | 1.38155           | 0.695589                          | 0.000190735 |</pre>"
      ],
      "text/plain": [
       "| 20      | 26m 39s      | 1.38155           | 0.695589                          | 0.000190735 |"
      ]
     },
     "metadata": {},
     "output_type": "display_data"
    },
    {
     "data": {
      "text/html": [
       "<pre>| 21      | 27m 58s      | 1.38137           | 0.695181                          | 0.000190735 |</pre>"
      ],
      "text/plain": [
       "| 21      | 27m 58s      | 1.38137           | 0.695181                          | 0.000190735 |"
      ]
     },
     "metadata": {},
     "output_type": "display_data"
    },
    {
     "data": {
      "text/html": [
       "<pre>| 22      | 29m 18s      | 1.3812            | 0.694804                          | 0.000190735 |</pre>"
      ],
      "text/plain": [
       "| 22      | 29m 18s      | 1.3812            | 0.694804                          | 0.000190735 |"
      ]
     },
     "metadata": {},
     "output_type": "display_data"
    },
    {
     "data": {
      "text/html": [
       "<pre>| 23      | 30m 38s      | 1.38104           | 0.694471                          | 0.000190735 |</pre>"
      ],
      "text/plain": [
       "| 23      | 30m 38s      | 1.38104           | 0.694471                          | 0.000190735 |"
      ]
     },
     "metadata": {},
     "output_type": "display_data"
    },
    {
     "data": {
      "text/html": [
       "<pre>| 24      | 31m 57s      | 1.38088           | 0.694146                          | 0.000190735 |</pre>"
      ],
      "text/plain": [
       "| 24      | 31m 57s      | 1.38088           | 0.694146                          | 0.000190735 |"
      ]
     },
     "metadata": {},
     "output_type": "display_data"
    },
    {
     "data": {
      "text/html": [
       "<pre>| 25      | 33m 18s      | 1.38071           | 0.693819                          | 0.000190735 |</pre>"
      ],
      "text/plain": [
       "| 25      | 33m 18s      | 1.38071           | 0.693819                          | 0.000190735 |"
      ]
     },
     "metadata": {},
     "output_type": "display_data"
    },
    {
     "data": {
      "text/html": [
       "<pre>+---------+--------------+-------------------+-----------------------------------+-------------+</pre>"
      ],
      "text/plain": [
       "+---------+--------------+-------------------+-----------------------------------+-------------+"
      ]
     },
     "metadata": {},
     "output_type": "display_data"
    },
    {
     "data": {
      "text/html": [
       "<pre>Optimization Complete: Maximum number of passes through the data reached.</pre>"
      ],
      "text/plain": [
       "Optimization Complete: Maximum number of passes through the data reached."
      ]
     },
     "metadata": {},
     "output_type": "display_data"
    },
    {
     "data": {
      "text/html": [
       "<pre>Computing final objective value and training Predictive Error.</pre>"
      ],
      "text/plain": [
       "Computing final objective value and training Predictive Error."
      ]
     },
     "metadata": {},
     "output_type": "display_data"
    },
    {
     "data": {
      "text/html": [
       "<pre>       Final objective value: 1.38062</pre>"
      ],
      "text/plain": [
       "       Final objective value: 1.38062"
      ]
     },
     "metadata": {},
     "output_type": "display_data"
    },
    {
     "data": {
      "text/html": [
       "<pre>       Final training Predictive Error: 0.693617</pre>"
      ],
      "text/plain": [
       "       Final training Predictive Error: 0.693617"
      ]
     },
     "metadata": {},
     "output_type": "display_data"
    }
   ],
   "source": [
    "item_similarity_model_default = graphlab.recommender.ranking_factorization_recommender.create(train_data, \n",
    "                                                                   user_id='userId',\n",
    "                                                                   item_id='releaseId'\n",
    "                                                                   # don't use target= as '0' ratings exist\n",
    "                                                                   )"
   ]
  },
  {
   "cell_type": "code",
   "execution_count": 21,
   "metadata": {
    "collapsed": true
   },
   "outputs": [],
   "source": [
    "item_similarity_model_default.save('item_similarity_default')"
   ]
  },
  {
   "cell_type": "code",
   "execution_count": 22,
   "metadata": {
    "collapsed": true
   },
   "outputs": [],
   "source": [
    "item_similarity_model_ials.save('item_similarity_ials')"
   ]
  },
  {
   "cell_type": "code",
   "execution_count": 27,
   "metadata": {
    "collapsed": false
   },
   "outputs": [
    {
     "data": {
      "text/html": [
       "<div style=\"max-height:1000px;max-width:1500px;overflow:auto;\"><table frame=\"box\" rules=\"cols\">\n",
       "    <tr>\n",
       "        <th style=\"padding-left: 1em; padding-right: 1em; text-align: center\">userId</th>\n",
       "        <th style=\"padding-left: 1em; padding-right: 1em; text-align: center\">releaseId</th>\n",
       "        <th style=\"padding-left: 1em; padding-right: 1em; text-align: center\">score</th>\n",
       "        <th style=\"padding-left: 1em; padding-right: 1em; text-align: center\">rank</th>\n",
       "    </tr>\n",
       "    <tr>\n",
       "        <td style=\"padding-left: 1em; padding-right: 1em; text-align: center; vertical-align: top\">1</td>\n",
       "        <td style=\"padding-left: 1em; padding-right: 1em; text-align: center; vertical-align: top\">4570366</td>\n",
       "        <td style=\"padding-left: 1em; padding-right: 1em; text-align: center; vertical-align: top\">0.551233771365</td>\n",
       "        <td style=\"padding-left: 1em; padding-right: 1em; text-align: center; vertical-align: top\">1</td>\n",
       "    </tr>\n",
       "    <tr>\n",
       "        <td style=\"padding-left: 1em; padding-right: 1em; text-align: center; vertical-align: top\">1</td>\n",
       "        <td style=\"padding-left: 1em; padding-right: 1em; text-align: center; vertical-align: top\">526351</td>\n",
       "        <td style=\"padding-left: 1em; padding-right: 1em; text-align: center; vertical-align: top\">0.547710765788</td>\n",
       "        <td style=\"padding-left: 1em; padding-right: 1em; text-align: center; vertical-align: top\">2</td>\n",
       "    </tr>\n",
       "    <tr>\n",
       "        <td style=\"padding-left: 1em; padding-right: 1em; text-align: center; vertical-align: top\">1</td>\n",
       "        <td style=\"padding-left: 1em; padding-right: 1em; text-align: center; vertical-align: top\">367104</td>\n",
       "        <td style=\"padding-left: 1em; padding-right: 1em; text-align: center; vertical-align: top\">0.544642246177</td>\n",
       "        <td style=\"padding-left: 1em; padding-right: 1em; text-align: center; vertical-align: top\">3</td>\n",
       "    </tr>\n",
       "    <tr>\n",
       "        <td style=\"padding-left: 1em; padding-right: 1em; text-align: center; vertical-align: top\">1</td>\n",
       "        <td style=\"padding-left: 1em; padding-right: 1em; text-align: center; vertical-align: top\">2911293</td>\n",
       "        <td style=\"padding-left: 1em; padding-right: 1em; text-align: center; vertical-align: top\">0.543574780664</td>\n",
       "        <td style=\"padding-left: 1em; padding-right: 1em; text-align: center; vertical-align: top\">4</td>\n",
       "    </tr>\n",
       "    <tr>\n",
       "        <td style=\"padding-left: 1em; padding-right: 1em; text-align: center; vertical-align: top\">1</td>\n",
       "        <td style=\"padding-left: 1em; padding-right: 1em; text-align: center; vertical-align: top\">1587168</td>\n",
       "        <td style=\"padding-left: 1em; padding-right: 1em; text-align: center; vertical-align: top\">0.541797898881</td>\n",
       "        <td style=\"padding-left: 1em; padding-right: 1em; text-align: center; vertical-align: top\">5</td>\n",
       "    </tr>\n",
       "    <tr>\n",
       "        <td style=\"padding-left: 1em; padding-right: 1em; text-align: center; vertical-align: top\">1</td>\n",
       "        <td style=\"padding-left: 1em; padding-right: 1em; text-align: center; vertical-align: top\">5764967</td>\n",
       "        <td style=\"padding-left: 1em; padding-right: 1em; text-align: center; vertical-align: top\">0.540846709232</td>\n",
       "        <td style=\"padding-left: 1em; padding-right: 1em; text-align: center; vertical-align: top\">6</td>\n",
       "    </tr>\n",
       "    <tr>\n",
       "        <td style=\"padding-left: 1em; padding-right: 1em; text-align: center; vertical-align: top\">1</td>\n",
       "        <td style=\"padding-left: 1em; padding-right: 1em; text-align: center; vertical-align: top\">74260</td>\n",
       "        <td style=\"padding-left: 1em; padding-right: 1em; text-align: center; vertical-align: top\">0.540641499006</td>\n",
       "        <td style=\"padding-left: 1em; padding-right: 1em; text-align: center; vertical-align: top\">7</td>\n",
       "    </tr>\n",
       "    <tr>\n",
       "        <td style=\"padding-left: 1em; padding-right: 1em; text-align: center; vertical-align: top\">1</td>\n",
       "        <td style=\"padding-left: 1em; padding-right: 1em; text-align: center; vertical-align: top\">194021</td>\n",
       "        <td style=\"padding-left: 1em; padding-right: 1em; text-align: center; vertical-align: top\">0.540630572504</td>\n",
       "        <td style=\"padding-left: 1em; padding-right: 1em; text-align: center; vertical-align: top\">8</td>\n",
       "    </tr>\n",
       "    <tr>\n",
       "        <td style=\"padding-left: 1em; padding-right: 1em; text-align: center; vertical-align: top\">1</td>\n",
       "        <td style=\"padding-left: 1em; padding-right: 1em; text-align: center; vertical-align: top\">1343227</td>\n",
       "        <td style=\"padding-left: 1em; padding-right: 1em; text-align: center; vertical-align: top\">0.539656205698</td>\n",
       "        <td style=\"padding-left: 1em; padding-right: 1em; text-align: center; vertical-align: top\">9</td>\n",
       "    </tr>\n",
       "    <tr>\n",
       "        <td style=\"padding-left: 1em; padding-right: 1em; text-align: center; vertical-align: top\">1</td>\n",
       "        <td style=\"padding-left: 1em; padding-right: 1em; text-align: center; vertical-align: top\">242785</td>\n",
       "        <td style=\"padding-left: 1em; padding-right: 1em; text-align: center; vertical-align: top\">0.538832057001</td>\n",
       "        <td style=\"padding-left: 1em; padding-right: 1em; text-align: center; vertical-align: top\">10</td>\n",
       "    </tr>\n",
       "</table>\n",
       "[10 rows x 4 columns]<br/>\n",
       "</div>"
      ],
      "text/plain": [
       "Columns:\n",
       "\tuserId\tint\n",
       "\treleaseId\tint\n",
       "\tscore\tfloat\n",
       "\trank\tint\n",
       "\n",
       "Rows: 10\n",
       "\n",
       "Data:\n",
       "+--------+-----------+----------------+------+\n",
       "| userId | releaseId |     score      | rank |\n",
       "+--------+-----------+----------------+------+\n",
       "|   1    |  4570366  | 0.551233771365 |  1   |\n",
       "|   1    |   526351  | 0.547710765788 |  2   |\n",
       "|   1    |   367104  | 0.544642246177 |  3   |\n",
       "|   1    |  2911293  | 0.543574780664 |  4   |\n",
       "|   1    |  1587168  | 0.541797898881 |  5   |\n",
       "|   1    |  5764967  | 0.540846709232 |  6   |\n",
       "|   1    |   74260   | 0.540641499006 |  7   |\n",
       "|   1    |   194021  | 0.540630572504 |  8   |\n",
       "|   1    |  1343227  | 0.539656205698 |  9   |\n",
       "|   1    |   242785  | 0.538832057001 |  10  |\n",
       "+--------+-----------+----------------+------+\n",
       "[10 rows x 4 columns]"
      ]
     },
     "execution_count": 27,
     "metadata": {},
     "output_type": "execute_result"
    }
   ],
   "source": [
    "item_similarity_model_default.recommend(users=[test_data['userId'][0]])"
   ]
  },
  {
   "cell_type": "code",
   "execution_count": 30,
   "metadata": {
    "collapsed": false
   },
   "outputs": [
    {
     "data": {
      "text/html": [
       "<div style=\"max-height:1000px;max-width:1500px;overflow:auto;\"><table frame=\"box\" rules=\"cols\">\n",
       "    <tr>\n",
       "        <th style=\"padding-left: 1em; padding-right: 1em; text-align: center\">userId</th>\n",
       "        <th style=\"padding-left: 1em; padding-right: 1em; text-align: center\">releaseId</th>\n",
       "        <th style=\"padding-left: 1em; padding-right: 1em; text-align: center\">score</th>\n",
       "        <th style=\"padding-left: 1em; padding-right: 1em; text-align: center\">rank</th>\n",
       "    </tr>\n",
       "    <tr>\n",
       "        <td style=\"padding-left: 1em; padding-right: 1em; text-align: center; vertical-align: top\">1</td>\n",
       "        <td style=\"padding-left: 1em; padding-right: 1em; text-align: center; vertical-align: top\">4570366</td>\n",
       "        <td style=\"padding-left: 1em; padding-right: 1em; text-align: center; vertical-align: top\">0.551233771365</td>\n",
       "        <td style=\"padding-left: 1em; padding-right: 1em; text-align: center; vertical-align: top\">1</td>\n",
       "    </tr>\n",
       "    <tr>\n",
       "        <td style=\"padding-left: 1em; padding-right: 1em; text-align: center; vertical-align: top\">1</td>\n",
       "        <td style=\"padding-left: 1em; padding-right: 1em; text-align: center; vertical-align: top\">526351</td>\n",
       "        <td style=\"padding-left: 1em; padding-right: 1em; text-align: center; vertical-align: top\">0.547710765788</td>\n",
       "        <td style=\"padding-left: 1em; padding-right: 1em; text-align: center; vertical-align: top\">2</td>\n",
       "    </tr>\n",
       "    <tr>\n",
       "        <td style=\"padding-left: 1em; padding-right: 1em; text-align: center; vertical-align: top\">1</td>\n",
       "        <td style=\"padding-left: 1em; padding-right: 1em; text-align: center; vertical-align: top\">367104</td>\n",
       "        <td style=\"padding-left: 1em; padding-right: 1em; text-align: center; vertical-align: top\">0.544642246177</td>\n",
       "        <td style=\"padding-left: 1em; padding-right: 1em; text-align: center; vertical-align: top\">3</td>\n",
       "    </tr>\n",
       "    <tr>\n",
       "        <td style=\"padding-left: 1em; padding-right: 1em; text-align: center; vertical-align: top\">1</td>\n",
       "        <td style=\"padding-left: 1em; padding-right: 1em; text-align: center; vertical-align: top\">2911293</td>\n",
       "        <td style=\"padding-left: 1em; padding-right: 1em; text-align: center; vertical-align: top\">0.543574780664</td>\n",
       "        <td style=\"padding-left: 1em; padding-right: 1em; text-align: center; vertical-align: top\">4</td>\n",
       "    </tr>\n",
       "    <tr>\n",
       "        <td style=\"padding-left: 1em; padding-right: 1em; text-align: center; vertical-align: top\">1</td>\n",
       "        <td style=\"padding-left: 1em; padding-right: 1em; text-align: center; vertical-align: top\">1587168</td>\n",
       "        <td style=\"padding-left: 1em; padding-right: 1em; text-align: center; vertical-align: top\">0.541797898881</td>\n",
       "        <td style=\"padding-left: 1em; padding-right: 1em; text-align: center; vertical-align: top\">5</td>\n",
       "    </tr>\n",
       "    <tr>\n",
       "        <td style=\"padding-left: 1em; padding-right: 1em; text-align: center; vertical-align: top\">1</td>\n",
       "        <td style=\"padding-left: 1em; padding-right: 1em; text-align: center; vertical-align: top\">5764967</td>\n",
       "        <td style=\"padding-left: 1em; padding-right: 1em; text-align: center; vertical-align: top\">0.540846709232</td>\n",
       "        <td style=\"padding-left: 1em; padding-right: 1em; text-align: center; vertical-align: top\">6</td>\n",
       "    </tr>\n",
       "    <tr>\n",
       "        <td style=\"padding-left: 1em; padding-right: 1em; text-align: center; vertical-align: top\">1</td>\n",
       "        <td style=\"padding-left: 1em; padding-right: 1em; text-align: center; vertical-align: top\">74260</td>\n",
       "        <td style=\"padding-left: 1em; padding-right: 1em; text-align: center; vertical-align: top\">0.540641499006</td>\n",
       "        <td style=\"padding-left: 1em; padding-right: 1em; text-align: center; vertical-align: top\">7</td>\n",
       "    </tr>\n",
       "    <tr>\n",
       "        <td style=\"padding-left: 1em; padding-right: 1em; text-align: center; vertical-align: top\">1</td>\n",
       "        <td style=\"padding-left: 1em; padding-right: 1em; text-align: center; vertical-align: top\">194021</td>\n",
       "        <td style=\"padding-left: 1em; padding-right: 1em; text-align: center; vertical-align: top\">0.540630572504</td>\n",
       "        <td style=\"padding-left: 1em; padding-right: 1em; text-align: center; vertical-align: top\">8</td>\n",
       "    </tr>\n",
       "    <tr>\n",
       "        <td style=\"padding-left: 1em; padding-right: 1em; text-align: center; vertical-align: top\">1</td>\n",
       "        <td style=\"padding-left: 1em; padding-right: 1em; text-align: center; vertical-align: top\">1343227</td>\n",
       "        <td style=\"padding-left: 1em; padding-right: 1em; text-align: center; vertical-align: top\">0.539656205698</td>\n",
       "        <td style=\"padding-left: 1em; padding-right: 1em; text-align: center; vertical-align: top\">9</td>\n",
       "    </tr>\n",
       "    <tr>\n",
       "        <td style=\"padding-left: 1em; padding-right: 1em; text-align: center; vertical-align: top\">1</td>\n",
       "        <td style=\"padding-left: 1em; padding-right: 1em; text-align: center; vertical-align: top\">242785</td>\n",
       "        <td style=\"padding-left: 1em; padding-right: 1em; text-align: center; vertical-align: top\">0.538832057001</td>\n",
       "        <td style=\"padding-left: 1em; padding-right: 1em; text-align: center; vertical-align: top\">10</td>\n",
       "    </tr>\n",
       "</table>\n",
       "[10 rows x 4 columns]<br/>\n",
       "</div>"
      ],
      "text/plain": [
       "Columns:\n",
       "\tuserId\tint\n",
       "\treleaseId\tint\n",
       "\tscore\tfloat\n",
       "\trank\tint\n",
       "\n",
       "Rows: 10\n",
       "\n",
       "Data:\n",
       "+--------+-----------+----------------+------+\n",
       "| userId | releaseId |     score      | rank |\n",
       "+--------+-----------+----------------+------+\n",
       "|   1    |  4570366  | 0.551233771365 |  1   |\n",
       "|   1    |   526351  | 0.547710765788 |  2   |\n",
       "|   1    |   367104  | 0.544642246177 |  3   |\n",
       "|   1    |  2911293  | 0.543574780664 |  4   |\n",
       "|   1    |  1587168  | 0.541797898881 |  5   |\n",
       "|   1    |  5764967  | 0.540846709232 |  6   |\n",
       "|   1    |   74260   | 0.540641499006 |  7   |\n",
       "|   1    |   194021  | 0.540630572504 |  8   |\n",
       "|   1    |  1343227  | 0.539656205698 |  9   |\n",
       "|   1    |   242785  | 0.538832057001 |  10  |\n",
       "+--------+-----------+----------------+------+\n",
       "[10 rows x 4 columns]"
      ]
     },
     "execution_count": 30,
     "metadata": {},
     "output_type": "execute_result"
    }
   ],
   "source": [
    "item_similarity_model_default.recommend(users=[test_data['userId'][2]])"
   ]
  },
  {
   "cell_type": "code",
   "execution_count": 35,
   "metadata": {
    "collapsed": false
   },
   "outputs": [],
   "source": [
    "unique_users = test_data['userId'].unique()"
   ]
  },
  {
   "cell_type": "code",
   "execution_count": 38,
   "metadata": {
    "collapsed": false
   },
   "outputs": [
    {
     "data": {
      "application/javascript": [
       "$(\"head\").append($(\"<link/>\").attr({\n",
       "  rel:  \"stylesheet\",\n",
       "  type: \"text/css\",\n",
       "  href: \"//cdnjs.cloudflare.com/ajax/libs/font-awesome/4.1.0/css/font-awesome.min.css\"\n",
       "}));\n",
       "$(\"head\").append($(\"<link/>\").attr({\n",
       "  rel:  \"stylesheet\",\n",
       "  type: \"text/css\",\n",
       "  href: \"https://static.turi.com/products/graphlab-create/2.1/canvas/css/canvas.css\"\n",
       "}));\n",
       "\n",
       "            (function(){\n",
       "\n",
       "                var e = null;\n",
       "                if (typeof element == 'undefined') {\n",
       "                    var scripts = document.getElementsByTagName('script');\n",
       "                    var thisScriptTag = scripts[scripts.length-1];\n",
       "                    var parentDiv = thisScriptTag.parentNode;\n",
       "                    e = document.createElement('div');\n",
       "                    parentDiv.appendChild(e);\n",
       "                } else {\n",
       "                    e = element[0];\n",
       "                }\n",
       "\n",
       "                if (typeof requirejs !== 'undefined') {\n",
       "                    // disable load timeout; ipython_app.js is large and can take a while to load.\n",
       "                    requirejs.config({waitSeconds: 0});\n",
       "                }\n",
       "\n",
       "                require(['https://static.turi.com/products/graphlab-create/2.1/canvas/js/ipython_app.js'], function(IPythonApp){\n",
       "                    var app = new IPythonApp();\n",
       "                    app.attachView('sarray','Numeric', {\"ipython\": true, \"sketch\": {\"std\": 61381.724638246036, \"complete\": true, \"min\": 1.0, \"max\": 212659.0, \"quantile\": [1.0, 2195.0, 4314.0, 6388.0, 8574.0, 10747.0, 12844.0, 14985.0, 17069.0, 19205.0, 21400.0, 23480.0, 25660.0, 27776.0, 29886.0, 32031.0, 34129.0, 36266.0, 38366.0, 40496.0, 42569.0, 44696.0, 46867.0, 49091.0, 51230.0, 53171.0, 55446.0, 57588.0, 59688.0, 61819.0, 63764.0, 65912.0, 68166.0, 70221.0, 72386.0, 74548.0, 76523.0, 78616.0, 80787.0, 82922.0, 85139.0, 87214.0, 89345.0, 91453.0, 93579.0, 95684.0, 97889.0, 100005.0, 102181.0, 104285.0, 106380.0, 108487.0, 110577.0, 112797.0, 114859.0, 116994.0, 119109.0, 121216.0, 123491.0, 125574.0, 127793.0, 129773.0, 131879.0, 134054.0, 136230.0, 138324.0, 140442.0, 142565.0, 144789.0, 146808.0, 149079.0, 151148.0, 153161.0, 155456.0, 157468.0, 159611.0, 161720.0, 163918.0, 165882.0, 168137.0, 170250.0, 172378.0, 174533.0, 176668.0, 178742.0, 180880.0, 182937.0, 185053.0, 187162.0, 189250.0, 191353.0, 193596.0, 195729.0, 197858.0, 199964.0, 202156.0, 204076.0, 206228.0, 208316.0, 210491.0, 212659.0], \"median\": 106380.0, \"numeric\": true, \"num_unique\": 207656, \"num_undefined\": 0, \"var\": 3767716119.5654607, \"progress\": 1.0, \"size\": 205649, \"frequent_items\": {}, \"mean\": 106399.27072341678}, \"selected_variable\": {\"name\": [\"unique_users\"], \"dtype\": \"int\", \"view_component\": \"Numeric\", \"view_file\": \"sarray\", \"descriptives\": {\"rows\": 205649}, \"type\": \"SArray\", \"view_components\": [\"Numeric\", \"Categorical\"]}, \"histogram\": {\"progress\": 1.0, \"histogram\": {\"max\": 213648.82, \"bins\": [16564, 17271, 17272, 17346, 17252, 17255, 17236, 17234, 17282, 17297, 17312, 16328], \"min\": -618.0920000000042}, \"min\": 1, \"complete\": 1, \"max\": 212659}}, e);\n",
       "                });\n",
       "            })();\n",
       "        "
      ]
     },
     "metadata": {},
     "output_type": "display_data"
    }
   ],
   "source": [
    "unique_users.show()"
   ]
  },
  {
   "cell_type": "code",
   "execution_count": 36,
   "metadata": {
    "collapsed": false,
    "deletable": true,
    "editable": true
   },
   "outputs": [
    {
     "data": {
      "text/html": [
       "<div style=\"max-height:1000px;max-width:1500px;overflow:auto;\"><table frame=\"box\" rules=\"cols\">\n",
       "    <tr>\n",
       "        <th style=\"padding-left: 1em; padding-right: 1em; text-align: center\">userId</th>\n",
       "        <th style=\"padding-left: 1em; padding-right: 1em; text-align: center\">releaseId</th>\n",
       "        <th style=\"padding-left: 1em; padding-right: 1em; text-align: center\">score</th>\n",
       "        <th style=\"padding-left: 1em; padding-right: 1em; text-align: center\">rank</th>\n",
       "    </tr>\n",
       "    <tr>\n",
       "        <td style=\"padding-left: 1em; padding-right: 1em; text-align: center; vertical-align: top\">79732</td>\n",
       "        <td style=\"padding-left: 1em; padding-right: 1em; text-align: center; vertical-align: top\">4570366</td>\n",
       "        <td style=\"padding-left: 1em; padding-right: 1em; text-align: center; vertical-align: top\">0.551153289368</td>\n",
       "        <td style=\"padding-left: 1em; padding-right: 1em; text-align: center; vertical-align: top\">1</td>\n",
       "    </tr>\n",
       "    <tr>\n",
       "        <td style=\"padding-left: 1em; padding-right: 1em; text-align: center; vertical-align: top\">79732</td>\n",
       "        <td style=\"padding-left: 1em; padding-right: 1em; text-align: center; vertical-align: top\">526351</td>\n",
       "        <td style=\"padding-left: 1em; padding-right: 1em; text-align: center; vertical-align: top\">0.547572655909</td>\n",
       "        <td style=\"padding-left: 1em; padding-right: 1em; text-align: center; vertical-align: top\">2</td>\n",
       "    </tr>\n",
       "    <tr>\n",
       "        <td style=\"padding-left: 1em; padding-right: 1em; text-align: center; vertical-align: top\">79732</td>\n",
       "        <td style=\"padding-left: 1em; padding-right: 1em; text-align: center; vertical-align: top\">367104</td>\n",
       "        <td style=\"padding-left: 1em; padding-right: 1em; text-align: center; vertical-align: top\">0.544541723222</td>\n",
       "        <td style=\"padding-left: 1em; padding-right: 1em; text-align: center; vertical-align: top\">3</td>\n",
       "    </tr>\n",
       "    <tr>\n",
       "        <td style=\"padding-left: 1em; padding-right: 1em; text-align: center; vertical-align: top\">79732</td>\n",
       "        <td style=\"padding-left: 1em; padding-right: 1em; text-align: center; vertical-align: top\">2911293</td>\n",
       "        <td style=\"padding-left: 1em; padding-right: 1em; text-align: center; vertical-align: top\">0.54343684648</td>\n",
       "        <td style=\"padding-left: 1em; padding-right: 1em; text-align: center; vertical-align: top\">4</td>\n",
       "    </tr>\n",
       "    <tr>\n",
       "        <td style=\"padding-left: 1em; padding-right: 1em; text-align: center; vertical-align: top\">79732</td>\n",
       "        <td style=\"padding-left: 1em; padding-right: 1em; text-align: center; vertical-align: top\">1587168</td>\n",
       "        <td style=\"padding-left: 1em; padding-right: 1em; text-align: center; vertical-align: top\">0.541707188074</td>\n",
       "        <td style=\"padding-left: 1em; padding-right: 1em; text-align: center; vertical-align: top\">5</td>\n",
       "    </tr>\n",
       "    <tr>\n",
       "        <td style=\"padding-left: 1em; padding-right: 1em; text-align: center; vertical-align: top\">79732</td>\n",
       "        <td style=\"padding-left: 1em; padding-right: 1em; text-align: center; vertical-align: top\">5764967</td>\n",
       "        <td style=\"padding-left: 1em; padding-right: 1em; text-align: center; vertical-align: top\">0.540717864331</td>\n",
       "        <td style=\"padding-left: 1em; padding-right: 1em; text-align: center; vertical-align: top\">6</td>\n",
       "    </tr>\n",
       "    <tr>\n",
       "        <td style=\"padding-left: 1em; padding-right: 1em; text-align: center; vertical-align: top\">79732</td>\n",
       "        <td style=\"padding-left: 1em; padding-right: 1em; text-align: center; vertical-align: top\">74260</td>\n",
       "        <td style=\"padding-left: 1em; padding-right: 1em; text-align: center; vertical-align: top\">0.540554146247</td>\n",
       "        <td style=\"padding-left: 1em; padding-right: 1em; text-align: center; vertical-align: top\">7</td>\n",
       "    </tr>\n",
       "    <tr>\n",
       "        <td style=\"padding-left: 1em; padding-right: 1em; text-align: center; vertical-align: top\">79732</td>\n",
       "        <td style=\"padding-left: 1em; padding-right: 1em; text-align: center; vertical-align: top\">194021</td>\n",
       "        <td style=\"padding-left: 1em; padding-right: 1em; text-align: center; vertical-align: top\">0.540492827622</td>\n",
       "        <td style=\"padding-left: 1em; padding-right: 1em; text-align: center; vertical-align: top\">8</td>\n",
       "    </tr>\n",
       "    <tr>\n",
       "        <td style=\"padding-left: 1em; padding-right: 1em; text-align: center; vertical-align: top\">79732</td>\n",
       "        <td style=\"padding-left: 1em; padding-right: 1em; text-align: center; vertical-align: top\">1343227</td>\n",
       "        <td style=\"padding-left: 1em; padding-right: 1em; text-align: center; vertical-align: top\">0.539500315822</td>\n",
       "        <td style=\"padding-left: 1em; padding-right: 1em; text-align: center; vertical-align: top\">9</td>\n",
       "    </tr>\n",
       "    <tr>\n",
       "        <td style=\"padding-left: 1em; padding-right: 1em; text-align: center; vertical-align: top\">79732</td>\n",
       "        <td style=\"padding-left: 1em; padding-right: 1em; text-align: center; vertical-align: top\">242785</td>\n",
       "        <td style=\"padding-left: 1em; padding-right: 1em; text-align: center; vertical-align: top\">0.538745751563</td>\n",
       "        <td style=\"padding-left: 1em; padding-right: 1em; text-align: center; vertical-align: top\">10</td>\n",
       "    </tr>\n",
       "</table>\n",
       "[10 rows x 4 columns]<br/>\n",
       "</div>"
      ],
      "text/plain": [
       "Columns:\n",
       "\tuserId\tint\n",
       "\treleaseId\tint\n",
       "\tscore\tfloat\n",
       "\trank\tint\n",
       "\n",
       "Rows: 10\n",
       "\n",
       "Data:\n",
       "+--------+-----------+----------------+------+\n",
       "| userId | releaseId |     score      | rank |\n",
       "+--------+-----------+----------------+------+\n",
       "| 79732  |  4570366  | 0.551153289368 |  1   |\n",
       "| 79732  |   526351  | 0.547572655909 |  2   |\n",
       "| 79732  |   367104  | 0.544541723222 |  3   |\n",
       "| 79732  |  2911293  | 0.54343684648  |  4   |\n",
       "| 79732  |  1587168  | 0.541707188074 |  5   |\n",
       "| 79732  |  5764967  | 0.540717864331 |  6   |\n",
       "| 79732  |   74260   | 0.540554146247 |  7   |\n",
       "| 79732  |   194021  | 0.540492827622 |  8   |\n",
       "| 79732  |  1343227  | 0.539500315822 |  9   |\n",
       "| 79732  |   242785  | 0.538745751563 |  10  |\n",
       "+--------+-----------+----------------+------+\n",
       "[10 rows x 4 columns]"
      ]
     },
     "execution_count": 36,
     "metadata": {},
     "output_type": "execute_result"
    }
   ],
   "source": [
    "item_similarity_model_default.recommend(users=[unique_users[1]])"
   ]
  },
  {
   "cell_type": "code",
   "execution_count": 39,
   "metadata": {
    "collapsed": false
   },
   "outputs": [
    {
     "data": {
      "text/html": [
       "<div style=\"max-height:1000px;max-width:1500px;overflow:auto;\"><table frame=\"box\" rules=\"cols\">\n",
       "    <tr>\n",
       "        <th style=\"padding-left: 1em; padding-right: 1em; text-align: center\">userId</th>\n",
       "        <th style=\"padding-left: 1em; padding-right: 1em; text-align: center\">releaseId</th>\n",
       "        <th style=\"padding-left: 1em; padding-right: 1em; text-align: center\">score</th>\n",
       "        <th style=\"padding-left: 1em; padding-right: 1em; text-align: center\">rank</th>\n",
       "    </tr>\n",
       "    <tr>\n",
       "        <td style=\"padding-left: 1em; padding-right: 1em; text-align: center; vertical-align: top\">7899</td>\n",
       "        <td style=\"padding-left: 1em; padding-right: 1em; text-align: center; vertical-align: top\">4570366</td>\n",
       "        <td style=\"padding-left: 1em; padding-right: 1em; text-align: center; vertical-align: top\">0.551283368953</td>\n",
       "        <td style=\"padding-left: 1em; padding-right: 1em; text-align: center; vertical-align: top\">1</td>\n",
       "    </tr>\n",
       "    <tr>\n",
       "        <td style=\"padding-left: 1em; padding-right: 1em; text-align: center; vertical-align: top\">7899</td>\n",
       "        <td style=\"padding-left: 1em; padding-right: 1em; text-align: center; vertical-align: top\">526351</td>\n",
       "        <td style=\"padding-left: 1em; padding-right: 1em; text-align: center; vertical-align: top\">0.547702232255</td>\n",
       "        <td style=\"padding-left: 1em; padding-right: 1em; text-align: center; vertical-align: top\">2</td>\n",
       "    </tr>\n",
       "    <tr>\n",
       "        <td style=\"padding-left: 1em; padding-right: 1em; text-align: center; vertical-align: top\">7899</td>\n",
       "        <td style=\"padding-left: 1em; padding-right: 1em; text-align: center; vertical-align: top\">367104</td>\n",
       "        <td style=\"padding-left: 1em; padding-right: 1em; text-align: center; vertical-align: top\">0.544672011043</td>\n",
       "        <td style=\"padding-left: 1em; padding-right: 1em; text-align: center; vertical-align: top\">3</td>\n",
       "    </tr>\n",
       "    <tr>\n",
       "        <td style=\"padding-left: 1em; padding-right: 1em; text-align: center; vertical-align: top\">7899</td>\n",
       "        <td style=\"padding-left: 1em; padding-right: 1em; text-align: center; vertical-align: top\">2911293</td>\n",
       "        <td style=\"padding-left: 1em; padding-right: 1em; text-align: center; vertical-align: top\">0.543566671804</td>\n",
       "        <td style=\"padding-left: 1em; padding-right: 1em; text-align: center; vertical-align: top\">4</td>\n",
       "    </tr>\n",
       "    <tr>\n",
       "        <td style=\"padding-left: 1em; padding-right: 1em; text-align: center; vertical-align: top\">7899</td>\n",
       "        <td style=\"padding-left: 1em; padding-right: 1em; text-align: center; vertical-align: top\">1587168</td>\n",
       "        <td style=\"padding-left: 1em; padding-right: 1em; text-align: center; vertical-align: top\">0.541837731358</td>\n",
       "        <td style=\"padding-left: 1em; padding-right: 1em; text-align: center; vertical-align: top\">5</td>\n",
       "    </tr>\n",
       "    <tr>\n",
       "        <td style=\"padding-left: 1em; padding-right: 1em; text-align: center; vertical-align: top\">7899</td>\n",
       "        <td style=\"padding-left: 1em; padding-right: 1em; text-align: center; vertical-align: top\">5764967</td>\n",
       "        <td style=\"padding-left: 1em; padding-right: 1em; text-align: center; vertical-align: top\">0.540847566669</td>\n",
       "        <td style=\"padding-left: 1em; padding-right: 1em; text-align: center; vertical-align: top\">6</td>\n",
       "    </tr>\n",
       "    <tr>\n",
       "        <td style=\"padding-left: 1em; padding-right: 1em; text-align: center; vertical-align: top\">7899</td>\n",
       "        <td style=\"padding-left: 1em; padding-right: 1em; text-align: center; vertical-align: top\">74260</td>\n",
       "        <td style=\"padding-left: 1em; padding-right: 1em; text-align: center; vertical-align: top\">0.540684132823</td>\n",
       "        <td style=\"padding-left: 1em; padding-right: 1em; text-align: center; vertical-align: top\">7</td>\n",
       "    </tr>\n",
       "    <tr>\n",
       "        <td style=\"padding-left: 1em; padding-right: 1em; text-align: center; vertical-align: top\">7899</td>\n",
       "        <td style=\"padding-left: 1em; padding-right: 1em; text-align: center; vertical-align: top\">194021</td>\n",
       "        <td style=\"padding-left: 1em; padding-right: 1em; text-align: center; vertical-align: top\">0.540622625002</td>\n",
       "        <td style=\"padding-left: 1em; padding-right: 1em; text-align: center; vertical-align: top\">8</td>\n",
       "    </tr>\n",
       "    <tr>\n",
       "        <td style=\"padding-left: 1em; padding-right: 1em; text-align: center; vertical-align: top\">7899</td>\n",
       "        <td style=\"padding-left: 1em; padding-right: 1em; text-align: center; vertical-align: top\">1343227</td>\n",
       "        <td style=\"padding-left: 1em; padding-right: 1em; text-align: center; vertical-align: top\">0.539629830244</td>\n",
       "        <td style=\"padding-left: 1em; padding-right: 1em; text-align: center; vertical-align: top\">9</td>\n",
       "    </tr>\n",
       "    <tr>\n",
       "        <td style=\"padding-left: 1em; padding-right: 1em; text-align: center; vertical-align: top\">7899</td>\n",
       "        <td style=\"padding-left: 1em; padding-right: 1em; text-align: center; vertical-align: top\">242785</td>\n",
       "        <td style=\"padding-left: 1em; padding-right: 1em; text-align: center; vertical-align: top\">0.53887604022</td>\n",
       "        <td style=\"padding-left: 1em; padding-right: 1em; text-align: center; vertical-align: top\">10</td>\n",
       "    </tr>\n",
       "</table>\n",
       "[10 rows x 4 columns]<br/>\n",
       "</div>"
      ],
      "text/plain": [
       "Columns:\n",
       "\tuserId\tint\n",
       "\treleaseId\tint\n",
       "\tscore\tfloat\n",
       "\trank\tint\n",
       "\n",
       "Rows: 10\n",
       "\n",
       "Data:\n",
       "+--------+-----------+----------------+------+\n",
       "| userId | releaseId |     score      | rank |\n",
       "+--------+-----------+----------------+------+\n",
       "|  7899  |  4570366  | 0.551283368953 |  1   |\n",
       "|  7899  |   526351  | 0.547702232255 |  2   |\n",
       "|  7899  |   367104  | 0.544672011043 |  3   |\n",
       "|  7899  |  2911293  | 0.543566671804 |  4   |\n",
       "|  7899  |  1587168  | 0.541837731358 |  5   |\n",
       "|  7899  |  5764967  | 0.540847566669 |  6   |\n",
       "|  7899  |   74260   | 0.540684132823 |  7   |\n",
       "|  7899  |   194021  | 0.540622625002 |  8   |\n",
       "|  7899  |  1343227  | 0.539629830244 |  9   |\n",
       "|  7899  |   242785  | 0.53887604022  |  10  |\n",
       "+--------+-----------+----------------+------+\n",
       "[10 rows x 4 columns]"
      ]
     },
     "execution_count": 39,
     "metadata": {},
     "output_type": "execute_result"
    }
   ],
   "source": [
    "item_similarity_model_default.recommend(users=[unique_users[2]])"
   ]
  },
  {
   "cell_type": "markdown",
   "metadata": {},
   "source": [
    "## Above model seems to have little personalisation (if any)"
   ]
  },
  {
   "cell_type": "code",
   "execution_count": 40,
   "metadata": {
    "collapsed": false
   },
   "outputs": [
    {
     "data": {
      "text/html": [
       "<div style=\"max-height:1000px;max-width:1500px;overflow:auto;\"><table frame=\"box\" rules=\"cols\">\n",
       "    <tr>\n",
       "        <th style=\"padding-left: 1em; padding-right: 1em; text-align: center\">userId</th>\n",
       "        <th style=\"padding-left: 1em; padding-right: 1em; text-align: center\">releaseId</th>\n",
       "        <th style=\"padding-left: 1em; padding-right: 1em; text-align: center\">score</th>\n",
       "        <th style=\"padding-left: 1em; padding-right: 1em; text-align: center\">rank</th>\n",
       "    </tr>\n",
       "    <tr>\n",
       "        <td style=\"padding-left: 1em; padding-right: 1em; text-align: center; vertical-align: top\">211023</td>\n",
       "        <td style=\"padding-left: 1em; padding-right: 1em; text-align: center; vertical-align: top\">3235</td>\n",
       "        <td style=\"padding-left: 1em; padding-right: 1em; text-align: center; vertical-align: top\">0.124881193042</td>\n",
       "        <td style=\"padding-left: 1em; padding-right: 1em; text-align: center; vertical-align: top\">1</td>\n",
       "    </tr>\n",
       "    <tr>\n",
       "        <td style=\"padding-left: 1em; padding-right: 1em; text-align: center; vertical-align: top\">211023</td>\n",
       "        <td style=\"padding-left: 1em; padding-right: 1em; text-align: center; vertical-align: top\">11650</td>\n",
       "        <td style=\"padding-left: 1em; padding-right: 1em; text-align: center; vertical-align: top\">0.113591007888</td>\n",
       "        <td style=\"padding-left: 1em; padding-right: 1em; text-align: center; vertical-align: top\">2</td>\n",
       "    </tr>\n",
       "    <tr>\n",
       "        <td style=\"padding-left: 1em; padding-right: 1em; text-align: center; vertical-align: top\">211023</td>\n",
       "        <td style=\"padding-left: 1em; padding-right: 1em; text-align: center; vertical-align: top\">14008</td>\n",
       "        <td style=\"padding-left: 1em; padding-right: 1em; text-align: center; vertical-align: top\">0.100242123008</td>\n",
       "        <td style=\"padding-left: 1em; padding-right: 1em; text-align: center; vertical-align: top\">3</td>\n",
       "    </tr>\n",
       "    <tr>\n",
       "        <td style=\"padding-left: 1em; padding-right: 1em; text-align: center; vertical-align: top\">211023</td>\n",
       "        <td style=\"padding-left: 1em; padding-right: 1em; text-align: center; vertical-align: top\">367315</td>\n",
       "        <td style=\"padding-left: 1em; padding-right: 1em; text-align: center; vertical-align: top\">0.0997008383274</td>\n",
       "        <td style=\"padding-left: 1em; padding-right: 1em; text-align: center; vertical-align: top\">4</td>\n",
       "    </tr>\n",
       "    <tr>\n",
       "        <td style=\"padding-left: 1em; padding-right: 1em; text-align: center; vertical-align: top\">211023</td>\n",
       "        <td style=\"padding-left: 1em; padding-right: 1em; text-align: center; vertical-align: top\">2719</td>\n",
       "        <td style=\"padding-left: 1em; padding-right: 1em; text-align: center; vertical-align: top\">0.0985483527184</td>\n",
       "        <td style=\"padding-left: 1em; padding-right: 1em; text-align: center; vertical-align: top\">5</td>\n",
       "    </tr>\n",
       "    <tr>\n",
       "        <td style=\"padding-left: 1em; padding-right: 1em; text-align: center; vertical-align: top\">211023</td>\n",
       "        <td style=\"padding-left: 1em; padding-right: 1em; text-align: center; vertical-align: top\">35527</td>\n",
       "        <td style=\"padding-left: 1em; padding-right: 1em; text-align: center; vertical-align: top\">0.0966463088989</td>\n",
       "        <td style=\"padding-left: 1em; padding-right: 1em; text-align: center; vertical-align: top\">6</td>\n",
       "    </tr>\n",
       "    <tr>\n",
       "        <td style=\"padding-left: 1em; padding-right: 1em; text-align: center; vertical-align: top\">211023</td>\n",
       "        <td style=\"padding-left: 1em; padding-right: 1em; text-align: center; vertical-align: top\">11879</td>\n",
       "        <td style=\"padding-left: 1em; padding-right: 1em; text-align: center; vertical-align: top\">0.0960903316736</td>\n",
       "        <td style=\"padding-left: 1em; padding-right: 1em; text-align: center; vertical-align: top\">7</td>\n",
       "    </tr>\n",
       "    <tr>\n",
       "        <td style=\"padding-left: 1em; padding-right: 1em; text-align: center; vertical-align: top\">211023</td>\n",
       "        <td style=\"padding-left: 1em; padding-right: 1em; text-align: center; vertical-align: top\">161255</td>\n",
       "        <td style=\"padding-left: 1em; padding-right: 1em; text-align: center; vertical-align: top\">0.095758959651</td>\n",
       "        <td style=\"padding-left: 1em; padding-right: 1em; text-align: center; vertical-align: top\">8</td>\n",
       "    </tr>\n",
       "    <tr>\n",
       "        <td style=\"padding-left: 1em; padding-right: 1em; text-align: center; vertical-align: top\">211023</td>\n",
       "        <td style=\"padding-left: 1em; padding-right: 1em; text-align: center; vertical-align: top\">443973</td>\n",
       "        <td style=\"padding-left: 1em; padding-right: 1em; text-align: center; vertical-align: top\">0.0952921509743</td>\n",
       "        <td style=\"padding-left: 1em; padding-right: 1em; text-align: center; vertical-align: top\">9</td>\n",
       "    </tr>\n",
       "    <tr>\n",
       "        <td style=\"padding-left: 1em; padding-right: 1em; text-align: center; vertical-align: top\">211023</td>\n",
       "        <td style=\"padding-left: 1em; padding-right: 1em; text-align: center; vertical-align: top\">555652</td>\n",
       "        <td style=\"padding-left: 1em; padding-right: 1em; text-align: center; vertical-align: top\">0.0919819921255</td>\n",
       "        <td style=\"padding-left: 1em; padding-right: 1em; text-align: center; vertical-align: top\">10</td>\n",
       "    </tr>\n",
       "</table>\n",
       "[10 rows x 4 columns]<br/>\n",
       "</div>"
      ],
      "text/plain": [
       "Columns:\n",
       "\tuserId\tint\n",
       "\treleaseId\tint\n",
       "\tscore\tfloat\n",
       "\trank\tint\n",
       "\n",
       "Rows: 10\n",
       "\n",
       "Data:\n",
       "+--------+-----------+-----------------+------+\n",
       "| userId | releaseId |      score      | rank |\n",
       "+--------+-----------+-----------------+------+\n",
       "| 211023 |    3235   |  0.124881193042 |  1   |\n",
       "| 211023 |   11650   |  0.113591007888 |  2   |\n",
       "| 211023 |   14008   |  0.100242123008 |  3   |\n",
       "| 211023 |   367315  | 0.0997008383274 |  4   |\n",
       "| 211023 |    2719   | 0.0985483527184 |  5   |\n",
       "| 211023 |   35527   | 0.0966463088989 |  6   |\n",
       "| 211023 |   11879   | 0.0960903316736 |  7   |\n",
       "| 211023 |   161255  |  0.095758959651 |  8   |\n",
       "| 211023 |   443973  | 0.0952921509743 |  9   |\n",
       "| 211023 |   555652  | 0.0919819921255 |  10  |\n",
       "+--------+-----------+-----------------+------+\n",
       "[10 rows x 4 columns]"
      ]
     },
     "execution_count": 40,
     "metadata": {},
     "output_type": "execute_result"
    }
   ],
   "source": [
    "item_similarity_model_ials.recommend(users=[unique_users[0]])"
   ]
  },
  {
   "cell_type": "code",
   "execution_count": 41,
   "metadata": {
    "collapsed": false
   },
   "outputs": [
    {
     "data": {
      "text/html": [
       "<div style=\"max-height:1000px;max-width:1500px;overflow:auto;\"><table frame=\"box\" rules=\"cols\">\n",
       "    <tr>\n",
       "        <th style=\"padding-left: 1em; padding-right: 1em; text-align: center\">userId</th>\n",
       "        <th style=\"padding-left: 1em; padding-right: 1em; text-align: center\">releaseId</th>\n",
       "        <th style=\"padding-left: 1em; padding-right: 1em; text-align: center\">score</th>\n",
       "        <th style=\"padding-left: 1em; padding-right: 1em; text-align: center\">rank</th>\n",
       "    </tr>\n",
       "    <tr>\n",
       "        <td style=\"padding-left: 1em; padding-right: 1em; text-align: center; vertical-align: top\">79732</td>\n",
       "        <td style=\"padding-left: 1em; padding-right: 1em; text-align: center; vertical-align: top\">4570366</td>\n",
       "        <td style=\"padding-left: 1em; padding-right: 1em; text-align: center; vertical-align: top\">0.0367681011558</td>\n",
       "        <td style=\"padding-left: 1em; padding-right: 1em; text-align: center; vertical-align: top\">1</td>\n",
       "    </tr>\n",
       "    <tr>\n",
       "        <td style=\"padding-left: 1em; padding-right: 1em; text-align: center; vertical-align: top\">79732</td>\n",
       "        <td style=\"padding-left: 1em; padding-right: 1em; text-align: center; vertical-align: top\">1587168</td>\n",
       "        <td style=\"padding-left: 1em; padding-right: 1em; text-align: center; vertical-align: top\">0.030897513032</td>\n",
       "        <td style=\"padding-left: 1em; padding-right: 1em; text-align: center; vertical-align: top\">2</td>\n",
       "    </tr>\n",
       "    <tr>\n",
       "        <td style=\"padding-left: 1em; padding-right: 1em; text-align: center; vertical-align: top\">79732</td>\n",
       "        <td style=\"padding-left: 1em; padding-right: 1em; text-align: center; vertical-align: top\">1450555</td>\n",
       "        <td style=\"padding-left: 1em; padding-right: 1em; text-align: center; vertical-align: top\">0.0276162102818</td>\n",
       "        <td style=\"padding-left: 1em; padding-right: 1em; text-align: center; vertical-align: top\">3</td>\n",
       "    </tr>\n",
       "    <tr>\n",
       "        <td style=\"padding-left: 1em; padding-right: 1em; text-align: center; vertical-align: top\">79732</td>\n",
       "        <td style=\"padding-left: 1em; padding-right: 1em; text-align: center; vertical-align: top\">1361007</td>\n",
       "        <td style=\"padding-left: 1em; padding-right: 1em; text-align: center; vertical-align: top\">0.0262891165912</td>\n",
       "        <td style=\"padding-left: 1em; padding-right: 1em; text-align: center; vertical-align: top\">4</td>\n",
       "    </tr>\n",
       "    <tr>\n",
       "        <td style=\"padding-left: 1em; padding-right: 1em; text-align: center; vertical-align: top\">79732</td>\n",
       "        <td style=\"padding-left: 1em; padding-right: 1em; text-align: center; vertical-align: top\">242785</td>\n",
       "        <td style=\"padding-left: 1em; padding-right: 1em; text-align: center; vertical-align: top\">0.0259638763964</td>\n",
       "        <td style=\"padding-left: 1em; padding-right: 1em; text-align: center; vertical-align: top\">5</td>\n",
       "    </tr>\n",
       "    <tr>\n",
       "        <td style=\"padding-left: 1em; padding-right: 1em; text-align: center; vertical-align: top\">79732</td>\n",
       "        <td style=\"padding-left: 1em; padding-right: 1em; text-align: center; vertical-align: top\">1359927</td>\n",
       "        <td style=\"padding-left: 1em; padding-right: 1em; text-align: center; vertical-align: top\">0.0256631523371</td>\n",
       "        <td style=\"padding-left: 1em; padding-right: 1em; text-align: center; vertical-align: top\">6</td>\n",
       "    </tr>\n",
       "    <tr>\n",
       "        <td style=\"padding-left: 1em; padding-right: 1em; text-align: center; vertical-align: top\">79732</td>\n",
       "        <td style=\"padding-left: 1em; padding-right: 1em; text-align: center; vertical-align: top\">74260</td>\n",
       "        <td style=\"padding-left: 1em; padding-right: 1em; text-align: center; vertical-align: top\">0.0256156809628</td>\n",
       "        <td style=\"padding-left: 1em; padding-right: 1em; text-align: center; vertical-align: top\">7</td>\n",
       "    </tr>\n",
       "    <tr>\n",
       "        <td style=\"padding-left: 1em; padding-right: 1em; text-align: center; vertical-align: top\">79732</td>\n",
       "        <td style=\"padding-left: 1em; padding-right: 1em; text-align: center; vertical-align: top\">1187003</td>\n",
       "        <td style=\"padding-left: 1em; padding-right: 1em; text-align: center; vertical-align: top\">0.0248263273388</td>\n",
       "        <td style=\"padding-left: 1em; padding-right: 1em; text-align: center; vertical-align: top\">8</td>\n",
       "    </tr>\n",
       "    <tr>\n",
       "        <td style=\"padding-left: 1em; padding-right: 1em; text-align: center; vertical-align: top\">79732</td>\n",
       "        <td style=\"padding-left: 1em; padding-right: 1em; text-align: center; vertical-align: top\">5764967</td>\n",
       "        <td style=\"padding-left: 1em; padding-right: 1em; text-align: center; vertical-align: top\">0.0238802488893</td>\n",
       "        <td style=\"padding-left: 1em; padding-right: 1em; text-align: center; vertical-align: top\">9</td>\n",
       "    </tr>\n",
       "    <tr>\n",
       "        <td style=\"padding-left: 1em; padding-right: 1em; text-align: center; vertical-align: top\">79732</td>\n",
       "        <td style=\"padding-left: 1em; padding-right: 1em; text-align: center; vertical-align: top\">2606952</td>\n",
       "        <td style=\"padding-left: 1em; padding-right: 1em; text-align: center; vertical-align: top\">0.0237387046218</td>\n",
       "        <td style=\"padding-left: 1em; padding-right: 1em; text-align: center; vertical-align: top\">10</td>\n",
       "    </tr>\n",
       "</table>\n",
       "[10 rows x 4 columns]<br/>\n",
       "</div>"
      ],
      "text/plain": [
       "Columns:\n",
       "\tuserId\tint\n",
       "\treleaseId\tint\n",
       "\tscore\tfloat\n",
       "\trank\tint\n",
       "\n",
       "Rows: 10\n",
       "\n",
       "Data:\n",
       "+--------+-----------+-----------------+------+\n",
       "| userId | releaseId |      score      | rank |\n",
       "+--------+-----------+-----------------+------+\n",
       "| 79732  |  4570366  | 0.0367681011558 |  1   |\n",
       "| 79732  |  1587168  |  0.030897513032 |  2   |\n",
       "| 79732  |  1450555  | 0.0276162102818 |  3   |\n",
       "| 79732  |  1361007  | 0.0262891165912 |  4   |\n",
       "| 79732  |   242785  | 0.0259638763964 |  5   |\n",
       "| 79732  |  1359927  | 0.0256631523371 |  6   |\n",
       "| 79732  |   74260   | 0.0256156809628 |  7   |\n",
       "| 79732  |  1187003  | 0.0248263273388 |  8   |\n",
       "| 79732  |  5764967  | 0.0238802488893 |  9   |\n",
       "| 79732  |  2606952  | 0.0237387046218 |  10  |\n",
       "+--------+-----------+-----------------+------+\n",
       "[10 rows x 4 columns]"
      ]
     },
     "execution_count": 41,
     "metadata": {},
     "output_type": "execute_result"
    }
   ],
   "source": [
    "item_similarity_model_ials.recommend(users=[unique_users[1]])"
   ]
  },
  {
   "cell_type": "code",
   "execution_count": 42,
   "metadata": {
    "collapsed": false
   },
   "outputs": [
    {
     "data": {
      "text/html": [
       "<div style=\"max-height:1000px;max-width:1500px;overflow:auto;\"><table frame=\"box\" rules=\"cols\">\n",
       "    <tr>\n",
       "        <th style=\"padding-left: 1em; padding-right: 1em; text-align: center\">userId</th>\n",
       "        <th style=\"padding-left: 1em; padding-right: 1em; text-align: center\">releaseId</th>\n",
       "        <th style=\"padding-left: 1em; padding-right: 1em; text-align: center\">score</th>\n",
       "        <th style=\"padding-left: 1em; padding-right: 1em; text-align: center\">rank</th>\n",
       "    </tr>\n",
       "    <tr>\n",
       "        <td style=\"padding-left: 1em; padding-right: 1em; text-align: center; vertical-align: top\">7899</td>\n",
       "        <td style=\"padding-left: 1em; padding-right: 1em; text-align: center; vertical-align: top\">4570366</td>\n",
       "        <td style=\"padding-left: 1em; padding-right: 1em; text-align: center; vertical-align: top\">0.0263876877725</td>\n",
       "        <td style=\"padding-left: 1em; padding-right: 1em; text-align: center; vertical-align: top\">1</td>\n",
       "    </tr>\n",
       "    <tr>\n",
       "        <td style=\"padding-left: 1em; padding-right: 1em; text-align: center; vertical-align: top\">7899</td>\n",
       "        <td style=\"padding-left: 1em; padding-right: 1em; text-align: center; vertical-align: top\">1587168</td>\n",
       "        <td style=\"padding-left: 1em; padding-right: 1em; text-align: center; vertical-align: top\">0.0249807834625</td>\n",
       "        <td style=\"padding-left: 1em; padding-right: 1em; text-align: center; vertical-align: top\">2</td>\n",
       "    </tr>\n",
       "    <tr>\n",
       "        <td style=\"padding-left: 1em; padding-right: 1em; text-align: center; vertical-align: top\">7899</td>\n",
       "        <td style=\"padding-left: 1em; padding-right: 1em; text-align: center; vertical-align: top\">1361007</td>\n",
       "        <td style=\"padding-left: 1em; padding-right: 1em; text-align: center; vertical-align: top\">0.0221428461373</td>\n",
       "        <td style=\"padding-left: 1em; padding-right: 1em; text-align: center; vertical-align: top\">3</td>\n",
       "    </tr>\n",
       "    <tr>\n",
       "        <td style=\"padding-left: 1em; padding-right: 1em; text-align: center; vertical-align: top\">7899</td>\n",
       "        <td style=\"padding-left: 1em; padding-right: 1em; text-align: center; vertical-align: top\">1450555</td>\n",
       "        <td style=\"padding-left: 1em; padding-right: 1em; text-align: center; vertical-align: top\">0.0209820382297</td>\n",
       "        <td style=\"padding-left: 1em; padding-right: 1em; text-align: center; vertical-align: top\">4</td>\n",
       "    </tr>\n",
       "    <tr>\n",
       "        <td style=\"padding-left: 1em; padding-right: 1em; text-align: center; vertical-align: top\">7899</td>\n",
       "        <td style=\"padding-left: 1em; padding-right: 1em; text-align: center; vertical-align: top\">1359927</td>\n",
       "        <td style=\"padding-left: 1em; padding-right: 1em; text-align: center; vertical-align: top\">0.0207548420876</td>\n",
       "        <td style=\"padding-left: 1em; padding-right: 1em; text-align: center; vertical-align: top\">5</td>\n",
       "    </tr>\n",
       "    <tr>\n",
       "        <td style=\"padding-left: 1em; padding-right: 1em; text-align: center; vertical-align: top\">7899</td>\n",
       "        <td style=\"padding-left: 1em; padding-right: 1em; text-align: center; vertical-align: top\">5764967</td>\n",
       "        <td style=\"padding-left: 1em; padding-right: 1em; text-align: center; vertical-align: top\">0.0200974363834</td>\n",
       "        <td style=\"padding-left: 1em; padding-right: 1em; text-align: center; vertical-align: top\">6</td>\n",
       "    </tr>\n",
       "    <tr>\n",
       "        <td style=\"padding-left: 1em; padding-right: 1em; text-align: center; vertical-align: top\">7899</td>\n",
       "        <td style=\"padding-left: 1em; padding-right: 1em; text-align: center; vertical-align: top\">1187003</td>\n",
       "        <td style=\"padding-left: 1em; padding-right: 1em; text-align: center; vertical-align: top\">0.0197860337794</td>\n",
       "        <td style=\"padding-left: 1em; padding-right: 1em; text-align: center; vertical-align: top\">7</td>\n",
       "    </tr>\n",
       "    <tr>\n",
       "        <td style=\"padding-left: 1em; padding-right: 1em; text-align: center; vertical-align: top\">7899</td>\n",
       "        <td style=\"padding-left: 1em; padding-right: 1em; text-align: center; vertical-align: top\">2093841</td>\n",
       "        <td style=\"padding-left: 1em; padding-right: 1em; text-align: center; vertical-align: top\">0.0181937236339</td>\n",
       "        <td style=\"padding-left: 1em; padding-right: 1em; text-align: center; vertical-align: top\">8</td>\n",
       "    </tr>\n",
       "    <tr>\n",
       "        <td style=\"padding-left: 1em; padding-right: 1em; text-align: center; vertical-align: top\">7899</td>\n",
       "        <td style=\"padding-left: 1em; padding-right: 1em; text-align: center; vertical-align: top\">2173833</td>\n",
       "        <td style=\"padding-left: 1em; padding-right: 1em; text-align: center; vertical-align: top\">0.0180593822151</td>\n",
       "        <td style=\"padding-left: 1em; padding-right: 1em; text-align: center; vertical-align: top\">9</td>\n",
       "    </tr>\n",
       "    <tr>\n",
       "        <td style=\"padding-left: 1em; padding-right: 1em; text-align: center; vertical-align: top\">7899</td>\n",
       "        <td style=\"padding-left: 1em; padding-right: 1em; text-align: center; vertical-align: top\">2940876</td>\n",
       "        <td style=\"padding-left: 1em; padding-right: 1em; text-align: center; vertical-align: top\">0.0176099278033</td>\n",
       "        <td style=\"padding-left: 1em; padding-right: 1em; text-align: center; vertical-align: top\">10</td>\n",
       "    </tr>\n",
       "</table>\n",
       "[10 rows x 4 columns]<br/>\n",
       "</div>"
      ],
      "text/plain": [
       "Columns:\n",
       "\tuserId\tint\n",
       "\treleaseId\tint\n",
       "\tscore\tfloat\n",
       "\trank\tint\n",
       "\n",
       "Rows: 10\n",
       "\n",
       "Data:\n",
       "+--------+-----------+-----------------+------+\n",
       "| userId | releaseId |      score      | rank |\n",
       "+--------+-----------+-----------------+------+\n",
       "|  7899  |  4570366  | 0.0263876877725 |  1   |\n",
       "|  7899  |  1587168  | 0.0249807834625 |  2   |\n",
       "|  7899  |  1361007  | 0.0221428461373 |  3   |\n",
       "|  7899  |  1450555  | 0.0209820382297 |  4   |\n",
       "|  7899  |  1359927  | 0.0207548420876 |  5   |\n",
       "|  7899  |  5764967  | 0.0200974363834 |  6   |\n",
       "|  7899  |  1187003  | 0.0197860337794 |  7   |\n",
       "|  7899  |  2093841  | 0.0181937236339 |  8   |\n",
       "|  7899  |  2173833  | 0.0180593822151 |  9   |\n",
       "|  7899  |  2940876  | 0.0176099278033 |  10  |\n",
       "+--------+-----------+-----------------+------+\n",
       "[10 rows x 4 columns]"
      ]
     },
     "execution_count": 42,
     "metadata": {},
     "output_type": "execute_result"
    }
   ],
   "source": [
    "item_similarity_model_ials.recommend(users=[unique_users[2]])"
   ]
  },
  {
   "cell_type": "code",
   "execution_count": 43,
   "metadata": {
    "collapsed": false
   },
   "outputs": [
    {
     "data": {
      "text/html": [
       "<div style=\"max-height:1000px;max-width:1500px;overflow:auto;\"><table frame=\"box\" rules=\"cols\">\n",
       "    <tr>\n",
       "        <th style=\"padding-left: 1em; padding-right: 1em; text-align: center\">userId</th>\n",
       "        <th style=\"padding-left: 1em; padding-right: 1em; text-align: center\">releaseId</th>\n",
       "        <th style=\"padding-left: 1em; padding-right: 1em; text-align: center\">score</th>\n",
       "        <th style=\"padding-left: 1em; padding-right: 1em; text-align: center\">rank</th>\n",
       "    </tr>\n",
       "    <tr>\n",
       "        <td style=\"padding-left: 1em; padding-right: 1em; text-align: center; vertical-align: top\">25263</td>\n",
       "        <td style=\"padding-left: 1em; padding-right: 1em; text-align: center; vertical-align: top\">1279</td>\n",
       "        <td style=\"padding-left: 1em; padding-right: 1em; text-align: center; vertical-align: top\">0.302890717983</td>\n",
       "        <td style=\"padding-left: 1em; padding-right: 1em; text-align: center; vertical-align: top\">1</td>\n",
       "    </tr>\n",
       "    <tr>\n",
       "        <td style=\"padding-left: 1em; padding-right: 1em; text-align: center; vertical-align: top\">25263</td>\n",
       "        <td style=\"padding-left: 1em; padding-right: 1em; text-align: center; vertical-align: top\">1039</td>\n",
       "        <td style=\"padding-left: 1em; padding-right: 1em; text-align: center; vertical-align: top\">0.299767792225</td>\n",
       "        <td style=\"padding-left: 1em; padding-right: 1em; text-align: center; vertical-align: top\">2</td>\n",
       "    </tr>\n",
       "    <tr>\n",
       "        <td style=\"padding-left: 1em; padding-right: 1em; text-align: center; vertical-align: top\">25263</td>\n",
       "        <td style=\"padding-left: 1em; padding-right: 1em; text-align: center; vertical-align: top\">2231</td>\n",
       "        <td style=\"padding-left: 1em; padding-right: 1em; text-align: center; vertical-align: top\">0.28274551034</td>\n",
       "        <td style=\"padding-left: 1em; padding-right: 1em; text-align: center; vertical-align: top\">3</td>\n",
       "    </tr>\n",
       "    <tr>\n",
       "        <td style=\"padding-left: 1em; padding-right: 1em; text-align: center; vertical-align: top\">25263</td>\n",
       "        <td style=\"padding-left: 1em; padding-right: 1em; text-align: center; vertical-align: top\">140</td>\n",
       "        <td style=\"padding-left: 1em; padding-right: 1em; text-align: center; vertical-align: top\">0.275118231773</td>\n",
       "        <td style=\"padding-left: 1em; padding-right: 1em; text-align: center; vertical-align: top\">4</td>\n",
       "    </tr>\n",
       "    <tr>\n",
       "        <td style=\"padding-left: 1em; padding-right: 1em; text-align: center; vertical-align: top\">25263</td>\n",
       "        <td style=\"padding-left: 1em; padding-right: 1em; text-align: center; vertical-align: top\">11375</td>\n",
       "        <td style=\"padding-left: 1em; padding-right: 1em; text-align: center; vertical-align: top\">0.271989405155</td>\n",
       "        <td style=\"padding-left: 1em; padding-right: 1em; text-align: center; vertical-align: top\">5</td>\n",
       "    </tr>\n",
       "    <tr>\n",
       "        <td style=\"padding-left: 1em; padding-right: 1em; text-align: center; vertical-align: top\">25263</td>\n",
       "        <td style=\"padding-left: 1em; padding-right: 1em; text-align: center; vertical-align: top\">946</td>\n",
       "        <td style=\"padding-left: 1em; padding-right: 1em; text-align: center; vertical-align: top\">0.267859756947</td>\n",
       "        <td style=\"padding-left: 1em; padding-right: 1em; text-align: center; vertical-align: top\">6</td>\n",
       "    </tr>\n",
       "    <tr>\n",
       "        <td style=\"padding-left: 1em; padding-right: 1em; text-align: center; vertical-align: top\">25263</td>\n",
       "        <td style=\"padding-left: 1em; padding-right: 1em; text-align: center; vertical-align: top\">3224</td>\n",
       "        <td style=\"padding-left: 1em; padding-right: 1em; text-align: center; vertical-align: top\">0.258689761162</td>\n",
       "        <td style=\"padding-left: 1em; padding-right: 1em; text-align: center; vertical-align: top\">7</td>\n",
       "    </tr>\n",
       "    <tr>\n",
       "        <td style=\"padding-left: 1em; padding-right: 1em; text-align: center; vertical-align: top\">25263</td>\n",
       "        <td style=\"padding-left: 1em; padding-right: 1em; text-align: center; vertical-align: top\">2258</td>\n",
       "        <td style=\"padding-left: 1em; padding-right: 1em; text-align: center; vertical-align: top\">0.254996418953</td>\n",
       "        <td style=\"padding-left: 1em; padding-right: 1em; text-align: center; vertical-align: top\">8</td>\n",
       "    </tr>\n",
       "    <tr>\n",
       "        <td style=\"padding-left: 1em; padding-right: 1em; text-align: center; vertical-align: top\">25263</td>\n",
       "        <td style=\"padding-left: 1em; padding-right: 1em; text-align: center; vertical-align: top\">139</td>\n",
       "        <td style=\"padding-left: 1em; padding-right: 1em; text-align: center; vertical-align: top\">0.253149390221</td>\n",
       "        <td style=\"padding-left: 1em; padding-right: 1em; text-align: center; vertical-align: top\">9</td>\n",
       "    </tr>\n",
       "    <tr>\n",
       "        <td style=\"padding-left: 1em; padding-right: 1em; text-align: center; vertical-align: top\">25263</td>\n",
       "        <td style=\"padding-left: 1em; padding-right: 1em; text-align: center; vertical-align: top\">236605</td>\n",
       "        <td style=\"padding-left: 1em; padding-right: 1em; text-align: center; vertical-align: top\">0.24516877532</td>\n",
       "        <td style=\"padding-left: 1em; padding-right: 1em; text-align: center; vertical-align: top\">10</td>\n",
       "    </tr>\n",
       "</table>\n",
       "[10 rows x 4 columns]<br/>\n",
       "</div>"
      ],
      "text/plain": [
       "Columns:\n",
       "\tuserId\tint\n",
       "\treleaseId\tint\n",
       "\tscore\tfloat\n",
       "\trank\tint\n",
       "\n",
       "Rows: 10\n",
       "\n",
       "Data:\n",
       "+--------+-----------+----------------+------+\n",
       "| userId | releaseId |     score      | rank |\n",
       "+--------+-----------+----------------+------+\n",
       "| 25263  |    1279   | 0.302890717983 |  1   |\n",
       "| 25263  |    1039   | 0.299767792225 |  2   |\n",
       "| 25263  |    2231   | 0.28274551034  |  3   |\n",
       "| 25263  |    140    | 0.275118231773 |  4   |\n",
       "| 25263  |   11375   | 0.271989405155 |  5   |\n",
       "| 25263  |    946    | 0.267859756947 |  6   |\n",
       "| 25263  |    3224   | 0.258689761162 |  7   |\n",
       "| 25263  |    2258   | 0.254996418953 |  8   |\n",
       "| 25263  |    139    | 0.253149390221 |  9   |\n",
       "| 25263  |   236605  | 0.24516877532  |  10  |\n",
       "+--------+-----------+----------------+------+\n",
       "[10 rows x 4 columns]"
      ]
     },
     "execution_count": 43,
     "metadata": {},
     "output_type": "execute_result"
    }
   ],
   "source": [
    "item_similarity_model_ials.recommend(users=[unique_users[3]])"
   ]
  },
  {
   "cell_type": "code",
   "execution_count": 49,
   "metadata": {
    "collapsed": false
   },
   "outputs": [
    {
     "name": "stdout",
     "output_type": "stream",
     "text": [
      "Jeff Mills The Purpose Maker\n",
      "Jeff Mills Steampit EP\n",
      "Millsart Mecca EP\n",
      "Jeff Mills Force Universelle EP\n",
      "Laurent Garnier Crispy Bacon (Part 1)\n",
      "Jeff Mills Java EP\n",
      "Jeff Mills The Other Day EP\n",
      "Plastikman Spastik\n",
      "Jeff Mills Skin Deep EP\n",
      "Daft Punk Homework\n"
     ]
    }
   ],
   "source": [
    "for release in item_similarity_model_ials.recommend(users=[unique_users[3]])[0:10]:\n",
    "    get_release_name(release['releaseId'])"
   ]
  },
  {
   "cell_type": "markdown",
   "metadata": {},
   "source": [
    "## This model is personalised and recommends in the same genre"
   ]
  },
  {
   "cell_type": "code",
   "execution_count": 50,
   "metadata": {
    "collapsed": false
   },
   "outputs": [
    {
     "name": "stdout",
     "output_type": "stream",
     "text": [
      "Burial Untrue\n",
      "Burial Burial\n",
      "Burial Street Halo\n",
      "Burial Kindred\n",
      "Joy Orbison Hyph Mngo / Wet Look\n",
      "Skream Midnight Request Line / I\n",
      "Burial Truant\n",
      "Loefah Disko Rekah / All Of A Sudden\n",
      "Mala (4) Left Leg Out / Blue Notez\n",
      "Boards Of Canada Tomorrow's Harvest\n"
     ]
    }
   ],
   "source": [
    "for release in item_similarity_model_ials.recommend(users=[unique_users[4]])[0:10]:\n",
    "    get_release_name(release['releaseId'])"
   ]
  },
  {
   "cell_type": "code",
   "execution_count": 51,
   "metadata": {
    "collapsed": false
   },
   "outputs": [
    {
     "name": "stdout",
     "output_type": "stream",
     "text": [
      "Fleetwood Mac Rumours\n",
      "Pink Floyd The Dark Side Of The Moon\n",
      "Bruce Springsteen Born In The U.S.A.\n",
      "Michael Jackson Thriller\n",
      "Prince And The Revolution Purple Rain\n",
      "The Cars The Cars\n",
      "Billy Joel The Stranger\n",
      "Daft Punk Random Access Memories\n",
      "Neil Young Harvest\n",
      "Jack White (2) Lazaretto\n"
     ]
    }
   ],
   "source": [
    "for release in item_similarity_model_ials.recommend(users=[unique_users[5]])[0:10]:\n",
    "    get_release_name(release['releaseId'])"
   ]
  },
  {
   "cell_type": "code",
   "execution_count": 52,
   "metadata": {
    "collapsed": false
   },
   "outputs": [
    {
     "name": "stdout",
     "output_type": "stream",
     "text": [
      "Daft Punk Random Access Memories\n",
      "Fleetwood Mac Rumours\n",
      "Michael Jackson Thriller\n",
      "Pink Floyd The Dark Side Of The Moon\n",
      "Billy Joel The Stranger\n",
      "Bruce Springsteen Born In The U.S.A.\n",
      "Prince And The Revolution Purple Rain\n",
      "Boards Of Canada Tomorrow's Harvest\n",
      "Huey Lewis & The News Sports\n",
      "Peter Frampton Frampton Comes Alive!\n"
     ]
    }
   ],
   "source": [
    "for release in item_similarity_model_ials.recommend(users=[unique_users[6]])[0:10]:\n",
    "    get_release_name(release['releaseId'])"
   ]
  },
  {
   "cell_type": "code",
   "execution_count": 53,
   "metadata": {
    "collapsed": false
   },
   "outputs": [
    {
     "name": "stdout",
     "output_type": "stream",
     "text": [
      "Godspeed You Black Emperor! Lift Your Skinny Fists Like Antennas To Heaven\n",
      "Talking Heads Talking Heads: 77\n",
      "Talking Heads More Songs About Buildings And Food\n",
      "Devo Q: Are We Not Men? A: We Are Devo!\n",
      "Talking Heads Remain In Light\n",
      "Talking Heads Fear Of Music\n",
      "Devo Freedom Of Choice\n",
      "Fleet Foxes Fleet Foxes\n",
      "Radiohead OK Computer\n",
      "The Replacements Let It Be\n"
     ]
    }
   ],
   "source": [
    "for release in item_similarity_model_ials.recommend(users=[unique_users[7]])[0:10]:\n",
    "    get_release_name(release['releaseId'])"
   ]
  },
  {
   "cell_type": "code",
   "execution_count": null,
   "metadata": {
    "collapsed": true
   },
   "outputs": [],
   "source": []
  }
 ],
 "metadata": {
  "kernelspec": {
   "display_name": "Python 2",
   "language": "python",
   "name": "python2"
  },
  "language_info": {
   "codemirror_mode": {
    "name": "ipython",
    "version": 2
   },
   "file_extension": ".py",
   "mimetype": "text/x-python",
   "name": "python",
   "nbconvert_exporter": "python",
   "pygments_lexer": "ipython2",
   "version": "2.7.13"
  }
 },
 "nbformat": 4,
 "nbformat_minor": 2
}
