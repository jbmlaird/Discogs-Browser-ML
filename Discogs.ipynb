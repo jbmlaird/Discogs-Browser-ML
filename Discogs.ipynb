{
 "cells": [
  {
   "cell_type": "code",
   "execution_count": 3,
   "metadata": {
    "collapsed": true,
    "deletable": true,
    "editable": true
   },
   "outputs": [],
   "source": [
    "import graphlab"
   ]
  },
  {
   "cell_type": "code",
   "execution_count": 13,
   "metadata": {
    "collapsed": false,
    "deletable": true,
    "editable": true
   },
   "outputs": [
    {
     "data": {
      "text/html": [
       "<pre>Finished parsing file G:\\Git\\DiscogsML\\discogs.csv</pre>"
      ],
      "text/plain": [
       "Finished parsing file G:\\Git\\DiscogsML\\discogs.csv"
      ]
     },
     "metadata": {},
     "output_type": "display_data"
    },
    {
     "data": {
      "text/html": [
       "<pre>Parsing completed. Parsed 100 lines in 0.411899 secs.</pre>"
      ],
      "text/plain": [
       "Parsing completed. Parsed 100 lines in 0.411899 secs."
      ]
     },
     "metadata": {},
     "output_type": "display_data"
    },
    {
     "name": "stdout",
     "output_type": "stream",
     "text": [
      "------------------------------------------------------\n",
      "Inferred types from first 100 line(s) of file as \n",
      "column_type_hints=[long,long,long,long]\n",
      "If parsing fails due to incorrect types, you can correct\n",
      "the inferred type list above and pass it to read_csv in\n",
      "the column_type_hints argument\n",
      "------------------------------------------------------\n"
     ]
    },
    {
     "data": {
      "text/html": [
       "<pre>Read 3167069 lines. Lines per second: 4.31065e+006</pre>"
      ],
      "text/plain": [
       "Read 3167069 lines. Lines per second: 4.31065e+006"
      ]
     },
     "metadata": {},
     "output_type": "display_data"
    },
    {
     "data": {
      "text/html": [
       "<pre>Read 50268723 lines. Lines per second: 8.74316e+006</pre>"
      ],
      "text/plain": [
       "Read 50268723 lines. Lines per second: 8.74316e+006"
      ]
     },
     "metadata": {},
     "output_type": "display_data"
    },
    {
     "data": {
      "text/html": [
       "<pre>Finished parsing file G:\\Git\\DiscogsML\\discogs.csv</pre>"
      ],
      "text/plain": [
       "Finished parsing file G:\\Git\\DiscogsML\\discogs.csv"
      ]
     },
     "metadata": {},
     "output_type": "display_data"
    },
    {
     "data": {
      "text/html": [
       "<pre>Parsing completed. Parsed 90023677 lines in 9.99956 secs.</pre>"
      ],
      "text/plain": [
       "Parsing completed. Parsed 90023677 lines in 9.99956 secs."
      ]
     },
     "metadata": {},
     "output_type": "display_data"
    }
   ],
   "source": [
    "discogs_frame = graphlab.SFrame('discogs.csv')"
   ]
  },
  {
   "cell_type": "markdown",
   "metadata": {},
   "source": [
    "## Rating: 0 unrated, 1-5 rated\n",
    "\n",
    "## Category: 0 = collection, 1 = wantlist, 2 = for sale"
   ]
  },
  {
   "cell_type": "code",
   "execution_count": 14,
   "metadata": {
    "collapsed": false,
    "deletable": true,
    "editable": true
   },
   "outputs": [
    {
     "data": {
      "text/html": [
       "<div style=\"max-height:1000px;max-width:1500px;overflow:auto;\"><table frame=\"box\" rules=\"cols\">\n",
       "    <tr>\n",
       "        <th style=\"padding-left: 1em; padding-right: 1em; text-align: center\">userId</th>\n",
       "        <th style=\"padding-left: 1em; padding-right: 1em; text-align: center\">releaseId</th>\n",
       "        <th style=\"padding-left: 1em; padding-right: 1em; text-align: center\">rating</th>\n",
       "        <th style=\"padding-left: 1em; padding-right: 1em; text-align: center\">category</th>\n",
       "    </tr>\n",
       "    <tr>\n",
       "        <td style=\"padding-left: 1em; padding-right: 1em; text-align: center; vertical-align: top\">1</td>\n",
       "        <td style=\"padding-left: 1em; padding-right: 1em; text-align: center; vertical-align: top\">31435</td>\n",
       "        <td style=\"padding-left: 1em; padding-right: 1em; text-align: center; vertical-align: top\">0</td>\n",
       "        <td style=\"padding-left: 1em; padding-right: 1em; text-align: center; vertical-align: top\">0</td>\n",
       "    </tr>\n",
       "    <tr>\n",
       "        <td style=\"padding-left: 1em; padding-right: 1em; text-align: center; vertical-align: top\">1</td>\n",
       "        <td style=\"padding-left: 1em; padding-right: 1em; text-align: center; vertical-align: top\">77503</td>\n",
       "        <td style=\"padding-left: 1em; padding-right: 1em; text-align: center; vertical-align: top\">0</td>\n",
       "        <td style=\"padding-left: 1em; padding-right: 1em; text-align: center; vertical-align: top\">0</td>\n",
       "    </tr>\n",
       "    <tr>\n",
       "        <td style=\"padding-left: 1em; padding-right: 1em; text-align: center; vertical-align: top\">1</td>\n",
       "        <td style=\"padding-left: 1em; padding-right: 1em; text-align: center; vertical-align: top\">19282</td>\n",
       "        <td style=\"padding-left: 1em; padding-right: 1em; text-align: center; vertical-align: top\">0</td>\n",
       "        <td style=\"padding-left: 1em; padding-right: 1em; text-align: center; vertical-align: top\">0</td>\n",
       "    </tr>\n",
       "    <tr>\n",
       "        <td style=\"padding-left: 1em; padding-right: 1em; text-align: center; vertical-align: top\">1</td>\n",
       "        <td style=\"padding-left: 1em; padding-right: 1em; text-align: center; vertical-align: top\">71232</td>\n",
       "        <td style=\"padding-left: 1em; padding-right: 1em; text-align: center; vertical-align: top\">0</td>\n",
       "        <td style=\"padding-left: 1em; padding-right: 1em; text-align: center; vertical-align: top\">0</td>\n",
       "    </tr>\n",
       "    <tr>\n",
       "        <td style=\"padding-left: 1em; padding-right: 1em; text-align: center; vertical-align: top\">1</td>\n",
       "        <td style=\"padding-left: 1em; padding-right: 1em; text-align: center; vertical-align: top\">83485</td>\n",
       "        <td style=\"padding-left: 1em; padding-right: 1em; text-align: center; vertical-align: top\">0</td>\n",
       "        <td style=\"padding-left: 1em; padding-right: 1em; text-align: center; vertical-align: top\">0</td>\n",
       "    </tr>\n",
       "    <tr>\n",
       "        <td style=\"padding-left: 1em; padding-right: 1em; text-align: center; vertical-align: top\">1</td>\n",
       "        <td style=\"padding-left: 1em; padding-right: 1em; text-align: center; vertical-align: top\">32466</td>\n",
       "        <td style=\"padding-left: 1em; padding-right: 1em; text-align: center; vertical-align: top\">0</td>\n",
       "        <td style=\"padding-left: 1em; padding-right: 1em; text-align: center; vertical-align: top\">0</td>\n",
       "    </tr>\n",
       "    <tr>\n",
       "        <td style=\"padding-left: 1em; padding-right: 1em; text-align: center; vertical-align: top\">1</td>\n",
       "        <td style=\"padding-left: 1em; padding-right: 1em; text-align: center; vertical-align: top\">5471</td>\n",
       "        <td style=\"padding-left: 1em; padding-right: 1em; text-align: center; vertical-align: top\">5</td>\n",
       "        <td style=\"padding-left: 1em; padding-right: 1em; text-align: center; vertical-align: top\">0</td>\n",
       "    </tr>\n",
       "    <tr>\n",
       "        <td style=\"padding-left: 1em; padding-right: 1em; text-align: center; vertical-align: top\">1</td>\n",
       "        <td style=\"padding-left: 1em; padding-right: 1em; text-align: center; vertical-align: top\">5482</td>\n",
       "        <td style=\"padding-left: 1em; padding-right: 1em; text-align: center; vertical-align: top\">0</td>\n",
       "        <td style=\"padding-left: 1em; padding-right: 1em; text-align: center; vertical-align: top\">0</td>\n",
       "    </tr>\n",
       "    <tr>\n",
       "        <td style=\"padding-left: 1em; padding-right: 1em; text-align: center; vertical-align: top\">1</td>\n",
       "        <td style=\"padding-left: 1em; padding-right: 1em; text-align: center; vertical-align: top\">10372</td>\n",
       "        <td style=\"padding-left: 1em; padding-right: 1em; text-align: center; vertical-align: top\">0</td>\n",
       "        <td style=\"padding-left: 1em; padding-right: 1em; text-align: center; vertical-align: top\">0</td>\n",
       "    </tr>\n",
       "    <tr>\n",
       "        <td style=\"padding-left: 1em; padding-right: 1em; text-align: center; vertical-align: top\">1</td>\n",
       "        <td style=\"padding-left: 1em; padding-right: 1em; text-align: center; vertical-align: top\">13148</td>\n",
       "        <td style=\"padding-left: 1em; padding-right: 1em; text-align: center; vertical-align: top\">0</td>\n",
       "        <td style=\"padding-left: 1em; padding-right: 1em; text-align: center; vertical-align: top\">1</td>\n",
       "    </tr>\n",
       "</table>\n",
       "[90023677 rows x 4 columns]<br/>Note: Only the head of the SFrame is printed.<br/>You can use print_rows(num_rows=m, num_columns=n) to print more rows and columns.\n",
       "</div>"
      ],
      "text/plain": [
       "Columns:\n",
       "\tuserId\tint\n",
       "\treleaseId\tint\n",
       "\trating\tint\n",
       "\tcategory\tint\n",
       "\n",
       "Rows: 90023677\n",
       "\n",
       "Data:\n",
       "+--------+-----------+--------+----------+\n",
       "| userId | releaseId | rating | category |\n",
       "+--------+-----------+--------+----------+\n",
       "|   1    |   31435   |   0    |    0     |\n",
       "|   1    |   77503   |   0    |    0     |\n",
       "|   1    |   19282   |   0    |    0     |\n",
       "|   1    |   71232   |   0    |    0     |\n",
       "|   1    |   83485   |   0    |    0     |\n",
       "|   1    |   32466   |   0    |    0     |\n",
       "|   1    |    5471   |   5    |    0     |\n",
       "|   1    |    5482   |   0    |    0     |\n",
       "|   1    |   10372   |   0    |    0     |\n",
       "|   1    |   13148   |   0    |    1     |\n",
       "+--------+-----------+--------+----------+\n",
       "[90023677 rows x 4 columns]\n",
       "Note: Only the head of the SFrame is printed.\n",
       "You can use print_rows(num_rows=m, num_columns=n) to print more rows and columns."
      ]
     },
     "execution_count": 14,
     "metadata": {},
     "output_type": "execute_result"
    }
   ],
   "source": [
    "discogs_frame.rename({'1':'userId', '63257':'releaseId', '0':'rating','0.1':'category'}) # Lost a row here renaming. Add it later"
   ]
  },
  {
   "cell_type": "code",
   "execution_count": 16,
   "metadata": {
    "collapsed": false,
    "deletable": true,
    "editable": true
   },
   "outputs": [
    {
     "data": {
      "application/javascript": [
       "$(\"head\").append($(\"<link/>\").attr({\n",
       "  rel:  \"stylesheet\",\n",
       "  type: \"text/css\",\n",
       "  href: \"//cdnjs.cloudflare.com/ajax/libs/font-awesome/4.1.0/css/font-awesome.min.css\"\n",
       "}));\n",
       "$(\"head\").append($(\"<link/>\").attr({\n",
       "  rel:  \"stylesheet\",\n",
       "  type: \"text/css\",\n",
       "  href: \"https://static.turi.com/products/graphlab-create/2.1/canvas/css/canvas.css\"\n",
       "}));\n",
       "\n",
       "            (function(){\n",
       "\n",
       "                var e = null;\n",
       "                if (typeof element == 'undefined') {\n",
       "                    var scripts = document.getElementsByTagName('script');\n",
       "                    var thisScriptTag = scripts[scripts.length-1];\n",
       "                    var parentDiv = thisScriptTag.parentNode;\n",
       "                    e = document.createElement('div');\n",
       "                    parentDiv.appendChild(e);\n",
       "                } else {\n",
       "                    e = element[0];\n",
       "                }\n",
       "\n",
       "                if (typeof requirejs !== 'undefined') {\n",
       "                    // disable load timeout; ipython_app.js is large and can take a while to load.\n",
       "                    requirejs.config({waitSeconds: 0});\n",
       "                }\n",
       "\n",
       "                require(['https://static.turi.com/products/graphlab-create/2.1/canvas/js/ipython_app.js'], function(IPythonApp){\n",
       "                    var app = new IPythonApp();\n",
       "                    app.attachView('sframe','Summary', {\"ipython\": true, \"sketch\": {\"category\": {\"std\": 0.5984266658308584, \"complete\": true, \"min\": 0.0, \"max\": 2.0, \"quantile\": [0.0, 0.0, 0.0, 0.0, 0.0, 0.0, 0.0, 0.0, 0.0, 0.0, 0.0, 0.0, 0.0, 0.0, 0.0, 0.0, 0.0, 0.0, 0.0, 0.0, 0.0, 0.0, 0.0, 0.0, 0.0, 0.0, 0.0, 0.0, 0.0, 0.0, 0.0, 0.0, 0.0, 0.0, 0.0, 0.0, 0.0, 0.0, 0.0, 0.0, 0.0, 0.0, 0.0, 0.0, 0.0, 0.0, 0.0, 0.0, 0.0, 0.0, 0.0, 0.0, 0.0, 0.0, 0.0, 0.0, 0.0, 0.0, 0.0, 0.0, 0.0, 0.0, 0.0, 0.0, 0.0, 0.0, 0.0, 0.0, 0.0, 0.0, 0.0, 0.0, 0.0, 0.0, 0.0, 0.0, 0.0, 0.0, 0.0, 0.0, 1.0, 1.0, 1.0, 1.0, 1.0, 1.0, 1.0, 1.0, 1.0, 1.0, 1.0, 1.0, 2.0, 2.0, 2.0, 2.0, 2.0, 2.0, 2.0, 2.0, 2.0], \"median\": 0.0, \"numeric\": true, \"num_unique\": 3, \"num_undefined\": 0, \"var\": 0.35811447437743776, \"progress\": 1.0, \"size\": 90023677, \"frequent_items\": {\"0\": {\"frequency\": 72416864, \"value\": 0}, \"1\": {\"frequency\": 10460823, \"value\": 1}, \"2\": {\"frequency\": 7145990, \"value\": 2}}, \"mean\": 0.2749588088919999}, \"releaseId\": {\"std\": 59785484.447321594, \"complete\": true, \"min\": 1.0, \"max\": 469203102.0, \"quantile\": [1.0, 5137.0, 12321.0, 21086.0, 29114.0, 39467.0, 49623.0, 62002.0, 73958.0, 87472.0, 102975.0, 118470.0, 134620.0, 152339.0, 172746.0, 191885.0, 213203.0, 233613.0, 255701.0, 306049.0, 338498.0, 368825.0, 384330.0, 403351.0, 429219.0, 453291.0, 482541.0, 511121.0, 542782.0, 572425.0, 605328.0, 640368.0, 680889.0, 717925.0, 757358.0, 799855.0, 844386.0, 891552.0, 944143.0, 995392.0, 1045294.0, 1089623.0, 1134418.0, 1185221.0, 1238184.0, 1291604.0, 1339844.0, 1388893.0, 1442972.0, 1497118.0, 1551701.0, 1604031.0, 1662297.0, 1721720.0, 1781220.0, 1842075.0, 1905269.0, 1972071.0, 2037769.0, 2111500.0, 2179592.0, 2258181.0, 2335059.0, 2416899.0, 2503871.0, 2582844.0, 2666714.0, 2765882.0, 2855555.0, 2947969.0, 3051780.0, 3157924.0, 3274292.0, 3385469.0, 3508702.0, 3626887.0, 3756304.0, 3904236.0, 4048349.0, 4216199.0, 4377460.0, 4546674.0, 4721440.0, 4919218.0, 5122479.0, 5351233.0, 5605790.0, 5838854.0, 6136641.0, 6477926.0, 6902950.0, 7474861.0, 8475363.0, 46806943.0, 101734852.0, 152884126.0, 199377698.0, 231578181.0, 273996144.0, 320166478.0, 469203102.0], \"median\": 1551701.0, \"numeric\": true, \"num_unique\": 12185898, \"num_undefined\": 0, \"var\": 3574304150600932.0, \"progress\": 1.0, \"size\": 90023677, \"frequent_items\": {\"4570366\": {\"frequency\": 9655, \"value\": 4570366}}, \"mean\": 17124126.10718907}, \"userId\": {\"std\": 60978.43099952879, \"complete\": true, \"min\": 1.0, \"max\": 212660.0, \"quantile\": [1.0, 1703.0, 4106.0, 7471.0, 11094.0, 14085.0, 15871.0, 18115.0, 19512.0, 23326.0, 23326.0, 26723.0, 28937.0, 31250.0, 33535.0, 36137.0, 38127.0, 39692.0, 42288.0, 45421.0, 46965.0, 50433.0, 50433.0, 53623.0, 55800.0, 56849.0, 58467.0, 60288.0, 61983.0, 64140.0, 66519.0, 68510.0, 70758.0, 71241.0, 74734.0, 78017.0, 78017.0, 81311.0, 83024.0, 85013.0, 87065.0, 88871.0, 91934.0, 93660.0, 95076.0, 97254.0, 100385.0, 103818.0, 103818.0, 107802.0, 109315.0, 111647.0, 113663.0, 115647.0, 117396.0, 120093.0, 122601.0, 125077.0, 128232.0, 128232.0, 131669.0, 135168.0, 136102.0, 138002.0, 139967.0, 141957.0, 144460.0, 147052.0, 149071.0, 150237.0, 152237.0, 153997.0, 156942.0, 156942.0, 160054.0, 162132.0, 163980.0, 165834.0, 168230.0, 169352.0, 171852.0, 175500.0, 177039.0, 179264.0, 181966.0, 181966.0, 185128.0, 186601.0, 188638.0, 190861.0, 192474.0, 195037.0, 196941.0, 199062.0, 201350.0, 202460.0, 203287.0, 206309.0, 209415.0, 211612.0, 212660.0], \"median\": 109315.0, \"numeric\": true, \"num_unique\": 214674, \"num_undefined\": 0, \"var\": 3718369047.164294, \"progress\": 1.0, \"size\": 90023677, \"frequent_items\": {\"47104\": {\"frequency\": 21320, \"value\": 47104}, \"167949\": {\"frequency\": 10933, \"value\": 167949}, \"75792\": {\"frequency\": 10924, \"value\": 75792}, \"55324\": {\"frequency\": 12479, \"value\": 55324}, \"65578\": {\"frequency\": 8683, \"value\": 65578}, \"116788\": {\"frequency\": 11748, \"value\": 116788}, \"69704\": {\"frequency\": 10363, \"value\": 69704}, \"147529\": {\"frequency\": 19799, \"value\": 147529}, \"155724\": {\"frequency\": 9415, \"value\": 155724}, \"36946\": {\"frequency\": 24856, \"value\": 36946}, \"94292\": {\"frequency\": 10573, \"value\": 94292}, \"12374\": {\"frequency\": 10577, \"value\": 12374}, \"113337\": {\"frequency\": 14058, \"value\": 113337}, \"77916\": {\"frequency\": 9292, \"value\": 77916}, \"34909\": {\"frequency\": 12579, \"value\": 34909}, \"153694\": {\"frequency\": 16502, \"value\": 153694}, \"188518\": {\"frequency\": 11450, \"value\": 188518}, \"24679\": {\"frequency\": 13085, \"value\": 24679}, \"165993\": {\"frequency\": 10072, \"value\": 165993}, \"49258\": {\"frequency\": 17426, \"value\": 49258}, \"163958\": {\"frequency\": 15236, \"value\": 163958}, \"166249\": {\"frequency\": 13067, \"value\": 166249}, \"57464\": {\"frequency\": 14156, \"value\": 57464}, \"168058\": {\"frequency\": 40864, \"value\": 168058}, \"190587\": {\"frequency\": 9481, \"value\": 190587}, \"196738\": {\"frequency\": 17626, \"value\": 196738}, \"200847\": {\"frequency\": 9465, \"value\": 200847}, \"120980\": {\"frequency\": 10385, \"value\": 120980}, \"96964\": {\"frequency\": 16071, \"value\": 96964}, \"59558\": {\"frequency\": 10023, \"value\": 59558}, \"53415\": {\"frequency\": 16334, \"value\": 53415}, \"82091\": {\"frequency\": 32377, \"value\": 82091}, \"100525\": {\"frequency\": 9228, \"value\": 100525}, \"24753\": {\"frequency\": 10421, \"value\": 24753}, \"61622\": {\"frequency\": 15972, \"value\": 61622}, \"55480\": {\"frequency\": 10243, \"value\": 55480}, \"143548\": {\"frequency\": 13036, \"value\": 143548}, \"20671\": {\"frequency\": 11115, \"value\": 20671}, \"131265\": {\"frequency\": 9489, \"value\": 131265}, \"184514\": {\"frequency\": 13524, \"value\": 184514}, \"128033\": {\"frequency\": 8533, \"value\": 128033}, \"141687\": {\"frequency\": 11107, \"value\": 141687}, \"202957\": {\"frequency\": 12393, \"value\": 202957}, \"59598\": {\"frequency\": 12469, \"value\": 59598}, \"157675\": {\"frequency\": 10308, \"value\": 157675}, \"180436\": {\"frequency\": 12541, \"value\": 180436}, \"174296\": {\"frequency\": 15242, \"value\": 174296}, \"192729\": {\"frequency\": 12778, \"value\": 192729}, \"86234\": {\"frequency\": 15687, \"value\": 86234}, \"192731\": {\"frequency\": 21984, \"value\": 192731}, \"188638\": {\"frequency\": 10819, \"value\": 188638}, \"184543\": {\"frequency\": 13016, \"value\": 184543}, \"133345\": {\"frequency\": 9689, \"value\": 133345}, \"202980\": {\"frequency\": 12647, \"value\": 202980}, \"76007\": {\"frequency\": 14004, \"value\": 76007}, \"78061\": {\"frequency\": 14244, \"value\": 78061}, \"14717\": {\"frequency\": 11562, \"value\": 14717}, \"162032\": {\"frequency\": 9530, \"value\": 162032}, \"114931\": {\"frequency\": 11086, \"value\": 114931}, \"145655\": {\"frequency\": 14839, \"value\": 145655}, \"92411\": {\"frequency\": 15495, \"value\": 92411}, \"15744\": {\"frequency\": 32608, \"value\": 15744}, \"28937\": {\"frequency\": 18603, \"value\": 28937}, \"76048\": {\"frequency\": 10366, \"value\": 76048}, \"129312\": {\"frequency\": 13027, \"value\": 129312}, \"28963\": {\"frequency\": 8168, \"value\": 28963}, \"151844\": {\"frequency\": 8362, \"value\": 151844}, \"63782\": {\"frequency\": 9155, \"value\": 63782}, \"202460\": {\"frequency\": 9102, \"value\": 202460}, \"190764\": {\"frequency\": 11236, \"value\": 190764}, \"302\": {\"frequency\": 35348, \"value\": 302}, \"162098\": {\"frequency\": 10910, \"value\": 162098}, \"158003\": {\"frequency\": 8471, \"value\": 158003}, \"90422\": {\"frequency\": 13633, \"value\": 90422}, \"71993\": {\"frequency\": 16329, \"value\": 71993}, \"108859\": {\"frequency\": 10277, \"value\": 108859}, \"194877\": {\"frequency\": 9211, \"value\": 194877}, \"162115\": {\"frequency\": 10161, \"value\": 162115}, \"180558\": {\"frequency\": 11588, \"value\": 180558}, \"55632\": {\"frequency\": 10761, \"value\": 55632}, \"211283\": {\"frequency\": 13987, \"value\": 211283}, \"162132\": {\"frequency\": 11948, \"value\": 162132}, \"203094\": {\"frequency\": 8912, \"value\": 203094}, \"106844\": {\"frequency\": 9842, \"value\": 106844}, \"55645\": {\"frequency\": 12552, \"value\": 55645}, \"46825\": {\"frequency\": 11893, \"value\": 46825}, \"201062\": {\"frequency\": 30411, \"value\": 201062}, \"6504\": {\"frequency\": 12688, \"value\": 6504}, \"24937\": {\"frequency\": 10165, \"value\": 24937}, \"203116\": {\"frequency\": 16418, \"value\": 203116}, \"98669\": {\"frequency\": 9768, \"value\": 98669}, \"147829\": {\"frequency\": 18147, \"value\": 147829}, \"8567\": {\"frequency\": 13156, \"value\": 8567}, \"65917\": {\"frequency\": 10592, \"value\": 65917}, \"382\": {\"frequency\": 10221, \"value\": 382}, \"47488\": {\"frequency\": 9331, \"value\": 47488}, \"125313\": {\"frequency\": 10866, \"value\": 125313}, \"191211\": {\"frequency\": 31918, \"value\": 191211}, \"98692\": {\"frequency\": 16132, \"value\": 98692}, \"4486\": {\"frequency\": 11444, \"value\": 4486}, \"74121\": {\"frequency\": 9581, \"value\": 74121}, \"96651\": {\"frequency\": 11332, \"value\": 96651}, \"153997\": {\"frequency\": 92282, \"value\": 153997}, \"45456\": {\"frequency\": 9787, \"value\": 45456}, \"119185\": {\"frequency\": 14701, \"value\": 119185}, \"403\": {\"frequency\": 8672, \"value\": 403}, \"94620\": {\"frequency\": 10009, \"value\": 94620}, \"87109\": {\"frequency\": 10657, \"value\": 87109}, \"63908\": {\"frequency\": 21671, \"value\": 63908}, \"172456\": {\"frequency\": 12637, \"value\": 172456}, \"127401\": {\"frequency\": 12776, \"value\": 127401}, \"190897\": {\"frequency\": 9824, \"value\": 190897}, \"51637\": {\"frequency\": 32065, \"value\": 51637}, \"108986\": {\"frequency\": 19199, \"value\": 108986}, \"121280\": {\"frequency\": 11086, \"value\": 121280}, \"199110\": {\"frequency\": 9118, \"value\": 199110}, \"174537\": {\"frequency\": 18486, \"value\": 174537}, \"205266\": {\"frequency\": 9011, \"value\": 205266}, \"203219\": {\"frequency\": 14409, \"value\": 203219}, \"131546\": {\"frequency\": 12467, \"value\": 131546}, \"113119\": {\"frequency\": 9727, \"value\": 113119}, \"33255\": {\"frequency\": 11974, \"value\": 33255}, \"113128\": {\"frequency\": 9154, \"value\": 113128}, \"125417\": {\"frequency\": 10405, \"value\": 125417}, \"172524\": {\"frequency\": 10309, \"value\": 172524}, \"16882\": {\"frequency\": 9909, \"value\": 16882}, \"131573\": {\"frequency\": 11167, \"value\": 131573}, \"203265\": {\"frequency\": 16479, \"value\": 203265}, \"80395\": {\"frequency\": 14681, \"value\": 80395}, \"113168\": {\"frequency\": 17552, \"value\": 113168}, \"53778\": {\"frequency\": 16824, \"value\": 53778}, \"29207\": {\"frequency\": 8994, \"value\": 29207}, \"72217\": {\"frequency\": 9799, \"value\": 72217}, \"211489\": {\"frequency\": 9406, \"value\": 211489}, \"55844\": {\"frequency\": 22701, \"value\": 55844}, \"164396\": {\"frequency\": 9941, \"value\": 164396}, \"178735\": {\"frequency\": 9280, \"value\": 178735}, \"92723\": {\"frequency\": 10547, \"value\": 92723}, \"566\": {\"frequency\": 19623, \"value\": 566}, \"143934\": {\"frequency\": 9854, \"value\": 143934}, \"92742\": {\"frequency\": 20810, \"value\": 92742}, \"12871\": {\"frequency\": 21546, \"value\": 12871}, \"53835\": {\"frequency\": 10128, \"value\": 53835}, \"86604\": {\"frequency\": 13027, \"value\": 86604}, \"2637\": {\"frequency\": 13747, \"value\": 2637}, \"169963\": {\"frequency\": 16137, \"value\": 169963}, \"203344\": {\"frequency\": 13278, \"value\": 203344}, \"156771\": {\"frequency\": 20053, \"value\": 156771}, \"131669\": {\"frequency\": 12032, \"value\": 131669}, \"88664\": {\"frequency\": 14521, \"value\": 88664}, \"137818\": {\"frequency\": 8906, \"value\": 137818}, \"209506\": {\"frequency\": 10191, \"value\": 209506}, \"53865\": {\"frequency\": 9047, \"value\": 53865}, \"189034\": {\"frequency\": 10043, \"value\": 189034}, \"2151\": {\"frequency\": 14316, \"value\": 2151}, \"115308\": {\"frequency\": 20411, \"value\": 115308}, \"139887\": {\"frequency\": 9999, \"value\": 139887}, \"129648\": {\"frequency\": 11592, \"value\": 129648}, \"626\": {\"frequency\": 9634, \"value\": 626}, \"185790\": {\"frequency\": 12072, \"value\": 185790}, \"78457\": {\"frequency\": 11592, \"value\": 78457}, \"184955\": {\"frequency\": 8985, \"value\": 184955}, \"49789\": {\"frequency\": 14638, \"value\": 49789}, \"154048\": {\"frequency\": 9599, \"value\": 154048}, \"113282\": {\"frequency\": 9499, \"value\": 113282}, \"176771\": {\"frequency\": 11854, \"value\": 176771}, \"156293\": {\"frequency\": 14676, \"value\": 156293}, \"103047\": {\"frequency\": 9189, \"value\": 103047}, \"139912\": {\"frequency\": 12078, \"value\": 139912}, \"4748\": {\"frequency\": 16527, \"value\": 4748}, \"86669\": {\"frequency\": 12663, \"value\": 86669}, \"180878\": {\"frequency\": 10056, \"value\": 180878}, \"203407\": {\"frequency\": 22610, \"value\": 203407}, \"162449\": {\"frequency\": 21742, \"value\": 162449}, \"129683\": {\"frequency\": 19880, \"value\": 129683}, \"103060\": {\"frequency\": 9808, \"value\": 103060}, \"203415\": {\"frequency\": 12481, \"value\": 203415}, \"68250\": {\"frequency\": 11627, \"value\": 68250}, \"92827\": {\"frequency\": 14197, \"value\": 92827}, \"80542\": {\"frequency\": 9907, \"value\": 80542}, \"19103\": {\"frequency\": 10767, \"value\": 19103}, \"21155\": {\"frequency\": 14759, \"value\": 21155}, \"144036\": {\"frequency\": 14850, \"value\": 144036}, \"86695\": {\"frequency\": 22088, \"value\": 86695}, \"105132\": {\"frequency\": 14504, \"value\": 105132}, \"152237\": {\"frequency\": 11157, \"value\": 152237}, \"117423\": {\"frequency\": 14374, \"value\": 117423}, \"17077\": {\"frequency\": 9691, \"value\": 17077}, \"96953\": {\"frequency\": 11380, \"value\": 96953}, \"150206\": {\"frequency\": 14742, \"value\": 150206}, \"139967\": {\"frequency\": 10239, \"value\": 139967}, \"205507\": {\"frequency\": 9393, \"value\": 205507}, \"131780\": {\"frequency\": 24991, \"value\": 131780}, \"211655\": {\"frequency\": 10763, \"value\": 211655}, \"198064\": {\"frequency\": 70382, \"value\": 198064}, \"45790\": {\"frequency\": 24387, \"value\": 45790}, \"207584\": {\"frequency\": 10762, \"value\": 207584}, \"21221\": {\"frequency\": 22206, \"value\": 21221}, \"58086\": {\"frequency\": 11612, \"value\": 58086}, \"29417\": {\"frequency\": 11045, \"value\": 29417}, \"78571\": {\"frequency\": 14160, \"value\": 78571}, \"180977\": {\"frequency\": 10177, \"value\": 180977}, \"162546\": {\"frequency\": 11759, \"value\": 162546}, \"185081\": {\"frequency\": 10252, \"value\": 185081}, \"209660\": {\"frequency\": 10145, \"value\": 209660}, \"140036\": {\"frequency\": 12391, \"value\": 140036}, \"203525\": {\"frequency\": 9400, \"value\": 203525}, \"117511\": {\"frequency\": 12367, \"value\": 117511}, \"137995\": {\"frequency\": 14525, \"value\": 137995}, \"17166\": {\"frequency\": 16484, \"value\": 17166}, \"37678\": {\"frequency\": 9397, \"value\": 37678}, \"43800\": {\"frequency\": 13682, \"value\": 43800}, \"43801\": {\"frequency\": 11151, \"value\": 43801}, \"99100\": {\"frequency\": 14901, \"value\": 99100}, \"41434\": {\"frequency\": 9315, \"value\": 41434}, \"54047\": {\"frequency\": 11142, \"value\": 54047}, \"185122\": {\"frequency\": 11565, \"value\": 185122}, \"76588\": {\"frequency\": 9757, \"value\": 76588}, \"121646\": {\"frequency\": 16268, \"value\": 121646}, \"140081\": {\"frequency\": 11843, \"value\": 140081}, \"45876\": {\"frequency\": 14637, \"value\": 45876}, \"133946\": {\"frequency\": 23573, \"value\": 133946}, \"11068\": {\"frequency\": 12900, \"value\": 11068}, \"166717\": {\"frequency\": 9457, \"value\": 166717}, \"203586\": {\"frequency\": 9716, \"value\": 203586}, \"29507\": {\"frequency\": 8787, \"value\": 29507}, \"133958\": {\"frequency\": 22277, \"value\": 133958}, \"148967\": {\"frequency\": 10178, \"value\": 148967}, \"123720\": {\"frequency\": 13042, \"value\": 123720}, \"172874\": {\"frequency\": 9387, \"value\": 172874}, \"121682\": {\"frequency\": 9349, \"value\": 121682}, \"195414\": {\"frequency\": 9455, \"value\": 195414}, \"156503\": {\"frequency\": 10465, \"value\": 156503}, \"47960\": {\"frequency\": 16654, \"value\": 47960}, \"70489\": {\"frequency\": 19426, \"value\": 70489}, \"84826\": {\"frequency\": 9823, \"value\": 84826}, \"211805\": {\"frequency\": 13842, \"value\": 211805}, \"70495\": {\"frequency\": 10243, \"value\": 70495}, \"31589\": {\"frequency\": 9344, \"value\": 31589}, \"31590\": {\"frequency\": 10482, \"value\": 31590}, \"60903\": {\"frequency\": 9171, \"value\": 60903}, \"168813\": {\"frequency\": 14300, \"value\": 168813}, \"60271\": {\"frequency\": 25995, \"value\": 60271}, \"72168\": {\"frequency\": 8875, \"value\": 72168}, \"41842\": {\"frequency\": 12162, \"value\": 41842}, \"64371\": {\"frequency\": 69276, \"value\": 64371}, \"187254\": {\"frequency\": 10955, \"value\": 187254}, \"191352\": {\"frequency\": 14139, \"value\": 191352}, \"144251\": {\"frequency\": 11224, \"value\": 144251}, \"203645\": {\"frequency\": 11916, \"value\": 203645}, \"60292\": {\"frequency\": 20011, \"value\": 60292}, \"207758\": {\"frequency\": 8894, \"value\": 207758}, \"103314\": {\"frequency\": 13580, \"value\": 103314}, \"168852\": {\"frequency\": 21191, \"value\": 168852}, \"183792\": {\"frequency\": 14706, \"value\": 183792}, \"29603\": {\"frequency\": 13622, \"value\": 29603}, \"109477\": {\"frequency\": 15155, \"value\": 109477}, \"204273\": {\"frequency\": 10134, \"value\": 204273}, \"166830\": {\"frequency\": 14241, \"value\": 166830}, \"78770\": {\"frequency\": 20077, \"value\": 78770}, \"148407\": {\"frequency\": 11429, \"value\": 148407}, \"86970\": {\"frequency\": 9404, \"value\": 86970}, \"211902\": {\"frequency\": 11388, \"value\": 211902}, \"144319\": {\"frequency\": 11322, \"value\": 144319}, \"33730\": {\"frequency\": 10483, \"value\": 33730}, \"3023\": {\"frequency\": 11692, \"value\": 3023}, \"211922\": {\"frequency\": 11276, \"value\": 211922}, \"138200\": {\"frequency\": 9681, \"value\": 138200}, \"3037\": {\"frequency\": 12868, \"value\": 3037}, \"158695\": {\"frequency\": 8983, \"value\": 158695}, \"52204\": {\"frequency\": 9914, \"value\": 52204}, \"187393\": {\"frequency\": 34263, \"value\": 187393}, \"3079\": {\"frequency\": 15124, \"value\": 3079}, \"197641\": {\"frequency\": 13626, \"value\": 197641}, \"19473\": {\"frequency\": 21863, \"value\": 19473}, \"154651\": {\"frequency\": 8265, \"value\": 154651}, \"181277\": {\"frequency\": 22758, \"value\": 181277}, \"140321\": {\"frequency\": 11120, \"value\": 140321}, \"82989\": {\"frequency\": 18834, \"value\": 82989}, \"66608\": {\"frequency\": 10601, \"value\": 66608}, \"35890\": {\"frequency\": 16684, \"value\": 35890}, \"177204\": {\"frequency\": 11273, \"value\": 177204}, \"20318\": {\"frequency\": 17019, \"value\": 20318}, \"99387\": {\"frequency\": 10140, \"value\": 99387}, \"166972\": {\"frequency\": 13716, \"value\": 166972}, \"150597\": {\"frequency\": 9974, \"value\": 150597}, \"17484\": {\"frequency\": 9082, \"value\": 17484}, \"1102\": {\"frequency\": 13301, \"value\": 1102}, \"17494\": {\"frequency\": 10105, \"value\": 17494}, \"1117\": {\"frequency\": 50212, \"value\": 1117}, \"76898\": {\"frequency\": 11572, \"value\": 76898}, \"58467\": {\"frequency\": 28292, \"value\": 58467}, \"132200\": {\"frequency\": 43573, \"value\": 132200}, \"156786\": {\"frequency\": 16303, \"value\": 156786}, \"33910\": {\"frequency\": 17013, \"value\": 33910}, \"46200\": {\"frequency\": 62709, \"value\": 46200}, \"35961\": {\"frequency\": 21264, \"value\": 35961}, \"193659\": {\"frequency\": 12047, \"value\": 193659}, \"40073\": {\"frequency\": 9941, \"value\": 40073}, \"197143\": {\"frequency\": 11626, \"value\": 197143}, \"93326\": {\"frequency\": 9678, \"value\": 93326}, \"76947\": {\"frequency\": 15314, \"value\": 76947}, \"136341\": {\"frequency\": 13698, \"value\": 136341}, \"19611\": {\"frequency\": 10160, \"value\": 19611}, \"185505\": {\"frequency\": 10120, \"value\": 185505}, \"183459\": {\"frequency\": 12864, \"value\": 183459}, \"177326\": {\"frequency\": 13759, \"value\": 177326}, \"205683\": {\"frequency\": 17716, \"value\": 205683}, \"38073\": {\"frequency\": 10947, \"value\": 38073}, \"154810\": {\"frequency\": 12183, \"value\": 154810}, \"36042\": {\"frequency\": 49826, \"value\": 36042}, \"160974\": {\"frequency\": 15123, \"value\": 160974}, \"103633\": {\"frequency\": 24732, \"value\": 103633}, \"107734\": {\"frequency\": 13830, \"value\": 107734}, \"6009\": {\"frequency\": 10251, \"value\": 6009}, \"68824\": {\"frequency\": 11406, \"value\": 68824}, \"93402\": {\"frequency\": 13076, \"value\": 93402}, \"54493\": {\"frequency\": 15735, \"value\": 54493}, \"70882\": {\"frequency\": 11848, \"value\": 70882}, \"66787\": {\"frequency\": 10337, \"value\": 66787}, \"177380\": {\"frequency\": 9735, \"value\": 177380}, \"115942\": {\"frequency\": 9412, \"value\": 115942}, \"113899\": {\"frequency\": 82601, \"value\": 113899}, \"107756\": {\"frequency\": 10943, \"value\": 107756}, \"200574\": {\"frequency\": 11364, \"value\": 200574}, \"161016\": {\"frequency\": 17100, \"value\": 161016}, \"191737\": {\"frequency\": 9873, \"value\": 191737}, \"173318\": {\"frequency\": 35575, \"value\": 173318}, \"138507\": {\"frequency\": 11741, \"value\": 138507}, \"83217\": {\"frequency\": 10151, \"value\": 83217}, \"59267\": {\"frequency\": 10076, \"value\": 59267}, \"99204\": {\"frequency\": 13211, \"value\": 99204}, \"118049\": {\"frequency\": 12030, \"value\": 118049}, \"30939\": {\"frequency\": 23268, \"value\": 30939}, \"183592\": {\"frequency\": 8800, \"value\": 183592}, \"105769\": {\"frequency\": 9633, \"value\": 105769}, \"156972\": {\"frequency\": 11191, \"value\": 156972}, \"42286\": {\"frequency\": 15497, \"value\": 42286}, \"42288\": {\"frequency\": 16628, \"value\": 42288}, \"50484\": {\"frequency\": 8940, \"value\": 50484}, \"52534\": {\"frequency\": 10262, \"value\": 52534}, \"202042\": {\"frequency\": 16757, \"value\": 202042}, \"13627\": {\"frequency\": 22589, \"value\": 13627}, \"185661\": {\"frequency\": 12367, \"value\": 185661}, \"19774\": {\"frequency\": 13477, \"value\": 19774}, \"46399\": {\"frequency\": 9322, \"value\": 46399}, \"15694\": {\"frequency\": 10787, \"value\": 15694}, \"138467\": {\"frequency\": 9483, \"value\": 138467}, \"169870\": {\"frequency\": 13701, \"value\": 169870}, \"89433\": {\"frequency\": 24559, \"value\": 89433}, \"79204\": {\"frequency\": 13699, \"value\": 79204}, \"148841\": {\"frequency\": 29804, \"value\": 148841}, \"200043\": {\"frequency\": 19535, \"value\": 200043}, \"1388\": {\"frequency\": 10629, \"value\": 1388}, \"50541\": {\"frequency\": 8943, \"value\": 50541}, \"109939\": {\"frequency\": 15264, \"value\": 109939}, \"60800\": {\"frequency\": 11550, \"value\": 60800}, \"28033\": {\"frequency\": 8429, \"value\": 28033}, \"83331\": {\"frequency\": 13412, \"value\": 83331}, \"78881\": {\"frequency\": 13114, \"value\": 78881}, \"71058\": {\"frequency\": 11084, \"value\": 71058}, \"42391\": {\"frequency\": 10944, \"value\": 42391}, \"136601\": {\"frequency\": 13850, \"value\": 136601}, \"202991\": {\"frequency\": 9713, \"value\": 202991}, \"38469\": {\"frequency\": 10421, \"value\": 38469}, \"148896\": {\"frequency\": 10672, \"value\": 148896}, \"32168\": {\"frequency\": 10160, \"value\": 32168}, \"136618\": {\"frequency\": 15445, \"value\": 136618}, \"189867\": {\"frequency\": 9237, \"value\": 189867}, \"167342\": {\"frequency\": 10495, \"value\": 167342}, \"202160\": {\"frequency\": 9114, \"value\": 202160}, \"107954\": {\"frequency\": 9892, \"value\": 107954}, \"58806\": {\"frequency\": 11123, \"value\": 58806}, \"148919\": {\"frequency\": 18763, \"value\": 148919}, \"193976\": {\"frequency\": 10110, \"value\": 193976}, \"85435\": {\"frequency\": 9891, \"value\": 85435}, \"1468\": {\"frequency\": 9488, \"value\": 1468}, \"52669\": {\"frequency\": 8545, \"value\": 52669}, \"81342\": {\"frequency\": 9265, \"value\": 81342}, \"36291\": {\"frequency\": 11249, \"value\": 36291}, \"181702\": {\"frequency\": 13919, \"value\": 181702}, \"130505\": {\"frequency\": 10184, \"value\": 130505}, \"153037\": {\"frequency\": 20230, \"value\": 153037}, \"15833\": {\"frequency\": 13246, \"value\": 15833}, \"93658\": {\"frequency\": 15164, \"value\": 93658}, \"91612\": {\"frequency\": 10548, \"value\": 91612}, \"181729\": {\"frequency\": 10326, \"value\": 181729}, \"48610\": {\"frequency\": 11444, \"value\": 48610}, \"34279\": {\"frequency\": 15184, \"value\": 34279}, \"155112\": {\"frequency\": 12062, \"value\": 155112}, \"116205\": {\"frequency\": 18684, \"value\": 116205}, \"30602\": {\"frequency\": 9501, \"value\": 30602}, \"93680\": {\"frequency\": 14466, \"value\": 93680}, \"138737\": {\"frequency\": 9311, \"value\": 138737}, \"67058\": {\"frequency\": 16337, \"value\": 67058}, \"185858\": {\"frequency\": 16493, \"value\": 185858}, \"144694\": {\"frequency\": 10782, \"value\": 144694}, \"24074\": {\"frequency\": 9929, \"value\": 24074}, \"183822\": {\"frequency\": 10484, \"value\": 183822}, \"28185\": {\"frequency\": 11287, \"value\": 28185}, \"200219\": {\"frequency\": 14059, \"value\": 200219}, \"32286\": {\"frequency\": 9607, \"value\": 32286}, \"20004\": {\"frequency\": 10275, \"value\": 20004}, \"42537\": {\"frequency\": 9692, \"value\": 42537}, \"58925\": {\"frequency\": 17065, \"value\": 58925}, \"136754\": {\"frequency\": 10986, \"value\": 136754}, \"126516\": {\"frequency\": 10018, \"value\": 126516}, \"161334\": {\"frequency\": 8888, \"value\": 161334}, \"118341\": {\"frequency\": 29967, \"value\": 118341}, \"48722\": {\"frequency\": 38401, \"value\": 48722}, \"65121\": {\"frequency\": 18260, \"value\": 65121}, \"169575\": {\"frequency\": 17957, \"value\": 169575}, \"181864\": {\"frequency\": 29584, \"value\": 181864}, \"190055\": {\"frequency\": 14197, \"value\": 190055}, \"65134\": {\"frequency\": 11727, \"value\": 65134}, \"147056\": {\"frequency\": 18803, \"value\": 147056}, \"138870\": {\"frequency\": 18407, \"value\": 138870}, \"63098\": {\"frequency\": 14043, \"value\": 63098}, \"3715\": {\"frequency\": 13785, \"value\": 3715}, \"97927\": {\"frequency\": 14025, \"value\": 97927}, \"183234\": {\"frequency\": 11307, \"value\": 183234}, \"132758\": {\"frequency\": 9700, \"value\": 132758}, \"108184\": {\"frequency\": 10565, \"value\": 108184}, \"28317\": {\"frequency\": 18809, \"value\": 28317}, \"159390\": {\"frequency\": 14670, \"value\": 159390}, \"112297\": {\"frequency\": 28510, \"value\": 112297}, \"33394\": {\"frequency\": 13654, \"value\": 33394}, \"26295\": {\"frequency\": 37304, \"value\": 26295}, \"202424\": {\"frequency\": 12111, \"value\": 202424}, \"181945\": {\"frequency\": 23496, \"value\": 181945}, \"28347\": {\"frequency\": 9778, \"value\": 28347}, \"198336\": {\"frequency\": 10267, \"value\": 198336}, \"196289\": {\"frequency\": 13933, \"value\": 196289}, \"153282\": {\"frequency\": 12380, \"value\": 153282}, \"194245\": {\"frequency\": 9380, \"value\": 194245}, \"26310\": {\"frequency\": 10069, \"value\": 26310}, \"159431\": {\"frequency\": 9324, \"value\": 159431}, \"203615\": {\"frequency\": 14156, \"value\": 203615}, \"24275\": {\"frequency\": 9802, \"value\": 24275}, \"106198\": {\"frequency\": 20936, \"value\": 106198}, \"77527\": {\"frequency\": 9531, \"value\": 77527}, \"124632\": {\"frequency\": 11139, \"value\": 124632}, \"182564\": {\"frequency\": 9194, \"value\": 182564}, \"136924\": {\"frequency\": 14954, \"value\": 136924}, \"179941\": {\"frequency\": 16101, \"value\": 179941}, \"85734\": {\"frequency\": 33891, \"value\": 85734}, \"126696\": {\"frequency\": 10295, \"value\": 126696}, \"59113\": {\"frequency\": 13401, \"value\": 59113}, \"36137\": {\"frequency\": 17029, \"value\": 36137}, \"155386\": {\"frequency\": 11000, \"value\": 155386}, \"87805\": {\"frequency\": 13808, \"value\": 87805}, \"191557\": {\"frequency\": 13510, \"value\": 191557}, \"36140\": {\"frequency\": 10157, \"value\": 36140}, \"139906\": {\"frequency\": 18179, \"value\": 139906}, \"147215\": {\"frequency\": 13442, \"value\": 147215}, \"186129\": {\"frequency\": 12303, \"value\": 186129}, \"160046\": {\"frequency\": 9381, \"value\": 160046}, \"65308\": {\"frequency\": 9507, \"value\": 65308}, \"163614\": {\"frequency\": 9311, \"value\": 163614}, \"141957\": {\"frequency\": 14665, \"value\": 141957}, \"36144\": {\"frequency\": 12148, \"value\": 36144}, \"210907\": {\"frequency\": 14732, \"value\": 210907}, \"55077\": {\"frequency\": 18269, \"value\": 55077}, \"153382\": {\"frequency\": 12707, \"value\": 153382}, \"55079\": {\"frequency\": 13484, \"value\": 55079}, \"151419\": {\"frequency\": 14158, \"value\": 151419}, \"24377\": {\"frequency\": 8861, \"value\": 24377}, \"94010\": {\"frequency\": 14574, \"value\": 94010}, \"157501\": {\"frequency\": 9088, \"value\": 157501}, \"157506\": {\"frequency\": 12560, \"value\": 157506}, \"85827\": {\"frequency\": 17863, \"value\": 85827}, \"85302\": {\"frequency\": 15054, \"value\": 85302}, \"165710\": {\"frequency\": 13973, \"value\": 165710}, \"77650\": {\"frequency\": 25119, \"value\": 77650}, \"161620\": {\"frequency\": 12071, \"value\": 161620}, \"55130\": {\"frequency\": 9137, \"value\": 55130}, \"132958\": {\"frequency\": 9725, \"value\": 132958}, \"26464\": {\"frequency\": 11998, \"value\": 26464}, \"208746\": {\"frequency\": 26891, \"value\": 208746}, \"147309\": {\"frequency\": 9877, \"value\": 147309}, \"200559\": {\"frequency\": 10535, \"value\": 200559}, \"110449\": {\"frequency\": 24614, \"value\": 110449}, \"130933\": {\"frequency\": 18782, \"value\": 130933}, \"108406\": {\"frequency\": 11763, \"value\": 108406}, \"59255\": {\"frequency\": 12484, \"value\": 59255}, \"73593\": {\"frequency\": 10822, \"value\": 73593}, \"24443\": {\"frequency\": 14729, \"value\": 24443}, \"101266\": {\"frequency\": 9524, \"value\": 101266}, \"94082\": {\"frequency\": 12798, \"value\": 94082}, \"65411\": {\"frequency\": 10619, \"value\": 65411}, \"49031\": {\"frequency\": 9442, \"value\": 49031}, \"79754\": {\"frequency\": 9204, \"value\": 79754}, \"112525\": {\"frequency\": 17147, \"value\": 112525}, \"151438\": {\"frequency\": 11288, \"value\": 151438}, \"108434\": {\"frequency\": 10498, \"value\": 108434}, \"180123\": {\"frequency\": 70488, \"value\": 180123}, \"14243\": {\"frequency\": 12564, \"value\": 14243}, \"90020\": {\"frequency\": 16219, \"value\": 90020}, \"126886\": {\"frequency\": 17049, \"value\": 126886}, \"196519\": {\"frequency\": 11198, \"value\": 196519}, \"14257\": {\"frequency\": 6275, \"value\": 14257}, \"26550\": {\"frequency\": 14159, \"value\": 26550}, \"155582\": {\"frequency\": 32893, \"value\": 155582}, \"81856\": {\"frequency\": 8784, \"value\": 81856}, \"153538\": {\"frequency\": 9879, \"value\": 153538}, \"100293\": {\"frequency\": 10053, \"value\": 100293}, \"81867\": {\"frequency\": 14883, \"value\": 81867}, \"28620\": {\"frequency\": 8882, \"value\": 28620}, \"10192\": {\"frequency\": 17983, \"value\": 10192}, \"8150\": {\"frequency\": 10745, \"value\": 8150}, \"69592\": {\"frequency\": 12387, \"value\": 69592}, \"180900\": {\"frequency\": 15327, \"value\": 180900}, \"49115\": {\"frequency\": 16394, \"value\": 49115}, \"192479\": {\"frequency\": 9524, \"value\": 192479}, \"186855\": {\"frequency\": 12395, \"value\": 186855}, \"206824\": {\"frequency\": 9776, \"value\": 206824}, \"85993\": {\"frequency\": 13919, \"value\": 85993}, \"55275\": {\"frequency\": 26508, \"value\": 55275}, \"92140\": {\"frequency\": 10622, \"value\": 92140}, \"129008\": {\"frequency\": 25124, \"value\": 129008}, \"126969\": {\"frequency\": 13402, \"value\": 126969}, \"208890\": {\"frequency\": 15945, \"value\": 208890}}, \"mean\": 109079.27624196584}, \"rating\": {\"std\": 1.3313573529164646, \"complete\": true, \"min\": 0.0, \"max\": 5.0, \"quantile\": [0.0, 0.0, 0.0, 0.0, 0.0, 0.0, 0.0, 0.0, 0.0, 0.0, 0.0, 0.0, 0.0, 0.0, 0.0, 0.0, 0.0, 0.0, 0.0, 0.0, 0.0, 0.0, 0.0, 0.0, 0.0, 0.0, 0.0, 0.0, 0.0, 0.0, 0.0, 0.0, 0.0, 0.0, 0.0, 0.0, 0.0, 0.0, 0.0, 0.0, 0.0, 0.0, 0.0, 0.0, 0.0, 0.0, 0.0, 0.0, 0.0, 0.0, 0.0, 0.0, 0.0, 0.0, 0.0, 0.0, 0.0, 0.0, 0.0, 0.0, 0.0, 0.0, 0.0, 0.0, 0.0, 0.0, 0.0, 0.0, 0.0, 0.0, 0.0, 0.0, 0.0, 0.0, 0.0, 0.0, 0.0, 0.0, 0.0, 0.0, 0.0, 0.0, 0.0, 0.0, 0.0, 0.0, 0.0, 0.0, 0.0, 1.0, 3.0, 3.0, 4.0, 4.0, 4.0, 5.0, 5.0, 5.0, 5.0, 5.0, 5.0], \"median\": 0.0, \"numeric\": true, \"num_unique\": 6, \"num_undefined\": 0, \"var\": 1.7725124011647355, \"progress\": 1.0, \"size\": 90023677, \"frequent_items\": {\"0\": {\"frequency\": 80385187, \"value\": 0}, \"1\": {\"frequency\": 133695, \"value\": 1}, \"2\": {\"frequency\": 342173, \"value\": 2}, \"3\": {\"frequency\": 1537875, \"value\": 3}, \"4\": {\"frequency\": 3138727, \"value\": 4}, \"5\": {\"frequency\": 4486020, \"value\": 5}}, \"mean\": 0.44895604519684856}}, \"selected_variable\": {\"name\": [\"discogs_frame\"], \"descriptives\": {\"rows\": 90023677, \"columns\": 4}, \"view_component\": \"Summary\", \"view_file\": \"sframe\", \"view_params\": {\"y\": null, \"x\": null, \"columns\": [\"userId\", \"releaseId\", \"rating\", \"category\"], \"view\": null}, \"view_components\": [\"Summary\", \"Table\", \"Bar Chart\", \"BoxWhisker Plot\", \"Line Chart\", \"Scatter Plot\", \"Heat Map\", \"Plots\"], \"type\": \"SFrame\", \"columns\": [{\"dtype\": \"int\", \"name\": \"userId\"}, {\"dtype\": \"int\", \"name\": \"releaseId\"}, {\"dtype\": \"int\", \"name\": \"rating\"}, {\"dtype\": \"int\", \"name\": \"category\"}], \"column_identifiers\": [\"category\", \"releaseId\", \"userId\", \"rating\"]}, \"columns\": [{\"dtype\": \"int\", \"name\": \"userId\"}, {\"dtype\": \"int\", \"name\": \"releaseId\"}, {\"dtype\": \"int\", \"name\": \"rating\"}, {\"dtype\": \"int\", \"name\": \"category\"}]}, e);\n",
       "                });\n",
       "            })();\n",
       "        "
      ]
     },
     "metadata": {},
     "output_type": "display_data"
    }
   ],
   "source": [
    "graphlab.canvas.set_target('ipynb')\n",
    "discogs_frame.show()"
   ]
  },
  {
   "cell_type": "markdown",
   "metadata": {
    "collapsed": false,
    "deletable": true,
    "editable": true
   },
   "source": [
    "# Find the most occuring release"
   ]
  },
  {
   "cell_type": "code",
   "execution_count": 19,
   "metadata": {
    "collapsed": false,
    "deletable": true,
    "editable": true
   },
   "outputs": [],
   "source": [
    "most_frequenct_releases = discogs_frame.groupby(key_columns={'releaseId'}, operations={'appearance_count':\n",
    "                                                           graphlab.aggregate.COUNT('releaseId')})"
   ]
  },
  {
   "cell_type": "code",
   "execution_count": 21,
   "metadata": {
    "collapsed": false
   },
   "outputs": [
    {
     "data": {
      "text/html": [
       "<div style=\"max-height:1000px;max-width:1500px;overflow:auto;\"><table frame=\"box\" rules=\"cols\">\n",
       "    <tr>\n",
       "        <th style=\"padding-left: 1em; padding-right: 1em; text-align: center\">releaseId</th>\n",
       "        <th style=\"padding-left: 1em; padding-right: 1em; text-align: center\">appearance_count</th>\n",
       "    </tr>\n",
       "    <tr>\n",
       "        <td style=\"padding-left: 1em; padding-right: 1em; text-align: center; vertical-align: top\">4570366</td>\n",
       "        <td style=\"padding-left: 1em; padding-right: 1em; text-align: center; vertical-align: top\">9825</td>\n",
       "    </tr>\n",
       "    <tr>\n",
       "        <td style=\"padding-left: 1em; padding-right: 1em; text-align: center; vertical-align: top\">526351</td>\n",
       "        <td style=\"padding-left: 1em; padding-right: 1em; text-align: center; vertical-align: top\">8443</td>\n",
       "    </tr>\n",
       "    <tr>\n",
       "        <td style=\"padding-left: 1em; padding-right: 1em; text-align: center; vertical-align: top\">367104</td>\n",
       "        <td style=\"padding-left: 1em; padding-right: 1em; text-align: center; vertical-align: top\">7276</td>\n",
       "    </tr>\n",
       "    <tr>\n",
       "        <td style=\"padding-left: 1em; padding-right: 1em; text-align: center; vertical-align: top\">2911293</td>\n",
       "        <td style=\"padding-left: 1em; padding-right: 1em; text-align: center; vertical-align: top\">7031</td>\n",
       "    </tr>\n",
       "    <tr>\n",
       "        <td style=\"padding-left: 1em; padding-right: 1em; text-align: center; vertical-align: top\">1587168</td>\n",
       "        <td style=\"padding-left: 1em; padding-right: 1em; text-align: center; vertical-align: top\">6403</td>\n",
       "    </tr>\n",
       "    <tr>\n",
       "        <td style=\"padding-left: 1em; padding-right: 1em; text-align: center; vertical-align: top\">5764967</td>\n",
       "        <td style=\"padding-left: 1em; padding-right: 1em; text-align: center; vertical-align: top\">6159</td>\n",
       "    </tr>\n",
       "    <tr>\n",
       "        <td style=\"padding-left: 1em; padding-right: 1em; text-align: center; vertical-align: top\">74260</td>\n",
       "        <td style=\"padding-left: 1em; padding-right: 1em; text-align: center; vertical-align: top\">6127</td>\n",
       "    </tr>\n",
       "    <tr>\n",
       "        <td style=\"padding-left: 1em; padding-right: 1em; text-align: center; vertical-align: top\">194021</td>\n",
       "        <td style=\"padding-left: 1em; padding-right: 1em; text-align: center; vertical-align: top\">6046</td>\n",
       "    </tr>\n",
       "    <tr>\n",
       "        <td style=\"padding-left: 1em; padding-right: 1em; text-align: center; vertical-align: top\">1343227</td>\n",
       "        <td style=\"padding-left: 1em; padding-right: 1em; text-align: center; vertical-align: top\">5748</td>\n",
       "    </tr>\n",
       "    <tr>\n",
       "        <td style=\"padding-left: 1em; padding-right: 1em; text-align: center; vertical-align: top\">242785</td>\n",
       "        <td style=\"padding-left: 1em; padding-right: 1em; text-align: center; vertical-align: top\">5455</td>\n",
       "    </tr>\n",
       "</table>\n",
       "[12189505 rows x 2 columns]<br/>Note: Only the head of the SFrame is printed.<br/>You can use print_rows(num_rows=m, num_columns=n) to print more rows and columns.\n",
       "</div>"
      ],
      "text/plain": [
       "Columns:\n",
       "\treleaseId\tint\n",
       "\tappearance_count\tint\n",
       "\n",
       "Rows: 12189505\n",
       "\n",
       "Data:\n",
       "+-----------+------------------+\n",
       "| releaseId | appearance_count |\n",
       "+-----------+------------------+\n",
       "|  4570366  |       9825       |\n",
       "|   526351  |       8443       |\n",
       "|   367104  |       7276       |\n",
       "|  2911293  |       7031       |\n",
       "|  1587168  |       6403       |\n",
       "|  5764967  |       6159       |\n",
       "|   74260   |       6127       |\n",
       "|   194021  |       6046       |\n",
       "|  1343227  |       5748       |\n",
       "|   242785  |       5455       |\n",
       "+-----------+------------------+\n",
       "[12189505 rows x 2 columns]\n",
       "Note: Only the head of the SFrame is printed.\n",
       "You can use print_rows(num_rows=m, num_columns=n) to print more rows and columns."
      ]
     },
     "execution_count": 21,
     "metadata": {},
     "output_type": "execute_result"
    }
   ],
   "source": [
    "most_frequenct_releases.sort('appearance_count', ascending=False)"
   ]
  },
  {
   "cell_type": "markdown",
   "metadata": {},
   "source": [
    "## Number of ratings"
   ]
  },
  {
   "cell_type": "code",
   "execution_count": 32,
   "metadata": {
    "collapsed": false
   },
   "outputs": [
    {
     "name": "stdout",
     "output_type": "stream",
     "text": [
      "One star ratings: 133,695\n",
      "Two star ratings: 342,173\n",
      "Three star ratings: 1,537,875\n",
      "Four star ratings: 3,138,727\n",
      "Five star ratings: 4,486,020\n"
     ]
    }
   ],
   "source": [
    "print \"One star ratings: \" + str(format(len(discogs_frame[discogs_frame['rating']==1]), \",d\"))\n",
    "print \"Two star ratings: \" + str(format(len(discogs_frame[discogs_frame['rating']==2]), \",d\"))\n",
    "print \"Three star ratings: \" + str(format(len(discogs_frame[discogs_frame['rating']==3]), \",d\"))\n",
    "print \"Four star ratings: \" + str(format(len(discogs_frame[discogs_frame['rating']==4]), \",d\"))\n",
    "print \"Five star ratings: \" + str(format(len(discogs_frame[discogs_frame['rating']==5]), \",d\"))"
   ]
  },
  {
   "cell_type": "code",
   "execution_count": 30,
   "metadata": {
    "collapsed": false
   },
   "outputs": [
    {
     "name": "stdout",
     "output_type": "stream",
     "text": [
      "Unrated: 80,385,187\n"
     ]
    }
   ],
   "source": [
    "print \"Unrated: \" + str(format(len(discogs_frame[discogs_frame['rating']==0]), \",d\"))"
   ]
  },
  {
   "cell_type": "code",
   "execution_count": null,
   "metadata": {
    "collapsed": true
   },
   "outputs": [],
   "source": []
  }
 ],
 "metadata": {
  "kernelspec": {
   "display_name": "Python 2",
   "language": "python",
   "name": "python2"
  },
  "language_info": {
   "codemirror_mode": {
    "name": "ipython",
    "version": 2
   },
   "file_extension": ".py",
   "mimetype": "text/x-python",
   "name": "python",
   "nbconvert_exporter": "python",
   "pygments_lexer": "ipython2",
   "version": "2.7.13"
  }
 },
 "nbformat": 4,
 "nbformat_minor": 2
}
